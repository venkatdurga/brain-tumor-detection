{
  "nbformat": 4,
  "nbformat_minor": 0,
  "metadata": {
    "colab": {
      "provenance": [],
      "gpuType": "T4"
    },
    "kernelspec": {
      "name": "python3",
      "display_name": "Python 3"
    },
    "language_info": {
      "name": "python"
    },
    "accelerator": "GPU"
  },
  "cells": [
    {
      "cell_type": "code",
      "source": [
        "from google.colab import drive\n",
        "drive.mount('/content/drive')"
      ],
      "metadata": {
        "id": "I7E-pRRyLoC2",
        "colab": {
          "base_uri": "https://localhost:8080/"
        },
        "outputId": "3c767717-ec76-4e8b-ecd1-46293ed70145"
      },
      "execution_count": null,
      "outputs": [
        {
          "output_type": "stream",
          "name": "stdout",
          "text": [
            "Mounted at /content/drive\n"
          ]
        }
      ]
    },
    {
      "cell_type": "code",
      "execution_count": null,
      "metadata": {
        "execution": {
          "iopub.execute_input": "2022-07-18T15:23:04.637825Z",
          "iopub.status.busy": "2022-07-18T15:23:04.636129Z",
          "iopub.status.idle": "2022-07-18T15:23:12.515140Z",
          "shell.execute_reply": "2022-07-18T15:23:12.513905Z"
        },
        "papermill": {
          "duration": 7.90764,
          "end_time": "2022-07-18T15:23:12.518050",
          "exception": false,
          "start_time": "2022-07-18T15:23:04.610410",
          "status": "completed"
        },
        "tags": [],
        "id": "9d2befb2"
      },
      "outputs": [],
      "source": [
        "%matplotlib inline\n",
        "from IPython import display\n",
        "import os\n",
        "import math\n",
        "import pandas as pd\n",
        "import matplotlib.pyplot as plt\n",
        "import numpy as np\n",
        "import tensorflow as tf\n",
        "from sklearn.metrics import *\n",
        "from tensorflow import keras\n",
        "from keras.preprocessing.image import ImageDataGenerator\n",
        "np.random.seed(42)\n",
        "tf.random.set_seed(42)"
      ]
    },
    {
      "cell_type": "code",
      "source": [
        "from tensorflow.keras import layers\n",
        "from tensorflow.keras.models import Sequential, Model\n",
        "from tensorflow.keras.layers import Dense, Dropout, Flatten, Conv2D, MaxPooling2D, GlobalAveragePooling2D\n",
        "from tensorflow.keras.optimizers import Adam"
      ],
      "metadata": {
        "id": "VgfrKw3FA9JS"
      },
      "execution_count": null,
      "outputs": []
    },
    {
      "cell_type": "markdown",
      "metadata": {
        "papermill": {
          "duration": 0.014878,
          "end_time": "2022-07-18T15:23:12.548573",
          "exception": false,
          "start_time": "2022-07-18T15:23:12.533695",
          "status": "completed"
        },
        "tags": [],
        "id": "f7d7cc90"
      },
      "source": [
        "# 2. Loads Images"
      ]
    },
    {
      "cell_type": "code",
      "execution_count": null,
      "metadata": {
        "execution": {
          "iopub.execute_input": "2022-07-18T15:23:12.580505Z",
          "iopub.status.busy": "2022-07-18T15:23:12.579419Z",
          "iopub.status.idle": "2022-07-18T15:23:12.585778Z",
          "shell.execute_reply": "2022-07-18T15:23:12.584197Z"
        },
        "papermill": {
          "duration": 0.025261,
          "end_time": "2022-07-18T15:23:12.588940",
          "exception": false,
          "start_time": "2022-07-18T15:23:12.563679",
          "status": "completed"
        },
        "tags": [],
        "id": "e87c4904"
      },
      "outputs": [],
      "source": [
        "#Setting some inital parameters\n",
        "height, width = 299, 299\n",
        "batch_size=64"
      ]
    },
    {
      "cell_type": "code",
      "execution_count": null,
      "metadata": {
        "execution": {
          "iopub.execute_input": "2022-07-18T15:23:12.619897Z",
          "iopub.status.busy": "2022-07-18T15:23:12.619526Z",
          "iopub.status.idle": "2022-07-18T15:23:13.282326Z",
          "shell.execute_reply": "2022-07-18T15:23:13.278916Z"
        },
        "papermill": {
          "duration": 0.681397,
          "end_time": "2022-07-18T15:23:13.285161",
          "exception": false,
          "start_time": "2022-07-18T15:23:12.603764",
          "status": "completed"
        },
        "tags": [],
        "colab": {
          "base_uri": "https://localhost:8080/"
        },
        "id": "b7b39d3e",
        "outputId": "adf89fa1-0e74-4192-847e-ab94d52d9cda"
      },
      "outputs": [
        {
          "output_type": "stream",
          "name": "stdout",
          "text": [
            "Found 1621 images belonging to 2 classes.\n",
            "Found 405 images belonging to 2 classes.\n",
            "\n",
            " {'No_brain_tumor_cases': 1000, 'brain_tumor_cases': 1026}\n"
          ]
        }
      ],
      "source": [
        "data_dir = '/content/drive/MyDrive/STAAR/new_Brain_tumor/train'\n",
        "def image_generator(height,width):\n",
        "    datagen = ImageDataGenerator(\n",
        "            rescale=1./255.,\n",
        "            validation_split=0.2,\n",
        "            )\n",
        "    train_ds = datagen.flow_from_directory(\n",
        "            data_dir,\n",
        "            batch_size=batch_size,\n",
        "            subset=\"training\",\n",
        "            shuffle=True,\n",
        "            class_mode='binary',\n",
        "            target_size=(height, width),\n",
        "            classes={'no': 0., 'yes': 1.}\n",
        "            )\n",
        "    val_ds = datagen.flow_from_directory(\n",
        "              data_dir,\n",
        "              subset=\"validation\",\n",
        "              class_mode='binary',\n",
        "              target_size=(height, width),\n",
        "              batch_size=batch_size,\n",
        "            classes={'no': 0., 'yes': 1.}\n",
        "            )\n",
        "    return train_ds, val_ds\n",
        "\n",
        "train_ds, val_ds = image_generator(height,width)\n",
        "\n",
        "total_image = np.concatenate([train_ds.labels,val_ds.labels])\n",
        "print('\\n',{'No_brain_tumor_cases':len(np.where(total_image==0)[0]),\n",
        "      'brain_tumor_cases':len(np.where(total_image==1)[0])})"
      ]
    },
    {
      "cell_type": "markdown",
      "metadata": {
        "papermill": {
          "duration": 0.014949,
          "end_time": "2022-07-18T15:23:13.316149",
          "exception": false,
          "start_time": "2022-07-18T15:23:13.301200",
          "status": "completed"
        },
        "tags": [],
        "id": "f1b70cca"
      },
      "source": [
        "## 3. Image demonstration"
      ]
    },
    {
      "cell_type": "code",
      "execution_count": null,
      "metadata": {
        "execution": {
          "iopub.execute_input": "2022-07-18T15:23:13.350066Z",
          "iopub.status.busy": "2022-07-18T15:23:13.348880Z",
          "iopub.status.idle": "2022-07-18T15:23:17.022572Z",
          "shell.execute_reply": "2022-07-18T15:23:17.021266Z"
        },
        "papermill": {
          "duration": 3.696634,
          "end_time": "2022-07-18T15:23:17.027946",
          "exception": false,
          "start_time": "2022-07-18T15:23:13.331312",
          "status": "completed"
        },
        "tags": [],
        "id": "77de6a69"
      },
      "outputs": [],
      "source": [
        "# fig, ax = plt.subplots(2, 4, figsize=(10, 7))\n",
        "# fig.suptitle(\"brain_tumor_pictures\")\n",
        "# for k in range(8):\n",
        "#     images, labels = train_ds.next()\n",
        "#     i, j = k//4, k%4\n",
        "#     ax[i, j].imshow(images[0])\n",
        "#     ax[i, j].set_title(f'label {int(labels[0])}')\n",
        "#     ax[i, j].axis('off')\n",
        "# plt.show()"
      ]
    },
    {
      "cell_type": "markdown",
      "metadata": {
        "papermill": {
          "duration": 0.017612,
          "end_time": "2022-07-18T15:23:17.069176",
          "exception": false,
          "start_time": "2022-07-18T15:23:17.051564",
          "status": "completed"
        },
        "tags": [],
        "id": "3bd2fe84"
      },
      "source": [
        "# 4. CNN Implementation"
      ]
    },
    {
      "cell_type": "markdown",
      "metadata": {
        "papermill": {
          "duration": 0.042176,
          "end_time": "2022-07-18T15:26:41.096254",
          "exception": false,
          "start_time": "2022-07-18T15:26:41.054078",
          "status": "completed"
        },
        "tags": [],
        "id": "c1e22a56"
      },
      "source": [
        "## 4.2 InceptionV3 + Adam\n",
        "<a class=\"anchor\" id=\"2\"></a>"
      ]
    },
    {
      "cell_type": "code",
      "execution_count": null,
      "metadata": {
        "execution": {
          "iopub.execute_input": "2022-07-18T15:26:41.184810Z",
          "iopub.status.busy": "2022-07-18T15:26:41.184213Z",
          "iopub.status.idle": "2022-07-18T15:26:47.412868Z",
          "shell.execute_reply": "2022-07-18T15:26:47.410118Z"
        },
        "papermill": {
          "duration": 6.277396,
          "end_time": "2022-07-18T15:26:47.417015",
          "exception": false,
          "start_time": "2022-07-18T15:26:41.139619",
          "status": "completed"
        },
        "tags": [],
        "id": "d3da185c",
        "outputId": "093655c1-65d1-4a25-bd64-8f19ffa37866",
        "colab": {
          "base_uri": "https://localhost:8080/"
        }
      },
      "outputs": [
        {
          "output_type": "stream",
          "name": "stdout",
          "text": [
            "Found 1621 images belonging to 2 classes.\n",
            "Found 405 images belonging to 2 classes.\n",
            "Downloading data from https://storage.googleapis.com/tensorflow/keras-applications/inception_v3/inception_v3_weights_tf_dim_ordering_tf_kernels_notop.h5\n",
            "87910968/87910968 [==============================] - 3s 0us/step\n",
            "Model: \"sequential\"\n",
            "_________________________________________________________________\n",
            " Layer (type)                Output Shape              Param #   \n",
            "=================================================================\n",
            " inception_v3 (Functional)   (None, 8, 8, 2048)        21802784  \n",
            "                                                                 \n",
            " flatten (Flatten)           (None, 131072)            0         \n",
            "                                                                 \n",
            " dense (Dense)               (None, 1)                 131073    \n",
            "                                                                 \n",
            "=================================================================\n",
            "Total params: 21,933,857\n",
            "Trainable params: 131,073\n",
            "Non-trainable params: 21,802,784\n",
            "_________________________________________________________________\n"
          ]
        }
      ],
      "source": [
        "from keras.layers.preprocessing import normalization\n",
        "# inception v3\n",
        "height = 299\n",
        "width = 299\n",
        "\n",
        "train_ds, val_ds = image_generator(height,width)\n",
        "\n",
        "tf.keras.backend.clear_session()\n",
        "input_shape = (height, width, 3)\n",
        "base_model = tf.keras.applications.InceptionV3(\n",
        "    weights='imagenet',\n",
        "    include_top=False,\n",
        "    input_shape=input_shape\n",
        ")\n",
        "base_model.trainable = False\n",
        "model_inceptionv3_adam= tf.keras.Sequential()\n",
        "model_inceptionv3_adam.add(base_model)\n",
        "model_inceptionv3_adam.add(tf.keras.layers.Flatten())\n",
        "model_inceptionv3_adam.add(tf.keras.layers.Dense(1, activation='sigmoid'))\n",
        "\n",
        "model_inceptionv3_adam.compile(\n",
        "                    loss='binary_crossentropy',\n",
        "                    optimizer=tf.keras.optimizers.Adam(0.001),\n",
        "                    metrics=['acc']\n",
        ")\n",
        "model_inceptionv3_adam.summary()"
      ]
    },
    {
      "cell_type": "code",
      "execution_count": null,
      "metadata": {
        "execution": {
          "iopub.execute_input": "2022-07-18T15:27:43.306689Z",
          "iopub.status.busy": "2022-07-18T15:27:43.306187Z",
          "iopub.status.idle": "2022-07-18T15:30:56.327557Z",
          "shell.execute_reply": "2022-07-18T15:30:56.324033Z"
        },
        "papermill": {
          "duration": 193.079579,
          "end_time": "2022-07-18T15:30:56.330877",
          "exception": false,
          "start_time": "2022-07-18T15:27:43.251298",
          "status": "completed"
        },
        "tags": [],
        "id": "0bc50770",
        "colab": {
          "base_uri": "https://localhost:8080/"
        },
        "outputId": "a0a2a08a-e80e-4856-e9f3-58415d697e2c"
      },
      "outputs": [
        {
          "output_type": "stream",
          "name": "stdout",
          "text": [
            "Epoch 1/25\n",
            "26/26 [==============================] - 291s 11s/step - loss: 2.3700 - acc: 0.7915 - val_loss: 0.0843 - val_acc: 0.9827 - lr: 0.0010\n",
            "Epoch 2/25\n",
            "26/26 [==============================] - 15s 584ms/step - loss: 0.3021 - acc: 0.9630 - val_loss: 0.0155 - val_acc: 0.9975 - lr: 0.0010\n",
            "Epoch 3/25\n",
            "26/26 [==============================] - 15s 577ms/step - loss: 0.0564 - acc: 0.9864 - val_loss: 0.0252 - val_acc: 0.9877 - lr: 0.0010\n",
            "Epoch 4/25\n",
            "26/26 [==============================] - 15s 578ms/step - loss: 0.0127 - acc: 0.9951 - val_loss: 0.0246 - val_acc: 0.9901 - lr: 0.0010\n",
            "Epoch 5/25\n",
            "26/26 [==============================] - 15s 576ms/step - loss: 0.0022 - acc: 0.9994 - val_loss: 0.0214 - val_acc: 0.9926 - lr: 0.0010\n",
            "Epoch 6/25\n",
            "26/26 [==============================] - 15s 578ms/step - loss: 0.0013 - acc: 0.9994 - val_loss: 0.0181 - val_acc: 0.9926 - lr: 0.0010\n",
            "Epoch 7/25\n",
            "26/26 [==============================] - 16s 619ms/step - loss: 2.3624e-04 - acc: 1.0000 - val_loss: 0.0180 - val_acc: 0.9926 - lr: 0.0010\n"
          ]
        }
      ],
      "source": [
        "# aug_train_ds = augmentataion_generator(height,width)\n",
        "\n",
        "early = tf.keras.callbacks.EarlyStopping(monitor=\"val_loss\", mode=\"min\",restore_best_weights=True, patience=5)\n",
        "\n",
        "reduce_lr = tf.keras.callbacks.ReduceLROnPlateau(monitor='acc', factor=0.3,patience=3, min_lr=0.0000001)\n",
        "\n",
        "callbacks_list = [early,reduce_lr]\n",
        "\n",
        "history = model_inceptionv3_adam.fit(\n",
        "        train_ds,\n",
        "        validation_data=val_ds,\n",
        "        epochs=25,\n",
        "        #shuffle=True,\n",
        "        verbose=True,\n",
        "        callbacks=callbacks_list)"
      ]
    },
    {
      "cell_type": "code",
      "source": [
        "# model_inceptionv3_adam.save('/content/drive/MyDrive/STAAR/solved_model/model_inceptionv3_adam.h5')"
      ],
      "metadata": {
        "id": "2wxgvoh1tsK5"
      },
      "execution_count": null,
      "outputs": []
    },
    {
      "cell_type": "code",
      "source": [
        "# Load the saved model\n",
        "from keras.models import load_model\n",
        "model_inceptionv3_adam = load_model('/content/drive/MyDrive/STAAR/solved_model/model_inceptionv3_adam.h5')"
      ],
      "metadata": {
        "id": "xo-_6J-8vYJI"
      },
      "execution_count": null,
      "outputs": []
    },
    {
      "cell_type": "code",
      "execution_count": null,
      "metadata": {
        "execution": {
          "iopub.execute_input": "2022-07-18T15:27:39.563455Z",
          "iopub.status.busy": "2022-07-18T15:27:39.563007Z",
          "iopub.status.idle": "2022-07-18T15:27:42.538217Z",
          "shell.execute_reply": "2022-07-18T15:27:42.536211Z"
        },
        "papermill": {
          "duration": 3.031406,
          "end_time": "2022-07-18T15:27:42.540652",
          "exception": false,
          "start_time": "2022-07-18T15:27:39.509246",
          "status": "completed"
        },
        "tags": [],
        "id": "6555a9d8",
        "colab": {
          "base_uri": "https://localhost:8080/",
          "height": 148
        },
        "outputId": "43b4a6c4-82bc-48f0-ba48-ad9a574abeb7"
      },
      "outputs": [
        {
          "output_type": "stream",
          "name": "stdout",
          "text": [
            "26/26 [==============================] - 279s 11s/step - loss: 0.0011 - acc: 1.0000\n",
            "7/7 [==============================] - 58s 10s/step - loss: 0.0132 - acc: 0.9951\n"
          ]
        },
        {
          "output_type": "execute_result",
          "data": {
            "text/plain": [
              "         Train       Val\n",
              "Loss  0.001131  0.013222\n",
              "Acc   1.000000  0.995062"
            ],
            "text/html": [
              "\n",
              "  <div id=\"df-8b929ec2-5e8d-4657-9339-d425c93f485f\">\n",
              "    <div class=\"colab-df-container\">\n",
              "      <div>\n",
              "<style scoped>\n",
              "    .dataframe tbody tr th:only-of-type {\n",
              "        vertical-align: middle;\n",
              "    }\n",
              "\n",
              "    .dataframe tbody tr th {\n",
              "        vertical-align: top;\n",
              "    }\n",
              "\n",
              "    .dataframe thead th {\n",
              "        text-align: right;\n",
              "    }\n",
              "</style>\n",
              "<table border=\"1\" class=\"dataframe\">\n",
              "  <thead>\n",
              "    <tr style=\"text-align: right;\">\n",
              "      <th></th>\n",
              "      <th>Train</th>\n",
              "      <th>Val</th>\n",
              "    </tr>\n",
              "  </thead>\n",
              "  <tbody>\n",
              "    <tr>\n",
              "      <th>Loss</th>\n",
              "      <td>0.001131</td>\n",
              "      <td>0.013222</td>\n",
              "    </tr>\n",
              "    <tr>\n",
              "      <th>Acc</th>\n",
              "      <td>1.000000</td>\n",
              "      <td>0.995062</td>\n",
              "    </tr>\n",
              "  </tbody>\n",
              "</table>\n",
              "</div>\n",
              "      <button class=\"colab-df-convert\" onclick=\"convertToInteractive('df-8b929ec2-5e8d-4657-9339-d425c93f485f')\"\n",
              "              title=\"Convert this dataframe to an interactive table.\"\n",
              "              style=\"display:none;\">\n",
              "        \n",
              "  <svg xmlns=\"http://www.w3.org/2000/svg\" height=\"24px\"viewBox=\"0 0 24 24\"\n",
              "       width=\"24px\">\n",
              "    <path d=\"M0 0h24v24H0V0z\" fill=\"none\"/>\n",
              "    <path d=\"M18.56 5.44l.94 2.06.94-2.06 2.06-.94-2.06-.94-.94-2.06-.94 2.06-2.06.94zm-11 1L8.5 8.5l.94-2.06 2.06-.94-2.06-.94L8.5 2.5l-.94 2.06-2.06.94zm10 10l.94 2.06.94-2.06 2.06-.94-2.06-.94-.94-2.06-.94 2.06-2.06.94z\"/><path d=\"M17.41 7.96l-1.37-1.37c-.4-.4-.92-.59-1.43-.59-.52 0-1.04.2-1.43.59L10.3 9.45l-7.72 7.72c-.78.78-.78 2.05 0 2.83L4 21.41c.39.39.9.59 1.41.59.51 0 1.02-.2 1.41-.59l7.78-7.78 2.81-2.81c.8-.78.8-2.07 0-2.86zM5.41 20L4 18.59l7.72-7.72 1.47 1.35L5.41 20z\"/>\n",
              "  </svg>\n",
              "      </button>\n",
              "      \n",
              "  <style>\n",
              "    .colab-df-container {\n",
              "      display:flex;\n",
              "      flex-wrap:wrap;\n",
              "      gap: 12px;\n",
              "    }\n",
              "\n",
              "    .colab-df-convert {\n",
              "      background-color: #E8F0FE;\n",
              "      border: none;\n",
              "      border-radius: 50%;\n",
              "      cursor: pointer;\n",
              "      display: none;\n",
              "      fill: #1967D2;\n",
              "      height: 32px;\n",
              "      padding: 0 0 0 0;\n",
              "      width: 32px;\n",
              "    }\n",
              "\n",
              "    .colab-df-convert:hover {\n",
              "      background-color: #E2EBFA;\n",
              "      box-shadow: 0px 1px 2px rgba(60, 64, 67, 0.3), 0px 1px 3px 1px rgba(60, 64, 67, 0.15);\n",
              "      fill: #174EA6;\n",
              "    }\n",
              "\n",
              "    [theme=dark] .colab-df-convert {\n",
              "      background-color: #3B4455;\n",
              "      fill: #D2E3FC;\n",
              "    }\n",
              "\n",
              "    [theme=dark] .colab-df-convert:hover {\n",
              "      background-color: #434B5C;\n",
              "      box-shadow: 0px 1px 3px 1px rgba(0, 0, 0, 0.15);\n",
              "      filter: drop-shadow(0px 1px 2px rgba(0, 0, 0, 0.3));\n",
              "      fill: #FFFFFF;\n",
              "    }\n",
              "  </style>\n",
              "\n",
              "      <script>\n",
              "        const buttonEl =\n",
              "          document.querySelector('#df-8b929ec2-5e8d-4657-9339-d425c93f485f button.colab-df-convert');\n",
              "        buttonEl.style.display =\n",
              "          google.colab.kernel.accessAllowed ? 'block' : 'none';\n",
              "\n",
              "        async function convertToInteractive(key) {\n",
              "          const element = document.querySelector('#df-8b929ec2-5e8d-4657-9339-d425c93f485f');\n",
              "          const dataTable =\n",
              "            await google.colab.kernel.invokeFunction('convertToInteractive',\n",
              "                                                     [key], {});\n",
              "          if (!dataTable) return;\n",
              "\n",
              "          const docLinkHtml = 'Like what you see? Visit the ' +\n",
              "            '<a target=\"_blank\" href=https://colab.research.google.com/notebooks/data_table.ipynb>data table notebook</a>'\n",
              "            + ' to learn more about interactive tables.';\n",
              "          element.innerHTML = '';\n",
              "          dataTable['output_type'] = 'display_data';\n",
              "          await google.colab.output.renderOutput(dataTable, element);\n",
              "          const docLink = document.createElement('div');\n",
              "          docLink.innerHTML = docLinkHtml;\n",
              "          element.appendChild(docLink);\n",
              "        }\n",
              "      </script>\n",
              "    </div>\n",
              "  </div>\n",
              "  "
            ]
          },
          "metadata": {},
          "execution_count": 8
        }
      ],
      "source": [
        "train_result = model_inceptionv3_adam.evaluate(train_ds)\n",
        "val_result = model_inceptionv3_adam.evaluate(val_ds)\n",
        "\n",
        "augmented_df = pd.DataFrame(zip(train_result,val_result),columns=['Train','Val'],index=['Loss','Acc'])\n",
        "augmented_df"
      ]
    },
    {
      "cell_type": "code",
      "source": [
        "# plot learning curve\n",
        "def plot_learning_curve(history):\n",
        "    acc = history.history['acc']\n",
        "    val_acc = history.history['val_acc']\n",
        "    loss = history.history['loss']\n",
        "    val_loss = history.history['val_loss']\n",
        "    epochs = range(len(acc))\n",
        "\n",
        "    plt.plot(epochs, acc, label='training acc')\n",
        "    plt.plot(epochs, val_acc, label='validation acc')\n",
        "    plt.xlabel('Epochs')\n",
        "    plt.ylabel('Accuracy-%')\n",
        "    plt.legend()\n",
        "    plt.figure()\n",
        "\n",
        "    plt.plot(epochs, loss, label='training loss')\n",
        "    plt.plot(epochs, val_loss, label='validation loss')\n",
        "    plt.xlabel('Epochs')\n",
        "    plt.ylabel('Loss')\n",
        "    plt.legend()\n",
        "\n",
        "plot_learning_curve(history)"
      ],
      "metadata": {
        "id": "d5qm9Y6JqXNA"
      },
      "execution_count": null,
      "outputs": []
    },
    {
      "cell_type": "code",
      "source": [
        "# # Load the testing dataset\n",
        "# from tensorflow.keras.preprocessing.image import ImageDataGenerator\n",
        "\n",
        "# test_dir = '/content/drive/MyDrive/STAAR/new_Brain_tumor/test'\n",
        "# img_size = (299, 299)\n",
        "# batch_size = 64\n",
        "\n",
        "# test_datagen = ImageDataGenerator(rescale=1./255) # or any other desired preprocessing\n",
        "# test_data = test_datagen.flow_from_directory(\n",
        "#               test_dir,\n",
        "#               shuffle=False,\n",
        "#               class_mode='binary',\n",
        "#               target_size=img_size,\n",
        "#               batch_size=batch_size,\n",
        "#               classes={'no': 0., 'yes': 1.}\n",
        "#               )\n",
        "\n",
        "# #print(test_data.shape)\n",
        "# test_result = model_inceptionv3_adam.evaluate(test_data)\n",
        "# augmented_df = pd.DataFrame(zip(test_result),columns=['Test'],index=['Loss','Acc'])\n",
        "# augmented_df\n"
      ],
      "metadata": {
        "id": "Hv0cMQZhzXJf",
        "colab": {
          "base_uri": "https://localhost:8080/",
          "height": 148
        },
        "outputId": "816ac362-23e5-4b37-b190-1ae7abba1ed3"
      },
      "execution_count": null,
      "outputs": [
        {
          "output_type": "stream",
          "name": "stdout",
          "text": [
            "Found 210 images belonging to 2 classes.\n",
            "4/4 [==============================] - 30s 10s/step - loss: 0.7803 - acc: 0.8905\n"
          ]
        },
        {
          "output_type": "execute_result",
          "data": {
            "text/plain": [
              "          Test\n",
              "Loss  0.780336\n",
              "Acc   0.890476"
            ],
            "text/html": [
              "\n",
              "  <div id=\"df-8e43feda-55a2-45c6-a87b-f82c8014d522\">\n",
              "    <div class=\"colab-df-container\">\n",
              "      <div>\n",
              "<style scoped>\n",
              "    .dataframe tbody tr th:only-of-type {\n",
              "        vertical-align: middle;\n",
              "    }\n",
              "\n",
              "    .dataframe tbody tr th {\n",
              "        vertical-align: top;\n",
              "    }\n",
              "\n",
              "    .dataframe thead th {\n",
              "        text-align: right;\n",
              "    }\n",
              "</style>\n",
              "<table border=\"1\" class=\"dataframe\">\n",
              "  <thead>\n",
              "    <tr style=\"text-align: right;\">\n",
              "      <th></th>\n",
              "      <th>Test</th>\n",
              "    </tr>\n",
              "  </thead>\n",
              "  <tbody>\n",
              "    <tr>\n",
              "      <th>Loss</th>\n",
              "      <td>0.780336</td>\n",
              "    </tr>\n",
              "    <tr>\n",
              "      <th>Acc</th>\n",
              "      <td>0.890476</td>\n",
              "    </tr>\n",
              "  </tbody>\n",
              "</table>\n",
              "</div>\n",
              "      <button class=\"colab-df-convert\" onclick=\"convertToInteractive('df-8e43feda-55a2-45c6-a87b-f82c8014d522')\"\n",
              "              title=\"Convert this dataframe to an interactive table.\"\n",
              "              style=\"display:none;\">\n",
              "        \n",
              "  <svg xmlns=\"http://www.w3.org/2000/svg\" height=\"24px\"viewBox=\"0 0 24 24\"\n",
              "       width=\"24px\">\n",
              "    <path d=\"M0 0h24v24H0V0z\" fill=\"none\"/>\n",
              "    <path d=\"M18.56 5.44l.94 2.06.94-2.06 2.06-.94-2.06-.94-.94-2.06-.94 2.06-2.06.94zm-11 1L8.5 8.5l.94-2.06 2.06-.94-2.06-.94L8.5 2.5l-.94 2.06-2.06.94zm10 10l.94 2.06.94-2.06 2.06-.94-2.06-.94-.94-2.06-.94 2.06-2.06.94z\"/><path d=\"M17.41 7.96l-1.37-1.37c-.4-.4-.92-.59-1.43-.59-.52 0-1.04.2-1.43.59L10.3 9.45l-7.72 7.72c-.78.78-.78 2.05 0 2.83L4 21.41c.39.39.9.59 1.41.59.51 0 1.02-.2 1.41-.59l7.78-7.78 2.81-2.81c.8-.78.8-2.07 0-2.86zM5.41 20L4 18.59l7.72-7.72 1.47 1.35L5.41 20z\"/>\n",
              "  </svg>\n",
              "      </button>\n",
              "      \n",
              "  <style>\n",
              "    .colab-df-container {\n",
              "      display:flex;\n",
              "      flex-wrap:wrap;\n",
              "      gap: 12px;\n",
              "    }\n",
              "\n",
              "    .colab-df-convert {\n",
              "      background-color: #E8F0FE;\n",
              "      border: none;\n",
              "      border-radius: 50%;\n",
              "      cursor: pointer;\n",
              "      display: none;\n",
              "      fill: #1967D2;\n",
              "      height: 32px;\n",
              "      padding: 0 0 0 0;\n",
              "      width: 32px;\n",
              "    }\n",
              "\n",
              "    .colab-df-convert:hover {\n",
              "      background-color: #E2EBFA;\n",
              "      box-shadow: 0px 1px 2px rgba(60, 64, 67, 0.3), 0px 1px 3px 1px rgba(60, 64, 67, 0.15);\n",
              "      fill: #174EA6;\n",
              "    }\n",
              "\n",
              "    [theme=dark] .colab-df-convert {\n",
              "      background-color: #3B4455;\n",
              "      fill: #D2E3FC;\n",
              "    }\n",
              "\n",
              "    [theme=dark] .colab-df-convert:hover {\n",
              "      background-color: #434B5C;\n",
              "      box-shadow: 0px 1px 3px 1px rgba(0, 0, 0, 0.15);\n",
              "      filter: drop-shadow(0px 1px 2px rgba(0, 0, 0, 0.3));\n",
              "      fill: #FFFFFF;\n",
              "    }\n",
              "  </style>\n",
              "\n",
              "      <script>\n",
              "        const buttonEl =\n",
              "          document.querySelector('#df-8e43feda-55a2-45c6-a87b-f82c8014d522 button.colab-df-convert');\n",
              "        buttonEl.style.display =\n",
              "          google.colab.kernel.accessAllowed ? 'block' : 'none';\n",
              "\n",
              "        async function convertToInteractive(key) {\n",
              "          const element = document.querySelector('#df-8e43feda-55a2-45c6-a87b-f82c8014d522');\n",
              "          const dataTable =\n",
              "            await google.colab.kernel.invokeFunction('convertToInteractive',\n",
              "                                                     [key], {});\n",
              "          if (!dataTable) return;\n",
              "\n",
              "          const docLinkHtml = 'Like what you see? Visit the ' +\n",
              "            '<a target=\"_blank\" href=https://colab.research.google.com/notebooks/data_table.ipynb>data table notebook</a>'\n",
              "            + ' to learn more about interactive tables.';\n",
              "          element.innerHTML = '';\n",
              "          dataTable['output_type'] = 'display_data';\n",
              "          await google.colab.output.renderOutput(dataTable, element);\n",
              "          const docLink = document.createElement('div');\n",
              "          docLink.innerHTML = docLinkHtml;\n",
              "          element.appendChild(docLink);\n",
              "        }\n",
              "      </script>\n",
              "    </div>\n",
              "  </div>\n",
              "  "
            ]
          },
          "metadata": {},
          "execution_count": 9
        }
      ]
    },
    {
      "cell_type": "code",
      "source": [
        "# Load the testing dataset\n",
        "from tensorflow.keras.preprocessing.image import ImageDataGenerator\n",
        "\n",
        "test_dir = '/content/drive/MyDrive/STAAR/new_Brain_tumor/test2'\n",
        "img_size = (299, 299)\n",
        "batch_size = 64\n",
        "\n",
        "test_datagen = ImageDataGenerator(rescale=1./255) # or any other desired preprocessing\n",
        "test_ds = test_datagen.flow_from_directory(\n",
        "              test_dir,\n",
        "              shuffle=False,\n",
        "              class_mode='binary',\n",
        "              target_size=img_size,\n",
        "              batch_size=batch_size,\n",
        "              classes={'no': 0., 'yes': 1.}\n",
        "              )\n",
        "\n",
        "# print(test_data.shape)\n",
        "test_result = model_inceptionv3_adam.evaluate(test_ds)\n",
        "augmented_df = pd.DataFrame(zip(test_result),columns=['Test'],index=['Loss','Acc'])\n",
        "augmented_df"
      ],
      "metadata": {
        "colab": {
          "base_uri": "https://localhost:8080/",
          "height": 148
        },
        "id": "OM8qaNdbFHNs",
        "outputId": "38710400-2b48-4bb9-e4d3-51d8c05bfb2a"
      },
      "execution_count": null,
      "outputs": [
        {
          "output_type": "stream",
          "name": "stdout",
          "text": [
            "Found 100 images belonging to 2 classes.\n",
            "2/2 [==============================] - 12s 12s/step - loss: 0.2154 - acc: 0.9600\n"
          ]
        },
        {
          "output_type": "execute_result",
          "data": {
            "text/plain": [
              "          Test\n",
              "Loss  0.215384\n",
              "Acc   0.960000"
            ],
            "text/html": [
              "\n",
              "  <div id=\"df-8c087454-2adb-4a02-93d5-6aaf237e85fa\">\n",
              "    <div class=\"colab-df-container\">\n",
              "      <div>\n",
              "<style scoped>\n",
              "    .dataframe tbody tr th:only-of-type {\n",
              "        vertical-align: middle;\n",
              "    }\n",
              "\n",
              "    .dataframe tbody tr th {\n",
              "        vertical-align: top;\n",
              "    }\n",
              "\n",
              "    .dataframe thead th {\n",
              "        text-align: right;\n",
              "    }\n",
              "</style>\n",
              "<table border=\"1\" class=\"dataframe\">\n",
              "  <thead>\n",
              "    <tr style=\"text-align: right;\">\n",
              "      <th></th>\n",
              "      <th>Test</th>\n",
              "    </tr>\n",
              "  </thead>\n",
              "  <tbody>\n",
              "    <tr>\n",
              "      <th>Loss</th>\n",
              "      <td>0.215384</td>\n",
              "    </tr>\n",
              "    <tr>\n",
              "      <th>Acc</th>\n",
              "      <td>0.960000</td>\n",
              "    </tr>\n",
              "  </tbody>\n",
              "</table>\n",
              "</div>\n",
              "      <button class=\"colab-df-convert\" onclick=\"convertToInteractive('df-8c087454-2adb-4a02-93d5-6aaf237e85fa')\"\n",
              "              title=\"Convert this dataframe to an interactive table.\"\n",
              "              style=\"display:none;\">\n",
              "        \n",
              "  <svg xmlns=\"http://www.w3.org/2000/svg\" height=\"24px\"viewBox=\"0 0 24 24\"\n",
              "       width=\"24px\">\n",
              "    <path d=\"M0 0h24v24H0V0z\" fill=\"none\"/>\n",
              "    <path d=\"M18.56 5.44l.94 2.06.94-2.06 2.06-.94-2.06-.94-.94-2.06-.94 2.06-2.06.94zm-11 1L8.5 8.5l.94-2.06 2.06-.94-2.06-.94L8.5 2.5l-.94 2.06-2.06.94zm10 10l.94 2.06.94-2.06 2.06-.94-2.06-.94-.94-2.06-.94 2.06-2.06.94z\"/><path d=\"M17.41 7.96l-1.37-1.37c-.4-.4-.92-.59-1.43-.59-.52 0-1.04.2-1.43.59L10.3 9.45l-7.72 7.72c-.78.78-.78 2.05 0 2.83L4 21.41c.39.39.9.59 1.41.59.51 0 1.02-.2 1.41-.59l7.78-7.78 2.81-2.81c.8-.78.8-2.07 0-2.86zM5.41 20L4 18.59l7.72-7.72 1.47 1.35L5.41 20z\"/>\n",
              "  </svg>\n",
              "      </button>\n",
              "      \n",
              "  <style>\n",
              "    .colab-df-container {\n",
              "      display:flex;\n",
              "      flex-wrap:wrap;\n",
              "      gap: 12px;\n",
              "    }\n",
              "\n",
              "    .colab-df-convert {\n",
              "      background-color: #E8F0FE;\n",
              "      border: none;\n",
              "      border-radius: 50%;\n",
              "      cursor: pointer;\n",
              "      display: none;\n",
              "      fill: #1967D2;\n",
              "      height: 32px;\n",
              "      padding: 0 0 0 0;\n",
              "      width: 32px;\n",
              "    }\n",
              "\n",
              "    .colab-df-convert:hover {\n",
              "      background-color: #E2EBFA;\n",
              "      box-shadow: 0px 1px 2px rgba(60, 64, 67, 0.3), 0px 1px 3px 1px rgba(60, 64, 67, 0.15);\n",
              "      fill: #174EA6;\n",
              "    }\n",
              "\n",
              "    [theme=dark] .colab-df-convert {\n",
              "      background-color: #3B4455;\n",
              "      fill: #D2E3FC;\n",
              "    }\n",
              "\n",
              "    [theme=dark] .colab-df-convert:hover {\n",
              "      background-color: #434B5C;\n",
              "      box-shadow: 0px 1px 3px 1px rgba(0, 0, 0, 0.15);\n",
              "      filter: drop-shadow(0px 1px 2px rgba(0, 0, 0, 0.3));\n",
              "      fill: #FFFFFF;\n",
              "    }\n",
              "  </style>\n",
              "\n",
              "      <script>\n",
              "        const buttonEl =\n",
              "          document.querySelector('#df-8c087454-2adb-4a02-93d5-6aaf237e85fa button.colab-df-convert');\n",
              "        buttonEl.style.display =\n",
              "          google.colab.kernel.accessAllowed ? 'block' : 'none';\n",
              "\n",
              "        async function convertToInteractive(key) {\n",
              "          const element = document.querySelector('#df-8c087454-2adb-4a02-93d5-6aaf237e85fa');\n",
              "          const dataTable =\n",
              "            await google.colab.kernel.invokeFunction('convertToInteractive',\n",
              "                                                     [key], {});\n",
              "          if (!dataTable) return;\n",
              "\n",
              "          const docLinkHtml = 'Like what you see? Visit the ' +\n",
              "            '<a target=\"_blank\" href=https://colab.research.google.com/notebooks/data_table.ipynb>data table notebook</a>'\n",
              "            + ' to learn more about interactive tables.';\n",
              "          element.innerHTML = '';\n",
              "          dataTable['output_type'] = 'display_data';\n",
              "          await google.colab.output.renderOutput(dataTable, element);\n",
              "          const docLink = document.createElement('div');\n",
              "          docLink.innerHTML = docLinkHtml;\n",
              "          element.appendChild(docLink);\n",
              "        }\n",
              "      </script>\n",
              "    </div>\n",
              "  </div>\n",
              "  "
            ]
          },
          "metadata": {},
          "execution_count": 10
        }
      ]
    },
    {
      "cell_type": "code",
      "execution_count": null,
      "metadata": {
        "execution": {
          "iopub.execute_input": "2022-07-18T15:31:00.049499Z",
          "iopub.status.busy": "2022-07-18T15:31:00.049086Z",
          "iopub.status.idle": "2022-07-18T15:31:02.975040Z",
          "shell.execute_reply": "2022-07-18T15:31:02.973721Z"
        },
        "papermill": {
          "duration": 2.997538,
          "end_time": "2022-07-18T15:31:02.978542",
          "exception": false,
          "start_time": "2022-07-18T15:30:59.981004",
          "status": "completed"
        },
        "tags": [],
        "outputId": "6a64e375-df34-48cb-8a98-78d7c944d8eb",
        "colab": {
          "base_uri": "https://localhost:8080/"
        },
        "id": "VC0mjdsnysq1"
      },
      "outputs": [
        {
          "output_type": "stream",
          "name": "stdout",
          "text": [
            "2/2 [==============================] - 4s 23ms/step\n",
            "Confusion_Matrix:\n",
            " [[35  0]\n",
            " [ 0 29]]\n",
            "\n",
            "Classification_report:\n",
            "               precision    recall  f1-score   support\n",
            "\n",
            "           0       1.00      1.00      1.00        35\n",
            "           1       1.00      1.00      1.00        29\n",
            "\n",
            "    accuracy                           1.00        64\n",
            "   macro avg       1.00      1.00      1.00        64\n",
            "weighted avg       1.00      1.00      1.00        64\n",
            "\n"
          ]
        }
      ],
      "source": [
        "ypred = model_inceptionv3_adam.predict(val_ds[0][0])\n",
        "ypred = np.array([1 if x > 0.5 else 0 for x in ypred])\n",
        "#ypred = ypred.astype(int)\n",
        "ytest = val_ds[0][-1]\n",
        "\n",
        "print('Confusion_Matrix:\\n',confusion_matrix(ytest, ypred))\n",
        "print('\\nClassification_report:\\n',classification_report(ypred,ytest))"
      ]
    },
    {
      "cell_type": "code",
      "execution_count": null,
      "metadata": {
        "execution": {
          "iopub.execute_input": "2022-07-18T15:31:00.049499Z",
          "iopub.status.busy": "2022-07-18T15:31:00.049086Z",
          "iopub.status.idle": "2022-07-18T15:31:02.975040Z",
          "shell.execute_reply": "2022-07-18T15:31:02.973721Z"
        },
        "papermill": {
          "duration": 2.997538,
          "end_time": "2022-07-18T15:31:02.978542",
          "exception": false,
          "start_time": "2022-07-18T15:30:59.981004",
          "status": "completed"
        },
        "tags": [],
        "id": "ewd2K6xznz9X"
      },
      "outputs": [],
      "source": [
        "ypred = model_inceptionv3_adam.predict(test_data[0][0])\n",
        "ypred = np.array([1 if x > 0.5 else 0 for x in ypred])\n",
        "#ypred = ypred.astype(int)\n",
        "ytest = test_data[0][-1]\n",
        "\n",
        "print('Confusion_Matrix:\\n',confusion_matrix(ytest, ypred))\n",
        "print('\\nClassification_report:\\n',classification_report(ypred,ytest))"
      ]
    },
    {
      "cell_type": "code",
      "source": [],
      "metadata": {
        "id": "Swrmr4kR10zV"
      },
      "execution_count": null,
      "outputs": []
    },
    {
      "cell_type": "markdown",
      "metadata": {
        "papermill": {
          "duration": 0.042176,
          "end_time": "2022-07-18T15:26:41.096254",
          "exception": false,
          "start_time": "2022-07-18T15:26:41.054078",
          "status": "completed"
        },
        "tags": [],
        "id": "zPSySGDR8iid"
      },
      "source": [
        "## 4.2 InceptionV3 + VGG19\n",
        "<a class=\"anchor\" id=\"2\"></a>"
      ]
    },
    {
      "cell_type": "code",
      "execution_count": null,
      "metadata": {
        "id": "2dtxhEvtobSW",
        "colab": {
          "base_uri": "https://localhost:8080/",
          "height": 952
        },
        "outputId": "a5453f10-9a59-4f91-bc49-fd2711aaf33e"
      },
      "outputs": [
        {
          "output_type": "stream",
          "name": "stdout",
          "text": [
            "Model: \"model_1\"\n",
            "__________________________________________________________________________________________________\n",
            " Layer (type)                   Output Shape         Param #     Connected to                     \n",
            "==================================================================================================\n",
            " input_5 (InputLayer)           [(None, 299, 299, 3  0           []                               \n",
            "                                )]                                                                \n",
            "                                                                                                  \n",
            " inception_v3 (Functional)      (None, 2048)         21802784    ['input_5[0][0]']                \n",
            "                                                                                                  \n",
            " vgg19 (Functional)             (None, 512)          20024384    ['input_5[0][0]']                \n",
            "                                                                                                  \n",
            " concatenate_5 (Concatenate)    (None, 2560)         0           ['inception_v3[0][0]',           \n",
            "                                                                  'vgg19[0][0]']                  \n",
            "                                                                                                  \n",
            " dense_3 (Dense)                (None, 1024)         2622464     ['concatenate_5[0][0]']          \n",
            "                                                                                                  \n",
            " dense_4 (Dense)                (None, 1)            1025        ['dense_3[0][0]']                \n",
            "                                                                                                  \n",
            "==================================================================================================\n",
            "Total params: 44,450,657\n",
            "Trainable params: 2,623,489\n",
            "Non-trainable params: 41,827,168\n",
            "__________________________________________________________________________________________________\n"
          ]
        },
        {
          "output_type": "execute_result",
          "data": {
            "image/png": "[encoded data removed]",
            "text/plain": [
              "<IPython.core.display.Image object>"
            ]
          },
          "metadata": {},
          "execution_count": 53
        }
      ],
      "source": [
        "import tensorflow as tf\n",
        "from tensorflow.keras.applications import InceptionV3, VGG19\n",
        "\n",
        "# Define InceptionV3 model\n",
        "input_shape = (299, 299, 3)\n",
        "Input_Layer = layers.Input(shape=input_shape)\n",
        "base_model1 = InceptionV3(weights='imagenet', include_top=False, input_shape=input_shape, pooling='avg')\n",
        "\n",
        "for layer in base_model1.layers:\n",
        "    layer.trainable = False;\n",
        "\n",
        "base_model1 = base_model1(Input_Layer)\n",
        "\n",
        "# Define VGG19 model\n",
        "input_shape = (299, 299, 3)\n",
        "base_model2 = VGG19(weights='imagenet', include_top=False, input_shape=input_shape, pooling='avg')\n",
        "\n",
        "for layer in base_model2.layers:\n",
        "    layer.trainable = False;\n",
        "\n",
        "base_model2 = base_model2(Input_Layer)\n",
        "\n",
        "# Concatenate the models\n",
        "concatenated = tf.keras.layers.Concatenate()([base_model1, base_model2])\n",
        "\n",
        "# Add fully connected layer\n",
        "x = tf.keras.layers.Dense(1024, activation='relu')(concatenated)\n",
        "\n",
        "# Add output layer\n",
        "output = tf.keras.layers.Dense(1, activation='sigmoid')(x)\n",
        "\n",
        "# Define the combined model\n",
        "model= tf.keras.Model(inputs=Input_Layer, outputs=output)\n",
        "\n",
        "# Compile the model\n",
        "model.compile(\n",
        "          loss='binary_crossentropy',\n",
        "          optimizer=tf.keras.optimizers.Adam(0.001),\n",
        "          metrics=['acc'])\n",
        "\n",
        "# Print model summary\n",
        "model.summary()\n",
        "keras.utils.plot_model(model, \"inceptionV3+VGG19.png\", show_shapes=True)"
      ]
    },
    {
      "cell_type": "code",
      "execution_count": null,
      "metadata": {
        "colab": {
          "base_uri": "https://localhost:8080/"
        },
        "id": "XrdaE2gJqZbL",
        "outputId": "8bcd7ac4-875b-40f5-9497-cb991de904bd"
      },
      "outputs": [
        {
          "output_type": "stream",
          "name": "stdout",
          "text": [
            "Epoch 1/25\n",
            "26/26 [==============================] - 26s 788ms/step - loss: 0.8823 - acc: 0.7539 - val_loss: 0.2050 - val_acc: 0.9630 - lr: 0.0010\n",
            "Epoch 2/25\n",
            "26/26 [==============================] - 19s 714ms/step - loss: 0.1764 - acc: 0.9383 - val_loss: 0.1464 - val_acc: 0.9728 - lr: 0.0010\n",
            "Epoch 3/25\n",
            "26/26 [==============================] - 16s 603ms/step - loss: 0.1182 - acc: 0.9618 - val_loss: 0.1919 - val_acc: 0.9210 - lr: 0.0010\n",
            "Epoch 4/25\n",
            "26/26 [==============================] - 16s 620ms/step - loss: 0.0842 - acc: 0.9766 - val_loss: 0.1407 - val_acc: 0.9481 - lr: 0.0010\n",
            "Epoch 5/25\n",
            "26/26 [==============================] - 16s 627ms/step - loss: 0.0739 - acc: 0.9778 - val_loss: 0.1379 - val_acc: 0.9383 - lr: 0.0010\n",
            "Epoch 6/25\n",
            "26/26 [==============================] - 17s 640ms/step - loss: 0.0581 - acc: 0.9827 - val_loss: 0.1034 - val_acc: 0.9556 - lr: 0.0010\n",
            "Epoch 7/25\n",
            "26/26 [==============================] - 22s 825ms/step - loss: 0.0485 - acc: 0.9926 - val_loss: 0.1798 - val_acc: 0.9309 - lr: 0.0010\n",
            "Epoch 8/25\n",
            "26/26 [==============================] - 20s 759ms/step - loss: 0.0299 - acc: 0.9951 - val_loss: 0.0999 - val_acc: 0.9580 - lr: 0.0010\n",
            "Epoch 9/25\n",
            "26/26 [==============================] - 20s 754ms/step - loss: 0.0209 - acc: 0.9975 - val_loss: 0.1113 - val_acc: 0.9481 - lr: 0.0010\n",
            "Epoch 10/25\n",
            "26/26 [==============================] - 19s 724ms/step - loss: 0.0176 - acc: 0.9988 - val_loss: 0.1084 - val_acc: 0.9580 - lr: 0.0010\n",
            "Epoch 11/25\n",
            "26/26 [==============================] - 20s 746ms/step - loss: 0.0120 - acc: 0.9988 - val_loss: 0.1107 - val_acc: 0.9531 - lr: 0.0010\n",
            "Epoch 12/25\n",
            "26/26 [==============================] - 16s 611ms/step - loss: 0.0096 - acc: 1.0000 - val_loss: 0.1288 - val_acc: 0.9481 - lr: 0.0010\n",
            "Epoch 13/25\n",
            "26/26 [==============================] - 17s 656ms/step - loss: 0.0081 - acc: 1.0000 - val_loss: 0.1280 - val_acc: 0.9481 - lr: 0.0010\n"
          ]
        }
      ],
      "source": [
        "# from keras.callbacks import ModelCheckpoint\n",
        "\n",
        "# # define the checkpoint to save the best weights during training\n",
        "# checkpoint = ModelCheckpoint('combined_model_best_weights.h5', save_best_only=True, save_weights_only=True, monitor='val_loss', mode='min', verbose=1)\n",
        "\n",
        "early = tf.keras.callbacks.EarlyStopping(monitor=\"val_loss\", mode=\"min\",restore_best_weights=True, patience=5)\n",
        "\n",
        "reduce_lr = tf.keras.callbacks.ReduceLROnPlateau(monitor='acc', factor=0.3,patience=3, min_lr=0.0001)\n",
        "\n",
        "callbacks_list = [early,reduce_lr]\n",
        "\n",
        "# train the model using the training data\n",
        "history = model.fit(\n",
        "        x=train_ds,\n",
        "        validation_data=val_ds,\n",
        "        epochs=25,\n",
        "        #shuffle=True,\n",
        "        verbose=True,\n",
        "        callbacks=callbacks_list)"
      ]
    },
    {
      "cell_type": "code",
      "execution_count": null,
      "metadata": {
        "id": "ByORZtQwNnFv"
      },
      "outputs": [],
      "source": [
        "# model.save('/content/drive/MyDrive/Colab Notebooks/Saved_models/model_Inception+VGG19_adam.h5')"
      ]
    },
    {
      "cell_type": "code",
      "execution_count": null,
      "metadata": {
        "id": "4JoIUFTbNwGl"
      },
      "outputs": [],
      "source": [
        "# Load the saved model\n",
        "from keras.models import load_model\n",
        "model_Inception_VGG19_adam = load_model('/content/drive/MyDrive/STAAR/solved_model/model_Inception+VGG19_adam.h5')"
      ]
    },
    {
      "cell_type": "code",
      "execution_count": null,
      "metadata": {
        "colab": {
          "base_uri": "https://localhost:8080/",
          "height": 148
        },
        "id": "hr4BnaS2nUkC",
        "outputId": "b88c602c-e044-4268-e046-31b9c5427563"
      },
      "outputs": [
        {
          "output_type": "stream",
          "name": "stdout",
          "text": [
            "26/26 [==============================] - 40s 1s/step - loss: 0.0198 - acc: 0.9975\n",
            "7/7 [==============================] - 6s 743ms/step - loss: 0.0449 - acc: 0.9877\n"
          ]
        },
        {
          "output_type": "execute_result",
          "data": {
            "text/plain": [
              "         Train       Val\n",
              "Loss  0.019819  0.044862\n",
              "Acc   0.997532  0.987654"
            ],
            "text/html": [
              "\n",
              "  <div id=\"df-d137c031-862c-44f0-b336-1d86e1659da5\">\n",
              "    <div class=\"colab-df-container\">\n",
              "      <div>\n",
              "<style scoped>\n",
              "    .dataframe tbody tr th:only-of-type {\n",
              "        vertical-align: middle;\n",
              "    }\n",
              "\n",
              "    .dataframe tbody tr th {\n",
              "        vertical-align: top;\n",
              "    }\n",
              "\n",
              "    .dataframe thead th {\n",
              "        text-align: right;\n",
              "    }\n",
              "</style>\n",
              "<table border=\"1\" class=\"dataframe\">\n",
              "  <thead>\n",
              "    <tr style=\"text-align: right;\">\n",
              "      <th></th>\n",
              "      <th>Train</th>\n",
              "      <th>Val</th>\n",
              "    </tr>\n",
              "  </thead>\n",
              "  <tbody>\n",
              "    <tr>\n",
              "      <th>Loss</th>\n",
              "      <td>0.019819</td>\n",
              "      <td>0.044862</td>\n",
              "    </tr>\n",
              "    <tr>\n",
              "      <th>Acc</th>\n",
              "      <td>0.997532</td>\n",
              "      <td>0.987654</td>\n",
              "    </tr>\n",
              "  </tbody>\n",
              "</table>\n",
              "</div>\n",
              "      <button class=\"colab-df-convert\" onclick=\"convertToInteractive('df-d137c031-862c-44f0-b336-1d86e1659da5')\"\n",
              "              title=\"Convert this dataframe to an interactive table.\"\n",
              "              style=\"display:none;\">\n",
              "        \n",
              "  <svg xmlns=\"http://www.w3.org/2000/svg\" height=\"24px\"viewBox=\"0 0 24 24\"\n",
              "       width=\"24px\">\n",
              "    <path d=\"M0 0h24v24H0V0z\" fill=\"none\"/>\n",
              "    <path d=\"M18.56 5.44l.94 2.06.94-2.06 2.06-.94-2.06-.94-.94-2.06-.94 2.06-2.06.94zm-11 1L8.5 8.5l.94-2.06 2.06-.94-2.06-.94L8.5 2.5l-.94 2.06-2.06.94zm10 10l.94 2.06.94-2.06 2.06-.94-2.06-.94-.94-2.06-.94 2.06-2.06.94z\"/><path d=\"M17.41 7.96l-1.37-1.37c-.4-.4-.92-.59-1.43-.59-.52 0-1.04.2-1.43.59L10.3 9.45l-7.72 7.72c-.78.78-.78 2.05 0 2.83L4 21.41c.39.39.9.59 1.41.59.51 0 1.02-.2 1.41-.59l7.78-7.78 2.81-2.81c.8-.78.8-2.07 0-2.86zM5.41 20L4 18.59l7.72-7.72 1.47 1.35L5.41 20z\"/>\n",
              "  </svg>\n",
              "      </button>\n",
              "      \n",
              "  <style>\n",
              "    .colab-df-container {\n",
              "      display:flex;\n",
              "      flex-wrap:wrap;\n",
              "      gap: 12px;\n",
              "    }\n",
              "\n",
              "    .colab-df-convert {\n",
              "      background-color: #E8F0FE;\n",
              "      border: none;\n",
              "      border-radius: 50%;\n",
              "      cursor: pointer;\n",
              "      display: none;\n",
              "      fill: #1967D2;\n",
              "      height: 32px;\n",
              "      padding: 0 0 0 0;\n",
              "      width: 32px;\n",
              "    }\n",
              "\n",
              "    .colab-df-convert:hover {\n",
              "      background-color: #E2EBFA;\n",
              "      box-shadow: 0px 1px 2px rgba(60, 64, 67, 0.3), 0px 1px 3px 1px rgba(60, 64, 67, 0.15);\n",
              "      fill: #174EA6;\n",
              "    }\n",
              "\n",
              "    [theme=dark] .colab-df-convert {\n",
              "      background-color: #3B4455;\n",
              "      fill: #D2E3FC;\n",
              "    }\n",
              "\n",
              "    [theme=dark] .colab-df-convert:hover {\n",
              "      background-color: #434B5C;\n",
              "      box-shadow: 0px 1px 3px 1px rgba(0, 0, 0, 0.15);\n",
              "      filter: drop-shadow(0px 1px 2px rgba(0, 0, 0, 0.3));\n",
              "      fill: #FFFFFF;\n",
              "    }\n",
              "  </style>\n",
              "\n",
              "      <script>\n",
              "        const buttonEl =\n",
              "          document.querySelector('#df-d137c031-862c-44f0-b336-1d86e1659da5 button.colab-df-convert');\n",
              "        buttonEl.style.display =\n",
              "          google.colab.kernel.accessAllowed ? 'block' : 'none';\n",
              "\n",
              "        async function convertToInteractive(key) {\n",
              "          const element = document.querySelector('#df-d137c031-862c-44f0-b336-1d86e1659da5');\n",
              "          const dataTable =\n",
              "            await google.colab.kernel.invokeFunction('convertToInteractive',\n",
              "                                                     [key], {});\n",
              "          if (!dataTable) return;\n",
              "\n",
              "          const docLinkHtml = 'Like what you see? Visit the ' +\n",
              "            '<a target=\"_blank\" href=https://colab.research.google.com/notebooks/data_table.ipynb>data table notebook</a>'\n",
              "            + ' to learn more about interactive tables.';\n",
              "          element.innerHTML = '';\n",
              "          dataTable['output_type'] = 'display_data';\n",
              "          await google.colab.output.renderOutput(dataTable, element);\n",
              "          const docLink = document.createElement('div');\n",
              "          docLink.innerHTML = docLinkHtml;\n",
              "          element.appendChild(docLink);\n",
              "        }\n",
              "      </script>\n",
              "    </div>\n",
              "  </div>\n",
              "  "
            ]
          },
          "metadata": {},
          "execution_count": 14
        }
      ],
      "source": [
        "train_result = model.evaluate(train_ds)\n",
        "val_result = model.evaluate(val_ds)\n",
        "\n",
        "augmented_df = pd.DataFrame(zip(train_result,val_result),columns=['Train','Val'],index=['Loss','Acc'])\n",
        "augmented_df"
      ]
    },
    {
      "cell_type": "code",
      "source": [
        "# plot learning curve\n",
        "def plot_learning_curve(history):\n",
        "    acc = history.history['acc']\n",
        "    val_acc = history.history['val_acc']\n",
        "    loss = history.history['loss']\n",
        "    val_loss = history.history['val_loss']\n",
        "    epochs = range(len(acc))\n",
        "\n",
        "    plt.plot(epochs, acc, label='training acc')\n",
        "    plt.plot(epochs, val_acc, label='validation acc')\n",
        "    plt.xlabel('Epochs')\n",
        "    plt.ylabel('Accuracy-%')\n",
        "    plt.legend()\n",
        "    plt.figure()\n",
        "\n",
        "    plt.plot(epochs, loss, label='training loss')\n",
        "    plt.plot(epochs, val_loss, label='validation loss')\n",
        "    plt.xlabel('Epochs')\n",
        "    plt.ylabel('Loss')\n",
        "    plt.legend()\n",
        "\n",
        "plot_learning_curve(history)"
      ],
      "metadata": {
        "id": "EhwXUN9O9CmY"
      },
      "execution_count": null,
      "outputs": []
    },
    {
      "cell_type": "code",
      "execution_count": null,
      "metadata": {
        "colab": {
          "base_uri": "https://localhost:8080/",
          "height": 148
        },
        "id": "wcM1_NVVnUgv",
        "outputId": "5c92d789-0f79-4bed-fbd1-5062f0c608bf"
      },
      "outputs": [
        {
          "output_type": "stream",
          "name": "stdout",
          "text": [
            "Found 210 images belonging to 2 classes.\n",
            "4/4 [==============================] - 7s 2s/step - loss: 0.3112 - acc: 0.9000\n"
          ]
        },
        {
          "output_type": "execute_result",
          "data": {
            "text/plain": [
              "          Test\n",
              "Loss  0.311185\n",
              "Acc   0.900000"
            ],
            "text/html": [
              "\n",
              "  <div id=\"df-4da0744c-1cd0-44c2-9744-8494f7be449b\">\n",
              "    <div class=\"colab-df-container\">\n",
              "      <div>\n",
              "<style scoped>\n",
              "    .dataframe tbody tr th:only-of-type {\n",
              "        vertical-align: middle;\n",
              "    }\n",
              "\n",
              "    .dataframe tbody tr th {\n",
              "        vertical-align: top;\n",
              "    }\n",
              "\n",
              "    .dataframe thead th {\n",
              "        text-align: right;\n",
              "    }\n",
              "</style>\n",
              "<table border=\"1\" class=\"dataframe\">\n",
              "  <thead>\n",
              "    <tr style=\"text-align: right;\">\n",
              "      <th></th>\n",
              "      <th>Test</th>\n",
              "    </tr>\n",
              "  </thead>\n",
              "  <tbody>\n",
              "    <tr>\n",
              "      <th>Loss</th>\n",
              "      <td>0.311185</td>\n",
              "    </tr>\n",
              "    <tr>\n",
              "      <th>Acc</th>\n",
              "      <td>0.900000</td>\n",
              "    </tr>\n",
              "  </tbody>\n",
              "</table>\n",
              "</div>\n",
              "      <button class=\"colab-df-convert\" onclick=\"convertToInteractive('df-4da0744c-1cd0-44c2-9744-8494f7be449b')\"\n",
              "              title=\"Convert this dataframe to an interactive table.\"\n",
              "              style=\"display:none;\">\n",
              "        \n",
              "  <svg xmlns=\"http://www.w3.org/2000/svg\" height=\"24px\"viewBox=\"0 0 24 24\"\n",
              "       width=\"24px\">\n",
              "    <path d=\"M0 0h24v24H0V0z\" fill=\"none\"/>\n",
              "    <path d=\"M18.56 5.44l.94 2.06.94-2.06 2.06-.94-2.06-.94-.94-2.06-.94 2.06-2.06.94zm-11 1L8.5 8.5l.94-2.06 2.06-.94-2.06-.94L8.5 2.5l-.94 2.06-2.06.94zm10 10l.94 2.06.94-2.06 2.06-.94-2.06-.94-.94-2.06-.94 2.06-2.06.94z\"/><path d=\"M17.41 7.96l-1.37-1.37c-.4-.4-.92-.59-1.43-.59-.52 0-1.04.2-1.43.59L10.3 9.45l-7.72 7.72c-.78.78-.78 2.05 0 2.83L4 21.41c.39.39.9.59 1.41.59.51 0 1.02-.2 1.41-.59l7.78-7.78 2.81-2.81c.8-.78.8-2.07 0-2.86zM5.41 20L4 18.59l7.72-7.72 1.47 1.35L5.41 20z\"/>\n",
              "  </svg>\n",
              "      </button>\n",
              "      \n",
              "  <style>\n",
              "    .colab-df-container {\n",
              "      display:flex;\n",
              "      flex-wrap:wrap;\n",
              "      gap: 12px;\n",
              "    }\n",
              "\n",
              "    .colab-df-convert {\n",
              "      background-color: #E8F0FE;\n",
              "      border: none;\n",
              "      border-radius: 50%;\n",
              "      cursor: pointer;\n",
              "      display: none;\n",
              "      fill: #1967D2;\n",
              "      height: 32px;\n",
              "      padding: 0 0 0 0;\n",
              "      width: 32px;\n",
              "    }\n",
              "\n",
              "    .colab-df-convert:hover {\n",
              "      background-color: #E2EBFA;\n",
              "      box-shadow: 0px 1px 2px rgba(60, 64, 67, 0.3), 0px 1px 3px 1px rgba(60, 64, 67, 0.15);\n",
              "      fill: #174EA6;\n",
              "    }\n",
              "\n",
              "    [theme=dark] .colab-df-convert {\n",
              "      background-color: #3B4455;\n",
              "      fill: #D2E3FC;\n",
              "    }\n",
              "\n",
              "    [theme=dark] .colab-df-convert:hover {\n",
              "      background-color: #434B5C;\n",
              "      box-shadow: 0px 1px 3px 1px rgba(0, 0, 0, 0.15);\n",
              "      filter: drop-shadow(0px 1px 2px rgba(0, 0, 0, 0.3));\n",
              "      fill: #FFFFFF;\n",
              "    }\n",
              "  </style>\n",
              "\n",
              "      <script>\n",
              "        const buttonEl =\n",
              "          document.querySelector('#df-4da0744c-1cd0-44c2-9744-8494f7be449b button.colab-df-convert');\n",
              "        buttonEl.style.display =\n",
              "          google.colab.kernel.accessAllowed ? 'block' : 'none';\n",
              "\n",
              "        async function convertToInteractive(key) {\n",
              "          const element = document.querySelector('#df-4da0744c-1cd0-44c2-9744-8494f7be449b');\n",
              "          const dataTable =\n",
              "            await google.colab.kernel.invokeFunction('convertToInteractive',\n",
              "                                                     [key], {});\n",
              "          if (!dataTable) return;\n",
              "\n",
              "          const docLinkHtml = 'Like what you see? Visit the ' +\n",
              "            '<a target=\"_blank\" href=https://colab.research.google.com/notebooks/data_table.ipynb>data table notebook</a>'\n",
              "            + ' to learn more about interactive tables.';\n",
              "          element.innerHTML = '';\n",
              "          dataTable['output_type'] = 'display_data';\n",
              "          await google.colab.output.renderOutput(dataTable, element);\n",
              "          const docLink = document.createElement('div');\n",
              "          docLink.innerHTML = docLinkHtml;\n",
              "          element.appendChild(docLink);\n",
              "        }\n",
              "      </script>\n",
              "    </div>\n",
              "  </div>\n",
              "  "
            ]
          },
          "metadata": {},
          "execution_count": 16
        }
      ],
      "source": [
        "# # Load the testing dataset\n",
        "# from tensorflow.keras.preprocessing.image import ImageDataGenerator\n",
        "\n",
        "# test_dir = '/content/drive/MyDrive/STAAR/new_Brain_tumor/test'\n",
        "# img_size = (299, 299)\n",
        "# batch_size = 64\n",
        "\n",
        "# test_datagen = ImageDataGenerator(rescale=1./255) # or any other desired preprocessing\n",
        "# test_data = test_datagen.flow_from_directory(\n",
        "#               test_dir,\n",
        "#               shuffle=False,\n",
        "#               class_mode='binary',\n",
        "#               target_size=img_size,\n",
        "#               batch_size=batch_size,\n",
        "#               classes={'no': 0., 'yes': 1.}\n",
        "#               )\n",
        "\n",
        "# # print(test_data.shape)\n",
        "# test_result = model.evaluate(test_data)\n",
        "# augmented_df = pd.DataFrame(zip(test_result),columns=['Test'],index=['Loss','Acc'])\n",
        "# augmented_df"
      ]
    },
    {
      "cell_type": "code",
      "source": [
        "# Load the testing dataset\n",
        "from tensorflow.keras.preprocessing.image import ImageDataGenerator\n",
        "\n",
        "test_dir = '/content/drive/MyDrive/STAAR/new_Brain_tumor/test1'\n",
        "img_size = (299, 299)\n",
        "batch_size = 64\n",
        "\n",
        "test_datagen = ImageDataGenerator(rescale=1./255) # or any other desired preprocessing\n",
        "test_data = test_datagen.flow_from_directory(\n",
        "              test_dir,\n",
        "              shuffle=False,\n",
        "              class_mode='binary',\n",
        "              target_size=img_size,\n",
        "              batch_size=batch_size,\n",
        "              classes={'no': 0., 'yes': 1.}\n",
        "              )\n",
        "\n",
        "# print(test_data.shape)\n",
        "test_result = model.evaluate(test_data)\n",
        "augmented_df = pd.DataFrame(zip(test_result),columns=['Test'],index=['Loss','Acc'])\n",
        "augmented_df"
      ],
      "metadata": {
        "colab": {
          "base_uri": "https://localhost:8080/",
          "height": 148
        },
        "outputId": "a643e715-fef5-4078-edca-947d458602af",
        "id": "W-oCRayR9ZQK"
      },
      "execution_count": null,
      "outputs": [
        {
          "output_type": "stream",
          "name": "stdout",
          "text": [
            "Found 100 images belonging to 2 classes.\n",
            "2/2 [==============================] - 9s 8s/step - loss: 0.1807 - acc: 0.9600\n"
          ]
        },
        {
          "output_type": "execute_result",
          "data": {
            "text/plain": [
              "          Test\n",
              "Loss  0.180661\n",
              "Acc   0.960000"
            ],
            "text/html": [
              "\n",
              "  <div id=\"df-de3d62c4-4064-4084-9828-fc428fc13515\">\n",
              "    <div class=\"colab-df-container\">\n",
              "      <div>\n",
              "<style scoped>\n",
              "    .dataframe tbody tr th:only-of-type {\n",
              "        vertical-align: middle;\n",
              "    }\n",
              "\n",
              "    .dataframe tbody tr th {\n",
              "        vertical-align: top;\n",
              "    }\n",
              "\n",
              "    .dataframe thead th {\n",
              "        text-align: right;\n",
              "    }\n",
              "</style>\n",
              "<table border=\"1\" class=\"dataframe\">\n",
              "  <thead>\n",
              "    <tr style=\"text-align: right;\">\n",
              "      <th></th>\n",
              "      <th>Test</th>\n",
              "    </tr>\n",
              "  </thead>\n",
              "  <tbody>\n",
              "    <tr>\n",
              "      <th>Loss</th>\n",
              "      <td>0.180661</td>\n",
              "    </tr>\n",
              "    <tr>\n",
              "      <th>Acc</th>\n",
              "      <td>0.960000</td>\n",
              "    </tr>\n",
              "  </tbody>\n",
              "</table>\n",
              "</div>\n",
              "      <button class=\"colab-df-convert\" onclick=\"convertToInteractive('df-de3d62c4-4064-4084-9828-fc428fc13515')\"\n",
              "              title=\"Convert this dataframe to an interactive table.\"\n",
              "              style=\"display:none;\">\n",
              "        \n",
              "  <svg xmlns=\"http://www.w3.org/2000/svg\" height=\"24px\"viewBox=\"0 0 24 24\"\n",
              "       width=\"24px\">\n",
              "    <path d=\"M0 0h24v24H0V0z\" fill=\"none\"/>\n",
              "    <path d=\"M18.56 5.44l.94 2.06.94-2.06 2.06-.94-2.06-.94-.94-2.06-.94 2.06-2.06.94zm-11 1L8.5 8.5l.94-2.06 2.06-.94-2.06-.94L8.5 2.5l-.94 2.06-2.06.94zm10 10l.94 2.06.94-2.06 2.06-.94-2.06-.94-.94-2.06-.94 2.06-2.06.94z\"/><path d=\"M17.41 7.96l-1.37-1.37c-.4-.4-.92-.59-1.43-.59-.52 0-1.04.2-1.43.59L10.3 9.45l-7.72 7.72c-.78.78-.78 2.05 0 2.83L4 21.41c.39.39.9.59 1.41.59.51 0 1.02-.2 1.41-.59l7.78-7.78 2.81-2.81c.8-.78.8-2.07 0-2.86zM5.41 20L4 18.59l7.72-7.72 1.47 1.35L5.41 20z\"/>\n",
              "  </svg>\n",
              "      </button>\n",
              "      \n",
              "  <style>\n",
              "    .colab-df-container {\n",
              "      display:flex;\n",
              "      flex-wrap:wrap;\n",
              "      gap: 12px;\n",
              "    }\n",
              "\n",
              "    .colab-df-convert {\n",
              "      background-color: #E8F0FE;\n",
              "      border: none;\n",
              "      border-radius: 50%;\n",
              "      cursor: pointer;\n",
              "      display: none;\n",
              "      fill: #1967D2;\n",
              "      height: 32px;\n",
              "      padding: 0 0 0 0;\n",
              "      width: 32px;\n",
              "    }\n",
              "\n",
              "    .colab-df-convert:hover {\n",
              "      background-color: #E2EBFA;\n",
              "      box-shadow: 0px 1px 2px rgba(60, 64, 67, 0.3), 0px 1px 3px 1px rgba(60, 64, 67, 0.15);\n",
              "      fill: #174EA6;\n",
              "    }\n",
              "\n",
              "    [theme=dark] .colab-df-convert {\n",
              "      background-color: #3B4455;\n",
              "      fill: #D2E3FC;\n",
              "    }\n",
              "\n",
              "    [theme=dark] .colab-df-convert:hover {\n",
              "      background-color: #434B5C;\n",
              "      box-shadow: 0px 1px 3px 1px rgba(0, 0, 0, 0.15);\n",
              "      filter: drop-shadow(0px 1px 2px rgba(0, 0, 0, 0.3));\n",
              "      fill: #FFFFFF;\n",
              "    }\n",
              "  </style>\n",
              "\n",
              "      <script>\n",
              "        const buttonEl =\n",
              "          document.querySelector('#df-de3d62c4-4064-4084-9828-fc428fc13515 button.colab-df-convert');\n",
              "        buttonEl.style.display =\n",
              "          google.colab.kernel.accessAllowed ? 'block' : 'none';\n",
              "\n",
              "        async function convertToInteractive(key) {\n",
              "          const element = document.querySelector('#df-de3d62c4-4064-4084-9828-fc428fc13515');\n",
              "          const dataTable =\n",
              "            await google.colab.kernel.invokeFunction('convertToInteractive',\n",
              "                                                     [key], {});\n",
              "          if (!dataTable) return;\n",
              "\n",
              "          const docLinkHtml = 'Like what you see? Visit the ' +\n",
              "            '<a target=\"_blank\" href=https://colab.research.google.com/notebooks/data_table.ipynb>data table notebook</a>'\n",
              "            + ' to learn more about interactive tables.';\n",
              "          element.innerHTML = '';\n",
              "          dataTable['output_type'] = 'display_data';\n",
              "          await google.colab.output.renderOutput(dataTable, element);\n",
              "          const docLink = document.createElement('div');\n",
              "          docLink.innerHTML = docLinkHtml;\n",
              "          element.appendChild(docLink);\n",
              "        }\n",
              "      </script>\n",
              "    </div>\n",
              "  </div>\n",
              "  "
            ]
          },
          "metadata": {},
          "execution_count": 18
        }
      ]
    },
    {
      "cell_type": "markdown",
      "metadata": {
        "papermill": {
          "duration": 0.042176,
          "end_time": "2022-07-18T15:26:41.096254",
          "exception": false,
          "start_time": "2022-07-18T15:26:41.054078",
          "status": "completed"
        },
        "tags": [],
        "id": "rxIdnEpw8in5"
      },
      "source": [
        "## 4.2 InceptionV3 + VGG16\n",
        "<a class=\"anchor\" id=\"2\"></a>"
      ]
    },
    {
      "cell_type": "code",
      "source": [],
      "metadata": {
        "id": "D-J7lHLx8qxB"
      },
      "execution_count": null,
      "outputs": []
    },
    {
      "cell_type": "code",
      "execution_count": null,
      "metadata": {
        "colab": {
          "base_uri": "https://localhost:8080/",
          "height": 1000
        },
        "outputId": "cbcf3861-72fc-4de7-f0d0-62e7c89ffba3",
        "id": "8xgp5fjb9NlK"
      },
      "outputs": [
        {
          "output_type": "stream",
          "name": "stdout",
          "text": [
            "Downloading data from https://storage.googleapis.com/tensorflow/keras-applications/vgg16/vgg16_weights_tf_dim_ordering_tf_kernels_notop.h5\n",
            "58889256/58889256 [==============================] - 0s 0us/step\n",
            "Model: \"model_2\"\n",
            "__________________________________________________________________________________________________\n",
            " Layer (type)                   Output Shape         Param #     Connected to                     \n",
            "==================================================================================================\n",
            " input_8 (InputLayer)           [(None, 299, 299, 3  0           []                               \n",
            "                                )]                                                                \n",
            "                                                                                                  \n",
            " inception_v3 (Functional)      (None, 2048)         21802784    ['input_8[0][0]']                \n",
            "                                                                                                  \n",
            " vgg16 (Functional)             (None, 512)          14714688    ['input_8[0][0]']                \n",
            "                                                                                                  \n",
            " concatenate_10 (Concatenate)   (None, 2560)         0           ['inception_v3[0][0]',           \n",
            "                                                                  'vgg16[0][0]']                  \n",
            "                                                                                                  \n",
            " dense_5 (Dense)                (None, 1024)         2622464     ['concatenate_10[0][0]']         \n",
            "                                                                                                  \n",
            " dense_6 (Dense)                (None, 1)            1025        ['dense_5[0][0]']                \n",
            "                                                                                                  \n",
            "==================================================================================================\n",
            "Total params: 39,140,961\n",
            "Trainable params: 2,623,489\n",
            "Non-trainable params: 36,517,472\n",
            "__________________________________________________________________________________________________\n"
          ]
        },
        {
          "output_type": "execute_result",
          "data": {
            "image/png": "[encoded data removed]",
            "text/plain": [
              "<IPython.core.display.Image object>"
            ]
          },
          "metadata": {},
          "execution_count": 19
        }
      ],
      "source": [
        "import tensorflow as tf\n",
        "from tensorflow.keras.applications import InceptionV3, VGG16\n",
        "\n",
        "# Define InceptionV3 model\n",
        "input_shape = (299, 299, 3)\n",
        "Input_Layer = layers.Input(shape=input_shape)\n",
        "base_model1 = InceptionV3(weights='imagenet', include_top=False, input_shape=input_shape, pooling='avg')\n",
        "\n",
        "for layer in base_model1.layers:\n",
        "    layer.trainable = False;\n",
        "\n",
        "base_model1 = base_model1(Input_Layer)\n",
        "\n",
        "# Define VGG19 model\n",
        "input_shape = (299, 299, 3)\n",
        "base_model2 = VGG16(weights='imagenet', include_top=False, input_shape=input_shape, pooling='avg')\n",
        "\n",
        "for layer in base_model2.layers:\n",
        "    layer.trainable = False;\n",
        "\n",
        "base_model2 = base_model2(Input_Layer)\n",
        "\n",
        "# Concatenate the models\n",
        "concatenated = tf.keras.layers.Concatenate()([base_model1, base_model2])\n",
        "\n",
        "# Add fully connected layer\n",
        "x = tf.keras.layers.Dense(1024, activation='relu')(concatenated)\n",
        "\n",
        "# Add output layer\n",
        "output = tf.keras.layers.Dense(1, activation='sigmoid')(x)\n",
        "\n",
        "# Define the combined model\n",
        "model = tf.keras.Model(inputs=Input_Layer, outputs=output)\n",
        "\n",
        "# Compile the model\n",
        "model.compile(\n",
        "          loss='binary_crossentropy',\n",
        "          optimizer=tf.keras.optimizers.Adam(0.001),\n",
        "          metrics=['acc'])\n",
        "\n",
        "# Print model summary\n",
        "model.summary()\n",
        "keras.utils.plot_model(model, \"inceptionV3+VGG19.png\", show_shapes=True)"
      ]
    },
    {
      "cell_type": "code",
      "execution_count": null,
      "metadata": {
        "colab": {
          "base_uri": "https://localhost:8080/"
        },
        "outputId": "09b17b15-2ecc-4536-98c7-65fd8235bc77",
        "id": "50QjI3cJ9Nlb"
      },
      "outputs": [
        {
          "output_type": "stream",
          "name": "stdout",
          "text": [
            "Epoch 1/25\n",
            "26/26 [==============================] - 388s 14s/step - loss: 1.2453 - acc: 0.6595 - val_loss: 0.3139 - val_acc: 0.9407 - lr: 0.0010\n",
            "Epoch 2/25\n",
            "26/26 [==============================] - 15s 571ms/step - loss: 0.2548 - acc: 0.8957 - val_loss: 0.2021 - val_acc: 0.9605 - lr: 0.0010\n",
            "Epoch 3/25\n",
            "26/26 [==============================] - 15s 577ms/step - loss: 0.1722 - acc: 0.9371 - val_loss: 0.2829 - val_acc: 0.8444 - lr: 0.0010\n",
            "Epoch 4/25\n",
            "26/26 [==============================] - 15s 564ms/step - loss: 0.1375 - acc: 0.9531 - val_loss: 0.2342 - val_acc: 0.8889 - lr: 0.0010\n",
            "Epoch 5/25\n",
            "26/26 [==============================] - 18s 669ms/step - loss: 0.1039 - acc: 0.9648 - val_loss: 0.1468 - val_acc: 0.9531 - lr: 0.0010\n",
            "Epoch 6/25\n",
            "26/26 [==============================] - 15s 562ms/step - loss: 0.0796 - acc: 0.9766 - val_loss: 0.1238 - val_acc: 0.9605 - lr: 0.0010\n",
            "Epoch 7/25\n",
            "26/26 [==============================] - 15s 566ms/step - loss: 0.0664 - acc: 0.9821 - val_loss: 0.1288 - val_acc: 0.9531 - lr: 0.0010\n",
            "Epoch 8/25\n",
            "26/26 [==============================] - 15s 582ms/step - loss: 0.0533 - acc: 0.9883 - val_loss: 0.1142 - val_acc: 0.9531 - lr: 0.0010\n",
            "Epoch 9/25\n",
            "26/26 [==============================] - 15s 573ms/step - loss: 0.0433 - acc: 0.9883 - val_loss: 0.1049 - val_acc: 0.9630 - lr: 0.0010\n",
            "Epoch 10/25\n",
            "26/26 [==============================] - 15s 572ms/step - loss: 0.0392 - acc: 0.9920 - val_loss: 0.1268 - val_acc: 0.9481 - lr: 0.0010\n",
            "Epoch 11/25\n",
            "26/26 [==============================] - 15s 577ms/step - loss: 0.0279 - acc: 0.9969 - val_loss: 0.1821 - val_acc: 0.9309 - lr: 0.0010\n",
            "Epoch 12/25\n",
            "26/26 [==============================] - 15s 566ms/step - loss: 0.0237 - acc: 0.9969 - val_loss: 0.1092 - val_acc: 0.9630 - lr: 0.0010\n",
            "Epoch 13/25\n",
            "26/26 [==============================] - 15s 570ms/step - loss: 0.0204 - acc: 0.9975 - val_loss: 0.1713 - val_acc: 0.9309 - lr: 0.0010\n",
            "Epoch 14/25\n",
            "26/26 [==============================] - 15s 585ms/step - loss: 0.0177 - acc: 0.9981 - val_loss: 0.1178 - val_acc: 0.9556 - lr: 0.0010\n"
          ]
        }
      ],
      "source": [
        "# from keras.callbacks import ModelCheckpoint\n",
        "\n",
        "# # define the checkpoint to save the best weights during training\n",
        "# checkpoint = ModelCheckpoint('combined_model_best_weights.h5', save_best_only=True, save_weights_only=True, monitor='val_loss', mode='min', verbose=1)\n",
        "\n",
        "early = tf.keras.callbacks.EarlyStopping(monitor=\"val_loss\", mode=\"min\",restore_best_weights=True, patience=5)\n",
        "\n",
        "reduce_lr = tf.keras.callbacks.ReduceLROnPlateau(monitor='acc', factor=0.3,patience=3, min_lr=0.0001)\n",
        "\n",
        "callbacks_list = [early,reduce_lr]\n",
        "\n",
        "# train the model using the training data\n",
        "history = model.fit(\n",
        "        x=train_ds,\n",
        "        validation_data=val_ds,\n",
        "        epochs=25,\n",
        "        #shuffle=True,\n",
        "        verbose=True,\n",
        "        callbacks=callbacks_list)"
      ]
    },
    {
      "cell_type": "code",
      "execution_count": null,
      "metadata": {
        "id": "8_GPgAem9Nlc"
      },
      "outputs": [],
      "source": [
        "# model.save('/content/drive/MyDrive/STAAR/solved_model/model_Inception+VGG16_adam.h5')"
      ]
    },
    {
      "cell_type": "code",
      "execution_count": null,
      "metadata": {
        "id": "9UhURv_49Nlc"
      },
      "outputs": [],
      "source": [
        "# Load the saved model\n",
        "from keras.models import load_model\n",
        "model_Inception_VGG16_adam= load_model('/content/drive/MyDrive/STAAR/solved_model/model_Inception+VGG16_adam.h5')"
      ]
    },
    {
      "cell_type": "code",
      "execution_count": null,
      "metadata": {
        "colab": {
          "base_uri": "https://localhost:8080/",
          "height": 148
        },
        "outputId": "2d3d3360-f528-49e9-91b1-d3f8af08203f",
        "id": "3lTUw6_F9Nlc"
      },
      "outputs": [
        {
          "output_type": "stream",
          "name": "stdout",
          "text": [
            "26/26 [==============================] - 20s 656ms/step - loss: 0.0131 - acc: 1.0000\n",
            "7/7 [==============================] - 5s 599ms/step - loss: 0.0324 - acc: 0.9901\n"
          ]
        },
        {
          "output_type": "execute_result",
          "data": {
            "text/plain": [
              "         Train       Val\n",
              "Loss  0.013118  0.032435\n",
              "Acc   1.000000  0.990123"
            ],
            "text/html": [
              "\n",
              "  <div id=\"df-dc761793-0585-4c9e-801a-18c8fbd76f66\">\n",
              "    <div class=\"colab-df-container\">\n",
              "      <div>\n",
              "<style scoped>\n",
              "    .dataframe tbody tr th:only-of-type {\n",
              "        vertical-align: middle;\n",
              "    }\n",
              "\n",
              "    .dataframe tbody tr th {\n",
              "        vertical-align: top;\n",
              "    }\n",
              "\n",
              "    .dataframe thead th {\n",
              "        text-align: right;\n",
              "    }\n",
              "</style>\n",
              "<table border=\"1\" class=\"dataframe\">\n",
              "  <thead>\n",
              "    <tr style=\"text-align: right;\">\n",
              "      <th></th>\n",
              "      <th>Train</th>\n",
              "      <th>Val</th>\n",
              "    </tr>\n",
              "  </thead>\n",
              "  <tbody>\n",
              "    <tr>\n",
              "      <th>Loss</th>\n",
              "      <td>0.013118</td>\n",
              "      <td>0.032435</td>\n",
              "    </tr>\n",
              "    <tr>\n",
              "      <th>Acc</th>\n",
              "      <td>1.000000</td>\n",
              "      <td>0.990123</td>\n",
              "    </tr>\n",
              "  </tbody>\n",
              "</table>\n",
              "</div>\n",
              "      <button class=\"colab-df-convert\" onclick=\"convertToInteractive('df-dc761793-0585-4c9e-801a-18c8fbd76f66')\"\n",
              "              title=\"Convert this dataframe to an interactive table.\"\n",
              "              style=\"display:none;\">\n",
              "        \n",
              "  <svg xmlns=\"http://www.w3.org/2000/svg\" height=\"24px\"viewBox=\"0 0 24 24\"\n",
              "       width=\"24px\">\n",
              "    <path d=\"M0 0h24v24H0V0z\" fill=\"none\"/>\n",
              "    <path d=\"M18.56 5.44l.94 2.06.94-2.06 2.06-.94-2.06-.94-.94-2.06-.94 2.06-2.06.94zm-11 1L8.5 8.5l.94-2.06 2.06-.94-2.06-.94L8.5 2.5l-.94 2.06-2.06.94zm10 10l.94 2.06.94-2.06 2.06-.94-2.06-.94-.94-2.06-.94 2.06-2.06.94z\"/><path d=\"M17.41 7.96l-1.37-1.37c-.4-.4-.92-.59-1.43-.59-.52 0-1.04.2-1.43.59L10.3 9.45l-7.72 7.72c-.78.78-.78 2.05 0 2.83L4 21.41c.39.39.9.59 1.41.59.51 0 1.02-.2 1.41-.59l7.78-7.78 2.81-2.81c.8-.78.8-2.07 0-2.86zM5.41 20L4 18.59l7.72-7.72 1.47 1.35L5.41 20z\"/>\n",
              "  </svg>\n",
              "      </button>\n",
              "      \n",
              "  <style>\n",
              "    .colab-df-container {\n",
              "      display:flex;\n",
              "      flex-wrap:wrap;\n",
              "      gap: 12px;\n",
              "    }\n",
              "\n",
              "    .colab-df-convert {\n",
              "      background-color: #E8F0FE;\n",
              "      border: none;\n",
              "      border-radius: 50%;\n",
              "      cursor: pointer;\n",
              "      display: none;\n",
              "      fill: #1967D2;\n",
              "      height: 32px;\n",
              "      padding: 0 0 0 0;\n",
              "      width: 32px;\n",
              "    }\n",
              "\n",
              "    .colab-df-convert:hover {\n",
              "      background-color: #E2EBFA;\n",
              "      box-shadow: 0px 1px 2px rgba(60, 64, 67, 0.3), 0px 1px 3px 1px rgba(60, 64, 67, 0.15);\n",
              "      fill: #174EA6;\n",
              "    }\n",
              "\n",
              "    [theme=dark] .colab-df-convert {\n",
              "      background-color: #3B4455;\n",
              "      fill: #D2E3FC;\n",
              "    }\n",
              "\n",
              "    [theme=dark] .colab-df-convert:hover {\n",
              "      background-color: #434B5C;\n",
              "      box-shadow: 0px 1px 3px 1px rgba(0, 0, 0, 0.15);\n",
              "      filter: drop-shadow(0px 1px 2px rgba(0, 0, 0, 0.3));\n",
              "      fill: #FFFFFF;\n",
              "    }\n",
              "  </style>\n",
              "\n",
              "      <script>\n",
              "        const buttonEl =\n",
              "          document.querySelector('#df-dc761793-0585-4c9e-801a-18c8fbd76f66 button.colab-df-convert');\n",
              "        buttonEl.style.display =\n",
              "          google.colab.kernel.accessAllowed ? 'block' : 'none';\n",
              "\n",
              "        async function convertToInteractive(key) {\n",
              "          const element = document.querySelector('#df-dc761793-0585-4c9e-801a-18c8fbd76f66');\n",
              "          const dataTable =\n",
              "            await google.colab.kernel.invokeFunction('convertToInteractive',\n",
              "                                                     [key], {});\n",
              "          if (!dataTable) return;\n",
              "\n",
              "          const docLinkHtml = 'Like what you see? Visit the ' +\n",
              "            '<a target=\"_blank\" href=https://colab.research.google.com/notebooks/data_table.ipynb>data table notebook</a>'\n",
              "            + ' to learn more about interactive tables.';\n",
              "          element.innerHTML = '';\n",
              "          dataTable['output_type'] = 'display_data';\n",
              "          await google.colab.output.renderOutput(dataTable, element);\n",
              "          const docLink = document.createElement('div');\n",
              "          docLink.innerHTML = docLinkHtml;\n",
              "          element.appendChild(docLink);\n",
              "        }\n",
              "      </script>\n",
              "    </div>\n",
              "  </div>\n",
              "  "
            ]
          },
          "metadata": {},
          "execution_count": 21
        }
      ],
      "source": [
        "train_result = model.evaluate(train_ds)\n",
        "val_result = model.evaluate(val_ds)\n",
        "\n",
        "augmented_df = pd.DataFrame(zip(train_result,val_result),columns=['Train','Val'],index=['Loss','Acc'])\n",
        "augmented_df"
      ]
    },
    {
      "cell_type": "code",
      "source": [
        "# plot learning curve\n",
        "def plot_learning_curve(history):\n",
        "    acc = history.history['acc']\n",
        "    val_acc = history.history['val_acc']\n",
        "    loss = history.history['loss']\n",
        "    val_loss = history.history['val_loss']\n",
        "    epochs = range(len(acc))\n",
        "\n",
        "    plt.plot(epochs, acc, label='training acc')\n",
        "    plt.plot(epochs, val_acc, label='validation acc')\n",
        "    plt.xlabel('Epochs')\n",
        "    plt.ylabel('Accuracy-%')\n",
        "    plt.legend()\n",
        "    plt.figure()\n",
        "\n",
        "    plt.plot(epochs, loss, label='training loss')\n",
        "    plt.plot(epochs, val_loss, label='validation loss')\n",
        "    plt.xlabel('Epochs')\n",
        "    plt.ylabel('Loss')\n",
        "    plt.legend()\n",
        "\n",
        "plot_learning_curve(history)"
      ],
      "metadata": {
        "id": "W1ASyvpz9Nlc"
      },
      "execution_count": null,
      "outputs": []
    },
    {
      "cell_type": "code",
      "execution_count": null,
      "metadata": {
        "colab": {
          "base_uri": "https://localhost:8080/",
          "height": 148
        },
        "outputId": "2a5e7ef9-31d1-41b3-a0df-ac6e1d24e6e0",
        "id": "Z4RJAkmb9Nlc"
      },
      "outputs": [
        {
          "output_type": "stream",
          "name": "stdout",
          "text": [
            "Found 210 images belonging to 2 classes.\n",
            "4/4 [==============================] - 4s 706ms/step - loss: 0.3598 - acc: 0.8714\n"
          ]
        },
        {
          "output_type": "execute_result",
          "data": {
            "text/plain": [
              "          Test\n",
              "Loss  0.359843\n",
              "Acc   0.871429"
            ],
            "text/html": [
              "\n",
              "  <div id=\"df-7f6ffcee-393d-45f3-949f-2bc64761e762\">\n",
              "    <div class=\"colab-df-container\">\n",
              "      <div>\n",
              "<style scoped>\n",
              "    .dataframe tbody tr th:only-of-type {\n",
              "        vertical-align: middle;\n",
              "    }\n",
              "\n",
              "    .dataframe tbody tr th {\n",
              "        vertical-align: top;\n",
              "    }\n",
              "\n",
              "    .dataframe thead th {\n",
              "        text-align: right;\n",
              "    }\n",
              "</style>\n",
              "<table border=\"1\" class=\"dataframe\">\n",
              "  <thead>\n",
              "    <tr style=\"text-align: right;\">\n",
              "      <th></th>\n",
              "      <th>Test</th>\n",
              "    </tr>\n",
              "  </thead>\n",
              "  <tbody>\n",
              "    <tr>\n",
              "      <th>Loss</th>\n",
              "      <td>0.359843</td>\n",
              "    </tr>\n",
              "    <tr>\n",
              "      <th>Acc</th>\n",
              "      <td>0.871429</td>\n",
              "    </tr>\n",
              "  </tbody>\n",
              "</table>\n",
              "</div>\n",
              "      <button class=\"colab-df-convert\" onclick=\"convertToInteractive('df-7f6ffcee-393d-45f3-949f-2bc64761e762')\"\n",
              "              title=\"Convert this dataframe to an interactive table.\"\n",
              "              style=\"display:none;\">\n",
              "        \n",
              "  <svg xmlns=\"http://www.w3.org/2000/svg\" height=\"24px\"viewBox=\"0 0 24 24\"\n",
              "       width=\"24px\">\n",
              "    <path d=\"M0 0h24v24H0V0z\" fill=\"none\"/>\n",
              "    <path d=\"M18.56 5.44l.94 2.06.94-2.06 2.06-.94-2.06-.94-.94-2.06-.94 2.06-2.06.94zm-11 1L8.5 8.5l.94-2.06 2.06-.94-2.06-.94L8.5 2.5l-.94 2.06-2.06.94zm10 10l.94 2.06.94-2.06 2.06-.94-2.06-.94-.94-2.06-.94 2.06-2.06.94z\"/><path d=\"M17.41 7.96l-1.37-1.37c-.4-.4-.92-.59-1.43-.59-.52 0-1.04.2-1.43.59L10.3 9.45l-7.72 7.72c-.78.78-.78 2.05 0 2.83L4 21.41c.39.39.9.59 1.41.59.51 0 1.02-.2 1.41-.59l7.78-7.78 2.81-2.81c.8-.78.8-2.07 0-2.86zM5.41 20L4 18.59l7.72-7.72 1.47 1.35L5.41 20z\"/>\n",
              "  </svg>\n",
              "      </button>\n",
              "      \n",
              "  <style>\n",
              "    .colab-df-container {\n",
              "      display:flex;\n",
              "      flex-wrap:wrap;\n",
              "      gap: 12px;\n",
              "    }\n",
              "\n",
              "    .colab-df-convert {\n",
              "      background-color: #E8F0FE;\n",
              "      border: none;\n",
              "      border-radius: 50%;\n",
              "      cursor: pointer;\n",
              "      display: none;\n",
              "      fill: #1967D2;\n",
              "      height: 32px;\n",
              "      padding: 0 0 0 0;\n",
              "      width: 32px;\n",
              "    }\n",
              "\n",
              "    .colab-df-convert:hover {\n",
              "      background-color: #E2EBFA;\n",
              "      box-shadow: 0px 1px 2px rgba(60, 64, 67, 0.3), 0px 1px 3px 1px rgba(60, 64, 67, 0.15);\n",
              "      fill: #174EA6;\n",
              "    }\n",
              "\n",
              "    [theme=dark] .colab-df-convert {\n",
              "      background-color: #3B4455;\n",
              "      fill: #D2E3FC;\n",
              "    }\n",
              "\n",
              "    [theme=dark] .colab-df-convert:hover {\n",
              "      background-color: #434B5C;\n",
              "      box-shadow: 0px 1px 3px 1px rgba(0, 0, 0, 0.15);\n",
              "      filter: drop-shadow(0px 1px 2px rgba(0, 0, 0, 0.3));\n",
              "      fill: #FFFFFF;\n",
              "    }\n",
              "  </style>\n",
              "\n",
              "      <script>\n",
              "        const buttonEl =\n",
              "          document.querySelector('#df-7f6ffcee-393d-45f3-949f-2bc64761e762 button.colab-df-convert');\n",
              "        buttonEl.style.display =\n",
              "          google.colab.kernel.accessAllowed ? 'block' : 'none';\n",
              "\n",
              "        async function convertToInteractive(key) {\n",
              "          const element = document.querySelector('#df-7f6ffcee-393d-45f3-949f-2bc64761e762');\n",
              "          const dataTable =\n",
              "            await google.colab.kernel.invokeFunction('convertToInteractive',\n",
              "                                                     [key], {});\n",
              "          if (!dataTable) return;\n",
              "\n",
              "          const docLinkHtml = 'Like what you see? Visit the ' +\n",
              "            '<a target=\"_blank\" href=https://colab.research.google.com/notebooks/data_table.ipynb>data table notebook</a>'\n",
              "            + ' to learn more about interactive tables.';\n",
              "          element.innerHTML = '';\n",
              "          dataTable['output_type'] = 'display_data';\n",
              "          await google.colab.output.renderOutput(dataTable, element);\n",
              "          const docLink = document.createElement('div');\n",
              "          docLink.innerHTML = docLinkHtml;\n",
              "          element.appendChild(docLink);\n",
              "        }\n",
              "      </script>\n",
              "    </div>\n",
              "  </div>\n",
              "  "
            ]
          },
          "metadata": {},
          "execution_count": 22
        }
      ],
      "source": [
        "# # Load the testing dataset\n",
        "# from tensorflow.keras.preprocessing.image import ImageDataGenerator\n",
        "\n",
        "# test_dir = '/content/drive/MyDrive/STAAR/new_Brain_tumor/test'\n",
        "# img_size = (299, 299)\n",
        "# batch_size = 64\n",
        "\n",
        "# test_datagen = ImageDataGenerator(rescale=1./255) # or any other desired preprocessing\n",
        "# test_data = test_datagen.flow_from_directory(\n",
        "#               test_dir,\n",
        "#               shuffle=False,\n",
        "#               class_mode='binary',\n",
        "#               target_size=img_size,\n",
        "#               batch_size=batch_size,\n",
        "#               classes={'no': 0., 'yes': 1.}\n",
        "#               )\n",
        "\n",
        "# # print(test_data.shape)\n",
        "# test_result = model.evaluate(test_data)\n",
        "# augmented_df = pd.DataFrame(zip(test_result),columns=['Test'],index=['Loss','Acc'])\n",
        "# augmented_df"
      ]
    },
    {
      "cell_type": "code",
      "source": [
        "# Load the testing dataset\n",
        "from tensorflow.keras.preprocessing.image import ImageDataGenerator\n",
        "\n",
        "test_dir = '/content/drive/MyDrive/STAAR/new_Brain_tumor/test2'\n",
        "img_size = (299, 299)\n",
        "batch_size = 64\n",
        "\n",
        "test_datagen = ImageDataGenerator(rescale=1./255) # or any other desired preprocessing\n",
        "test_data = test_datagen.flow_from_directory(\n",
        "              test_dir,\n",
        "              shuffle=False,\n",
        "              class_mode='binary',\n",
        "              target_size=img_size,\n",
        "              batch_size=batch_size,\n",
        "              classes={'no': 0., 'yes': 1.}\n",
        "              )\n",
        "\n",
        "# print(test_data.shape)\n",
        "test_result = model.evaluate(test_data)\n",
        "augmented_df = pd.DataFrame(zip(test_result),columns=['Test'],index=['Loss','Acc'])\n",
        "augmented_df"
      ],
      "metadata": {
        "colab": {
          "base_uri": "https://localhost:8080/",
          "height": 148
        },
        "outputId": "c3c03410-b9a9-47e6-a5a9-ae93062ef18b",
        "id": "fyEctSry9Nld"
      },
      "execution_count": null,
      "outputs": [
        {
          "output_type": "stream",
          "name": "stdout",
          "text": [
            "Found 100 images belonging to 2 classes.\n",
            "2/2 [==============================] - 1s 419ms/step - loss: 0.2046 - acc: 0.9300\n"
          ]
        },
        {
          "output_type": "execute_result",
          "data": {
            "text/plain": [
              "          Test\n",
              "Loss  0.204557\n",
              "Acc   0.930000"
            ],
            "text/html": [
              "\n",
              "  <div id=\"df-0dfcf80c-9590-4d66-97db-436c8b3a8ec8\">\n",
              "    <div class=\"colab-df-container\">\n",
              "      <div>\n",
              "<style scoped>\n",
              "    .dataframe tbody tr th:only-of-type {\n",
              "        vertical-align: middle;\n",
              "    }\n",
              "\n",
              "    .dataframe tbody tr th {\n",
              "        vertical-align: top;\n",
              "    }\n",
              "\n",
              "    .dataframe thead th {\n",
              "        text-align: right;\n",
              "    }\n",
              "</style>\n",
              "<table border=\"1\" class=\"dataframe\">\n",
              "  <thead>\n",
              "    <tr style=\"text-align: right;\">\n",
              "      <th></th>\n",
              "      <th>Test</th>\n",
              "    </tr>\n",
              "  </thead>\n",
              "  <tbody>\n",
              "    <tr>\n",
              "      <th>Loss</th>\n",
              "      <td>0.204557</td>\n",
              "    </tr>\n",
              "    <tr>\n",
              "      <th>Acc</th>\n",
              "      <td>0.930000</td>\n",
              "    </tr>\n",
              "  </tbody>\n",
              "</table>\n",
              "</div>\n",
              "      <button class=\"colab-df-convert\" onclick=\"convertToInteractive('df-0dfcf80c-9590-4d66-97db-436c8b3a8ec8')\"\n",
              "              title=\"Convert this dataframe to an interactive table.\"\n",
              "              style=\"display:none;\">\n",
              "        \n",
              "  <svg xmlns=\"http://www.w3.org/2000/svg\" height=\"24px\"viewBox=\"0 0 24 24\"\n",
              "       width=\"24px\">\n",
              "    <path d=\"M0 0h24v24H0V0z\" fill=\"none\"/>\n",
              "    <path d=\"M18.56 5.44l.94 2.06.94-2.06 2.06-.94-2.06-.94-.94-2.06-.94 2.06-2.06.94zm-11 1L8.5 8.5l.94-2.06 2.06-.94-2.06-.94L8.5 2.5l-.94 2.06-2.06.94zm10 10l.94 2.06.94-2.06 2.06-.94-2.06-.94-.94-2.06-.94 2.06-2.06.94z\"/><path d=\"M17.41 7.96l-1.37-1.37c-.4-.4-.92-.59-1.43-.59-.52 0-1.04.2-1.43.59L10.3 9.45l-7.72 7.72c-.78.78-.78 2.05 0 2.83L4 21.41c.39.39.9.59 1.41.59.51 0 1.02-.2 1.41-.59l7.78-7.78 2.81-2.81c.8-.78.8-2.07 0-2.86zM5.41 20L4 18.59l7.72-7.72 1.47 1.35L5.41 20z\"/>\n",
              "  </svg>\n",
              "      </button>\n",
              "      \n",
              "  <style>\n",
              "    .colab-df-container {\n",
              "      display:flex;\n",
              "      flex-wrap:wrap;\n",
              "      gap: 12px;\n",
              "    }\n",
              "\n",
              "    .colab-df-convert {\n",
              "      background-color: #E8F0FE;\n",
              "      border: none;\n",
              "      border-radius: 50%;\n",
              "      cursor: pointer;\n",
              "      display: none;\n",
              "      fill: #1967D2;\n",
              "      height: 32px;\n",
              "      padding: 0 0 0 0;\n",
              "      width: 32px;\n",
              "    }\n",
              "\n",
              "    .colab-df-convert:hover {\n",
              "      background-color: #E2EBFA;\n",
              "      box-shadow: 0px 1px 2px rgba(60, 64, 67, 0.3), 0px 1px 3px 1px rgba(60, 64, 67, 0.15);\n",
              "      fill: #174EA6;\n",
              "    }\n",
              "\n",
              "    [theme=dark] .colab-df-convert {\n",
              "      background-color: #3B4455;\n",
              "      fill: #D2E3FC;\n",
              "    }\n",
              "\n",
              "    [theme=dark] .colab-df-convert:hover {\n",
              "      background-color: #434B5C;\n",
              "      box-shadow: 0px 1px 3px 1px rgba(0, 0, 0, 0.15);\n",
              "      filter: drop-shadow(0px 1px 2px rgba(0, 0, 0, 0.3));\n",
              "      fill: #FFFFFF;\n",
              "    }\n",
              "  </style>\n",
              "\n",
              "      <script>\n",
              "        const buttonEl =\n",
              "          document.querySelector('#df-0dfcf80c-9590-4d66-97db-436c8b3a8ec8 button.colab-df-convert');\n",
              "        buttonEl.style.display =\n",
              "          google.colab.kernel.accessAllowed ? 'block' : 'none';\n",
              "\n",
              "        async function convertToInteractive(key) {\n",
              "          const element = document.querySelector('#df-0dfcf80c-9590-4d66-97db-436c8b3a8ec8');\n",
              "          const dataTable =\n",
              "            await google.colab.kernel.invokeFunction('convertToInteractive',\n",
              "                                                     [key], {});\n",
              "          if (!dataTable) return;\n",
              "\n",
              "          const docLinkHtml = 'Like what you see? Visit the ' +\n",
              "            '<a target=\"_blank\" href=https://colab.research.google.com/notebooks/data_table.ipynb>data table notebook</a>'\n",
              "            + ' to learn more about interactive tables.';\n",
              "          element.innerHTML = '';\n",
              "          dataTable['output_type'] = 'display_data';\n",
              "          await google.colab.output.renderOutput(dataTable, element);\n",
              "          const docLink = document.createElement('div');\n",
              "          docLink.innerHTML = docLinkHtml;\n",
              "          element.appendChild(docLink);\n",
              "        }\n",
              "      </script>\n",
              "    </div>\n",
              "  </div>\n",
              "  "
            ]
          },
          "metadata": {},
          "execution_count": 23
        }
      ]
    },
    {
      "cell_type": "markdown",
      "metadata": {
        "papermill": {
          "duration": 0.042176,
          "end_time": "2022-07-18T15:26:41.096254",
          "exception": false,
          "start_time": "2022-07-18T15:26:41.054078",
          "status": "completed"
        },
        "tags": [],
        "id": "A1Ko448a8iuh"
      },
      "source": [
        "## 4.2 InceptionV3 + Xception\n",
        "<a class=\"anchor\" id=\"2\"></a>"
      ]
    },
    {
      "cell_type": "code",
      "execution_count": null,
      "metadata": {
        "colab": {
          "base_uri": "https://localhost:8080/",
          "height": 1000
        },
        "outputId": "7b2368f0-1266-499a-e32d-be2fb7d10c63",
        "id": "RAjBkrSn_sLD"
      },
      "outputs": [
        {
          "output_type": "stream",
          "name": "stdout",
          "text": [
            "Downloading data from https://storage.googleapis.com/tensorflow/keras-applications/xception/xception_weights_tf_dim_ordering_tf_kernels_notop.h5\n",
            "83683744/83683744 [==============================] - 0s 0us/step\n",
            "Model: \"model_3\"\n",
            "__________________________________________________________________________________________________\n",
            " Layer (type)                   Output Shape         Param #     Connected to                     \n",
            "==================================================================================================\n",
            " input_11 (InputLayer)          [(None, 299, 299, 3  0           []                               \n",
            "                                )]                                                                \n",
            "                                                                                                  \n",
            " inception_v3 (Functional)      (None, 2048)         21802784    ['input_11[0][0]']               \n",
            "                                                                                                  \n",
            " xception (Functional)          (None, 2048)         20861480    ['input_11[0][0]']               \n",
            "                                                                                                  \n",
            " concatenate_13 (Concatenate)   (None, 4096)         0           ['inception_v3[0][0]',           \n",
            "                                                                  'xception[0][0]']               \n",
            "                                                                                                  \n",
            " dense_7 (Dense)                (None, 1024)         4195328     ['concatenate_13[0][0]']         \n",
            "                                                                                                  \n",
            " dense_8 (Dense)                (None, 1)            1025        ['dense_7[0][0]']                \n",
            "                                                                                                  \n",
            "==================================================================================================\n",
            "Total params: 46,860,617\n",
            "Trainable params: 4,196,353\n",
            "Non-trainable params: 42,664,264\n",
            "__________________________________________________________________________________________________\n"
          ]
        },
        {
          "output_type": "execute_result",
          "data": {
            "image/png": "[encoded data removed]",
            "text/plain": [
              "<IPython.core.display.Image object>"
            ]
          },
          "metadata": {},
          "execution_count": 24
        }
      ],
      "source": [
        "import tensorflow as tf\n",
        "from tensorflow.keras.applications import InceptionV3, Xception\n",
        "\n",
        "# Define InceptionV3 model\n",
        "input_shape = (299, 299, 3)\n",
        "Input_Layer = layers.Input(shape=input_shape)\n",
        "base_model1 = InceptionV3(include_top=False, input_shape=input_shape, pooling='avg')\n",
        "\n",
        "for layer in base_model1.layers:\n",
        "    layer.trainable = False;\n",
        "\n",
        "base_model1 = base_model1(Input_Layer)\n",
        "# Define Xception model\n",
        "input_shape = (299, 299, 3)\n",
        "base_model2 = Xception(include_top=False, input_shape=input_shape, pooling='avg')\n",
        "\n",
        "for layer in base_model2.layers:\n",
        "    layer.trainable = False;\n",
        "\n",
        "base_model2 = base_model2(Input_Layer)\n",
        "\n",
        "# Concatenate the models\n",
        "concatenated = tf.keras.layers.Concatenate()([base_model1, base_model2])\n",
        "\n",
        "# Add fully connected layer\n",
        "x = tf.keras.layers.Dense(1024, activation='relu')(concatenated)\n",
        "\n",
        "# Add output layer\n",
        "output = tf.keras.layers.Dense(1, activation='sigmoid')(x)\n",
        "\n",
        "# Define the combined model\n",
        "model = tf.keras.Model(inputs=Input_Layer, outputs=output)\n",
        "\n",
        "# Compile the model\n",
        "model.compile(optimizer=tf.keras.optimizers.Adam(),\n",
        "              loss=tf.losses.binary_crossentropy,\n",
        "              metrics=['accuracy'])\n",
        "\n",
        "# Print model summary\n",
        "model.summary()\n",
        "keras.utils.plot_model(model, \"inceptionV3+xception.png\", show_shapes=True)"
      ]
    },
    {
      "cell_type": "code",
      "execution_count": null,
      "metadata": {
        "colab": {
          "base_uri": "https://localhost:8080/"
        },
        "outputId": "cc725934-db1e-4fed-a48e-969aba662189",
        "id": "2inIzv0dfw8A"
      },
      "outputs": [
        {
          "output_type": "stream",
          "name": "stdout",
          "text": [
            "Epoch 1/25\n",
            "26/26 [==============================] - ETA: 0s - loss: 1.0977 - accuracy: 0.7526"
          ]
        },
        {
          "output_type": "stream",
          "name": "stderr",
          "text": [
            "WARNING:tensorflow:Learning rate reduction is conditioned on metric `acc` which is not available. Available metrics are: loss,accuracy,val_loss,val_accuracy,lr\n"
          ]
        },
        {
          "output_type": "stream",
          "name": "stdout",
          "text": [
            "\b\b\b\b\b\b\b\b\b\b\b\b\b\b\b\b\b\b\b\b\b\b\b\b\b\b\b\b\b\b\b\b\b\b\b\b\b\b\b\b\b\b\b\b\b\b\b\b\b\b\b\b\b\b\b\b\b\b\b\b\b\b\b\b\b\b\b\b\b\b\b\b\b\b\b\b\b\b\b\b\b\b\r26/26 [==============================] - 319s 11s/step - loss: 1.0977 - accuracy: 0.7526 - val_loss: 0.1815 - val_accuracy: 0.9457 - lr: 0.0010\n",
            "Epoch 2/25\n",
            "26/26 [==============================] - ETA: 0s - loss: 0.1500 - accuracy: 0.9451"
          ]
        },
        {
          "output_type": "stream",
          "name": "stderr",
          "text": [
            "WARNING:tensorflow:Learning rate reduction is conditioned on metric `acc` which is not available. Available metrics are: loss,accuracy,val_loss,val_accuracy,lr\n"
          ]
        },
        {
          "output_type": "stream",
          "name": "stdout",
          "text": [
            "\b\b\b\b\b\b\b\b\b\b\b\b\b\b\b\b\b\b\b\b\b\b\b\b\b\b\b\b\b\b\b\b\b\b\b\b\b\b\b\b\b\b\b\b\b\b\b\b\b\b\b\b\b\b\b\b\b\b\b\b\b\b\b\b\b\b\b\b\b\b\b\b\b\b\b\b\b\b\b\b\b\b\r26/26 [==============================] - 14s 546ms/step - loss: 0.1500 - accuracy: 0.9451 - val_loss: 0.0939 - val_accuracy: 0.9852 - lr: 0.0010\n",
            "Epoch 3/25\n",
            "26/26 [==============================] - ETA: 0s - loss: 0.0985 - accuracy: 0.9642"
          ]
        },
        {
          "output_type": "stream",
          "name": "stderr",
          "text": [
            "WARNING:tensorflow:Learning rate reduction is conditioned on metric `acc` which is not available. Available metrics are: loss,accuracy,val_loss,val_accuracy,lr\n"
          ]
        },
        {
          "output_type": "stream",
          "name": "stdout",
          "text": [
            "\b\b\b\b\b\b\b\b\b\b\b\b\b\b\b\b\b\b\b\b\b\b\b\b\b\b\b\b\b\b\b\b\b\b\b\b\b\b\b\b\b\b\b\b\b\b\b\b\b\b\b\b\b\b\b\b\b\b\b\b\b\b\b\b\b\b\b\b\b\b\b\b\b\b\b\b\b\b\b\b\b\b\r26/26 [==============================] - 14s 538ms/step - loss: 0.0985 - accuracy: 0.9642 - val_loss: 0.1005 - val_accuracy: 0.9877 - lr: 0.0010\n",
            "Epoch 4/25\n",
            "26/26 [==============================] - ETA: 0s - loss: 0.0780 - accuracy: 0.9741"
          ]
        },
        {
          "output_type": "stream",
          "name": "stderr",
          "text": [
            "WARNING:tensorflow:Learning rate reduction is conditioned on metric `acc` which is not available. Available metrics are: loss,accuracy,val_loss,val_accuracy,lr\n"
          ]
        },
        {
          "output_type": "stream",
          "name": "stdout",
          "text": [
            "\b\b\b\b\b\b\b\b\b\b\b\b\b\b\b\b\b\b\b\b\b\b\b\b\b\b\b\b\b\b\b\b\b\b\b\b\b\b\b\b\b\b\b\b\b\b\b\b\b\b\b\b\b\b\b\b\b\b\b\b\b\b\b\b\b\b\b\b\b\b\b\b\b\b\b\b\b\b\b\b\b\b\r26/26 [==============================] - 14s 540ms/step - loss: 0.0780 - accuracy: 0.9741 - val_loss: 0.1160 - val_accuracy: 0.9827 - lr: 0.0010\n",
            "Epoch 5/25\n",
            "26/26 [==============================] - ETA: 0s - loss: 0.0590 - accuracy: 0.9833"
          ]
        },
        {
          "output_type": "stream",
          "name": "stderr",
          "text": [
            "WARNING:tensorflow:Learning rate reduction is conditioned on metric `acc` which is not available. Available metrics are: loss,accuracy,val_loss,val_accuracy,lr\n"
          ]
        },
        {
          "output_type": "stream",
          "name": "stdout",
          "text": [
            "\b\b\b\b\b\b\b\b\b\b\b\b\b\b\b\b\b\b\b\b\b\b\b\b\b\b\b\b\b\b\b\b\b\b\b\b\b\b\b\b\b\b\b\b\b\b\b\b\b\b\b\b\b\b\b\b\b\b\b\b\b\b\b\b\b\b\b\b\b\b\b\b\b\b\b\b\b\b\b\b\b\b\r26/26 [==============================] - 15s 553ms/step - loss: 0.0590 - accuracy: 0.9833 - val_loss: 0.0909 - val_accuracy: 0.9901 - lr: 0.0010\n",
            "Epoch 6/25\n",
            "26/26 [==============================] - ETA: 0s - loss: 0.0417 - accuracy: 0.9914"
          ]
        },
        {
          "output_type": "stream",
          "name": "stderr",
          "text": [
            "WARNING:tensorflow:Learning rate reduction is conditioned on metric `acc` which is not available. Available metrics are: loss,accuracy,val_loss,val_accuracy,lr\n"
          ]
        },
        {
          "output_type": "stream",
          "name": "stdout",
          "text": [
            "\b\b\b\b\b\b\b\b\b\b\b\b\b\b\b\b\b\b\b\b\b\b\b\b\b\b\b\b\b\b\b\b\b\b\b\b\b\b\b\b\b\b\b\b\b\b\b\b\b\b\b\b\b\b\b\b\b\b\b\b\b\b\b\b\b\b\b\b\b\b\b\b\b\b\b\b\b\b\b\b\b\b\r26/26 [==============================] - 17s 637ms/step - loss: 0.0417 - accuracy: 0.9914 - val_loss: 0.0651 - val_accuracy: 0.9926 - lr: 0.0010\n",
            "Epoch 7/25\n",
            "26/26 [==============================] - ETA: 0s - loss: 0.0341 - accuracy: 0.9938"
          ]
        },
        {
          "output_type": "stream",
          "name": "stderr",
          "text": [
            "WARNING:tensorflow:Learning rate reduction is conditioned on metric `acc` which is not available. Available metrics are: loss,accuracy,val_loss,val_accuracy,lr\n"
          ]
        },
        {
          "output_type": "stream",
          "name": "stdout",
          "text": [
            "\b\b\b\b\b\b\b\b\b\b\b\b\b\b\b\b\b\b\b\b\b\b\b\b\b\b\b\b\b\b\b\b\b\b\b\b\b\b\b\b\b\b\b\b\b\b\b\b\b\b\b\b\b\b\b\b\b\b\b\b\b\b\b\b\b\b\b\b\b\b\b\b\b\b\b\b\b\b\b\b\b\b\r26/26 [==============================] - 14s 542ms/step - loss: 0.0341 - accuracy: 0.9938 - val_loss: 0.0636 - val_accuracy: 0.9778 - lr: 0.0010\n",
            "Epoch 8/25\n",
            "26/26 [==============================] - ETA: 0s - loss: 0.0319 - accuracy: 0.9957"
          ]
        },
        {
          "output_type": "stream",
          "name": "stderr",
          "text": [
            "WARNING:tensorflow:Learning rate reduction is conditioned on metric `acc` which is not available. Available metrics are: loss,accuracy,val_loss,val_accuracy,lr\n"
          ]
        },
        {
          "output_type": "stream",
          "name": "stdout",
          "text": [
            "\b\b\b\b\b\b\b\b\b\b\b\b\b\b\b\b\b\b\b\b\b\b\b\b\b\b\b\b\b\b\b\b\b\b\b\b\b\b\b\b\b\b\b\b\b\b\b\b\b\b\b\b\b\b\b\b\b\b\b\b\b\b\b\b\b\b\b\b\b\b\b\b\b\b\b\b\b\b\b\b\b\b\r26/26 [==============================] - 14s 547ms/step - loss: 0.0319 - accuracy: 0.9957 - val_loss: 0.0486 - val_accuracy: 0.9852 - lr: 0.0010\n",
            "Epoch 9/25\n",
            "26/26 [==============================] - ETA: 0s - loss: 0.0170 - accuracy: 0.9975"
          ]
        },
        {
          "output_type": "stream",
          "name": "stderr",
          "text": [
            "WARNING:tensorflow:Learning rate reduction is conditioned on metric `acc` which is not available. Available metrics are: loss,accuracy,val_loss,val_accuracy,lr\n"
          ]
        },
        {
          "output_type": "stream",
          "name": "stdout",
          "text": [
            "\b\b\b\b\b\b\b\b\b\b\b\b\b\b\b\b\b\b\b\b\b\b\b\b\b\b\b\b\b\b\b\b\b\b\b\b\b\b\b\b\b\b\b\b\b\b\b\b\b\b\b\b\b\b\b\b\b\b\b\b\b\b\b\b\b\b\b\b\b\b\b\b\b\b\b\b\b\b\b\b\b\b\r26/26 [==============================] - 14s 538ms/step - loss: 0.0170 - accuracy: 0.9975 - val_loss: 0.0688 - val_accuracy: 0.9827 - lr: 0.0010\n",
            "Epoch 10/25\n",
            "26/26 [==============================] - ETA: 0s - loss: 0.0126 - accuracy: 0.9994"
          ]
        },
        {
          "output_type": "stream",
          "name": "stderr",
          "text": [
            "WARNING:tensorflow:Learning rate reduction is conditioned on metric `acc` which is not available. Available metrics are: loss,accuracy,val_loss,val_accuracy,lr\n"
          ]
        },
        {
          "output_type": "stream",
          "name": "stdout",
          "text": [
            "\b\b\b\b\b\b\b\b\b\b\b\b\b\b\b\b\b\b\b\b\b\b\b\b\b\b\b\b\b\b\b\b\b\b\b\b\b\b\b\b\b\b\b\b\b\b\b\b\b\b\b\b\b\b\b\b\b\b\b\b\b\b\b\b\b\b\b\b\b\b\b\b\b\b\b\b\b\b\b\b\b\b\r26/26 [==============================] - 14s 534ms/step - loss: 0.0126 - accuracy: 0.9994 - val_loss: 0.0780 - val_accuracy: 0.9728 - lr: 0.0010\n",
            "Epoch 11/25\n",
            "26/26 [==============================] - ETA: 0s - loss: 0.0092 - accuracy: 0.9994"
          ]
        },
        {
          "output_type": "stream",
          "name": "stderr",
          "text": [
            "WARNING:tensorflow:Learning rate reduction is conditioned on metric `acc` which is not available. Available metrics are: loss,accuracy,val_loss,val_accuracy,lr\n"
          ]
        },
        {
          "output_type": "stream",
          "name": "stdout",
          "text": [
            "\b\b\b\b\b\b\b\b\b\b\b\b\b\b\b\b\b\b\b\b\b\b\b\b\b\b\b\b\b\b\b\b\b\b\b\b\b\b\b\b\b\b\b\b\b\b\b\b\b\b\b\b\b\b\b\b\b\b\b\b\b\b\b\b\b\b\b\b\b\b\b\b\b\b\b\b\b\b\b\b\b\b\r26/26 [==============================] - 14s 533ms/step - loss: 0.0092 - accuracy: 0.9994 - val_loss: 0.0679 - val_accuracy: 0.9753 - lr: 0.0010\n",
            "Epoch 12/25\n",
            "26/26 [==============================] - ETA: 0s - loss: 0.0070 - accuracy: 1.0000"
          ]
        },
        {
          "output_type": "stream",
          "name": "stderr",
          "text": [
            "WARNING:tensorflow:Learning rate reduction is conditioned on metric `acc` which is not available. Available metrics are: loss,accuracy,val_loss,val_accuracy,lr\n"
          ]
        },
        {
          "output_type": "stream",
          "name": "stdout",
          "text": [
            "\b\b\b\b\b\b\b\b\b\b\b\b\b\b\b\b\b\b\b\b\b\b\b\b\b\b\b\b\b\b\b\b\b\b\b\b\b\b\b\b\b\b\b\b\b\b\b\b\b\b\b\b\b\b\b\b\b\b\b\b\b\b\b\b\b\b\b\b\b\b\b\b\b\b\b\b\b\b\b\b\b\b\r26/26 [==============================] - 14s 531ms/step - loss: 0.0070 - accuracy: 1.0000 - val_loss: 0.0931 - val_accuracy: 0.9654 - lr: 0.0010\n",
            "Epoch 13/25\n",
            "26/26 [==============================] - ETA: 0s - loss: 0.0058 - accuracy: 1.0000"
          ]
        },
        {
          "output_type": "stream",
          "name": "stderr",
          "text": [
            "WARNING:tensorflow:Learning rate reduction is conditioned on metric `acc` which is not available. Available metrics are: loss,accuracy,val_loss,val_accuracy,lr\n"
          ]
        },
        {
          "output_type": "stream",
          "name": "stdout",
          "text": [
            "\b\b\b\b\b\b\b\b\b\b\b\b\b\b\b\b\b\b\b\b\b\b\b\b\b\b\b\b\b\b\b\b\b\b\b\b\b\b\b\b\b\b\b\b\b\b\b\b\b\b\b\b\b\b\b\b\b\b\b\b\b\b\b\b\b\b\b\b\b\b\b\b\b\b\b\b\b\b\b\b\b\b\r26/26 [==============================] - 14s 539ms/step - loss: 0.0058 - accuracy: 1.0000 - val_loss: 0.0542 - val_accuracy: 0.9901 - lr: 0.0010\n"
          ]
        }
      ],
      "source": [
        "# from keras.callbacks import ModelCheckpoint\n",
        "\n",
        "# # define the checkpoint to save the best weights during training\n",
        "# checkpoint = ModelCheckpoint('combined_model_best_weights.h5', save_best_only=True, save_weights_only=True, monitor='val_loss', mode='min', verbose=1)\n",
        "\n",
        "early = tf.keras.callbacks.EarlyStopping(monitor=\"val_loss\", mode=\"min\",restore_best_weights=True, patience=5)\n",
        "\n",
        "reduce_lr = tf.keras.callbacks.ReduceLROnPlateau(monitor='acc', factor=0.3,patience=3, min_lr=0.0001)\n",
        "\n",
        "callbacks_list = [early,reduce_lr]\n",
        "\n",
        "# train the model using the training data\n",
        "history = model.fit(\n",
        "        x=train_ds,\n",
        "        validation_data=val_ds,\n",
        "        epochs=25,\n",
        "        #shuffle=True,\n",
        "        verbose=True,\n",
        "        callbacks=callbacks_list)"
      ]
    },
    {
      "cell_type": "code",
      "execution_count": null,
      "metadata": {
        "id": "AqVPqtc4_sLK"
      },
      "outputs": [],
      "source": [
        "# model.save('/content/drive/MyDrive/Colab Notebooks/Saved_models/model_Inception+Xception_adam.h5')"
      ]
    },
    {
      "cell_type": "code",
      "execution_count": null,
      "metadata": {
        "id": "TiKStNt__sLK"
      },
      "outputs": [],
      "source": [
        "# Load the saved model\n",
        "from keras.models import load_model\n",
        "model_Inception_Xception_adam = load_model('/content/drive/MyDrive/STAAR/solved_model/model_Inception+Xception_adam.h5')"
      ]
    },
    {
      "cell_type": "code",
      "execution_count": null,
      "metadata": {
        "colab": {
          "base_uri": "https://localhost:8080/",
          "height": 148
        },
        "outputId": "fe7e5c43-0ecc-4c01-e496-58269e9a880a",
        "id": "n880MTpX_sLK"
      },
      "outputs": [
        {
          "output_type": "stream",
          "name": "stdout",
          "text": [
            "26/26 [==============================] - 26s 702ms/step - loss: 0.0061 - acc: 1.0000\n",
            "7/7 [==============================] - 4s 574ms/step - loss: 0.0255 - acc: 0.9975\n"
          ]
        },
        {
          "output_type": "execute_result",
          "data": {
            "text/plain": [
              "         Train       Val\n",
              "Loss  0.006064  0.025451\n",
              "Acc   1.000000  0.997531"
            ],
            "text/html": [
              "\n",
              "  <div id=\"df-3e915e24-537f-48ed-ad4a-fd1129cfc79f\">\n",
              "    <div class=\"colab-df-container\">\n",
              "      <div>\n",
              "<style scoped>\n",
              "    .dataframe tbody tr th:only-of-type {\n",
              "        vertical-align: middle;\n",
              "    }\n",
              "\n",
              "    .dataframe tbody tr th {\n",
              "        vertical-align: top;\n",
              "    }\n",
              "\n",
              "    .dataframe thead th {\n",
              "        text-align: right;\n",
              "    }\n",
              "</style>\n",
              "<table border=\"1\" class=\"dataframe\">\n",
              "  <thead>\n",
              "    <tr style=\"text-align: right;\">\n",
              "      <th></th>\n",
              "      <th>Train</th>\n",
              "      <th>Val</th>\n",
              "    </tr>\n",
              "  </thead>\n",
              "  <tbody>\n",
              "    <tr>\n",
              "      <th>Loss</th>\n",
              "      <td>0.006064</td>\n",
              "      <td>0.025451</td>\n",
              "    </tr>\n",
              "    <tr>\n",
              "      <th>Acc</th>\n",
              "      <td>1.000000</td>\n",
              "      <td>0.997531</td>\n",
              "    </tr>\n",
              "  </tbody>\n",
              "</table>\n",
              "</div>\n",
              "      <button class=\"colab-df-convert\" onclick=\"convertToInteractive('df-3e915e24-537f-48ed-ad4a-fd1129cfc79f')\"\n",
              "              title=\"Convert this dataframe to an interactive table.\"\n",
              "              style=\"display:none;\">\n",
              "        \n",
              "  <svg xmlns=\"http://www.w3.org/2000/svg\" height=\"24px\"viewBox=\"0 0 24 24\"\n",
              "       width=\"24px\">\n",
              "    <path d=\"M0 0h24v24H0V0z\" fill=\"none\"/>\n",
              "    <path d=\"M18.56 5.44l.94 2.06.94-2.06 2.06-.94-2.06-.94-.94-2.06-.94 2.06-2.06.94zm-11 1L8.5 8.5l.94-2.06 2.06-.94-2.06-.94L8.5 2.5l-.94 2.06-2.06.94zm10 10l.94 2.06.94-2.06 2.06-.94-2.06-.94-.94-2.06-.94 2.06-2.06.94z\"/><path d=\"M17.41 7.96l-1.37-1.37c-.4-.4-.92-.59-1.43-.59-.52 0-1.04.2-1.43.59L10.3 9.45l-7.72 7.72c-.78.78-.78 2.05 0 2.83L4 21.41c.39.39.9.59 1.41.59.51 0 1.02-.2 1.41-.59l7.78-7.78 2.81-2.81c.8-.78.8-2.07 0-2.86zM5.41 20L4 18.59l7.72-7.72 1.47 1.35L5.41 20z\"/>\n",
              "  </svg>\n",
              "      </button>\n",
              "      \n",
              "  <style>\n",
              "    .colab-df-container {\n",
              "      display:flex;\n",
              "      flex-wrap:wrap;\n",
              "      gap: 12px;\n",
              "    }\n",
              "\n",
              "    .colab-df-convert {\n",
              "      background-color: #E8F0FE;\n",
              "      border: none;\n",
              "      border-radius: 50%;\n",
              "      cursor: pointer;\n",
              "      display: none;\n",
              "      fill: #1967D2;\n",
              "      height: 32px;\n",
              "      padding: 0 0 0 0;\n",
              "      width: 32px;\n",
              "    }\n",
              "\n",
              "    .colab-df-convert:hover {\n",
              "      background-color: #E2EBFA;\n",
              "      box-shadow: 0px 1px 2px rgba(60, 64, 67, 0.3), 0px 1px 3px 1px rgba(60, 64, 67, 0.15);\n",
              "      fill: #174EA6;\n",
              "    }\n",
              "\n",
              "    [theme=dark] .colab-df-convert {\n",
              "      background-color: #3B4455;\n",
              "      fill: #D2E3FC;\n",
              "    }\n",
              "\n",
              "    [theme=dark] .colab-df-convert:hover {\n",
              "      background-color: #434B5C;\n",
              "      box-shadow: 0px 1px 3px 1px rgba(0, 0, 0, 0.15);\n",
              "      filter: drop-shadow(0px 1px 2px rgba(0, 0, 0, 0.3));\n",
              "      fill: #FFFFFF;\n",
              "    }\n",
              "  </style>\n",
              "\n",
              "      <script>\n",
              "        const buttonEl =\n",
              "          document.querySelector('#df-3e915e24-537f-48ed-ad4a-fd1129cfc79f button.colab-df-convert');\n",
              "        buttonEl.style.display =\n",
              "          google.colab.kernel.accessAllowed ? 'block' : 'none';\n",
              "\n",
              "        async function convertToInteractive(key) {\n",
              "          const element = document.querySelector('#df-3e915e24-537f-48ed-ad4a-fd1129cfc79f');\n",
              "          const dataTable =\n",
              "            await google.colab.kernel.invokeFunction('convertToInteractive',\n",
              "                                                     [key], {});\n",
              "          if (!dataTable) return;\n",
              "\n",
              "          const docLinkHtml = 'Like what you see? Visit the ' +\n",
              "            '<a target=\"_blank\" href=https://colab.research.google.com/notebooks/data_table.ipynb>data table notebook</a>'\n",
              "            + ' to learn more about interactive tables.';\n",
              "          element.innerHTML = '';\n",
              "          dataTable['output_type'] = 'display_data';\n",
              "          await google.colab.output.renderOutput(dataTable, element);\n",
              "          const docLink = document.createElement('div');\n",
              "          docLink.innerHTML = docLinkHtml;\n",
              "          element.appendChild(docLink);\n",
              "        }\n",
              "      </script>\n",
              "    </div>\n",
              "  </div>\n",
              "  "
            ]
          },
          "metadata": {},
          "execution_count": 26
        }
      ],
      "source": [
        "train_result = model.evaluate(train_ds)\n",
        "val_result = model.evaluate(val_ds)\n",
        "\n",
        "augmented_df = pd.DataFrame(zip(train_result,val_result),columns=['Train','Val'],index=['Loss','Acc'])\n",
        "augmented_df"
      ]
    },
    {
      "cell_type": "code",
      "source": [
        "# plot learning curve\n",
        "def plot_learning_curve(history):\n",
        "    acc = history.history['acc']\n",
        "    val_acc = history.history['val_acc']\n",
        "    loss = history.history['loss']\n",
        "    val_loss = history.history['val_loss']\n",
        "    epochs = range(len(acc))\n",
        "\n",
        "    plt.plot(epochs, acc, label='training acc')\n",
        "    plt.plot(epochs, val_acc, label='validation acc')\n",
        "    plt.xlabel('Epochs')\n",
        "    plt.ylabel('Accuracy-%')\n",
        "    plt.legend()\n",
        "    plt.figure()\n",
        "\n",
        "    plt.plot(epochs, loss, label='training loss')\n",
        "    plt.plot(epochs, val_loss, label='validation loss')\n",
        "    plt.xlabel('Epochs')\n",
        "    plt.ylabel('Loss')\n",
        "    plt.legend()\n",
        "\n",
        "plot_learning_curve(history)"
      ],
      "metadata": {
        "id": "kxrjlDZS_sLK"
      },
      "execution_count": null,
      "outputs": []
    },
    {
      "cell_type": "code",
      "execution_count": null,
      "metadata": {
        "colab": {
          "base_uri": "https://localhost:8080/",
          "height": 148
        },
        "outputId": "26db2439-a0aa-4e77-fbe8-9ef80afac332",
        "id": "-zB09--M_sLK"
      },
      "outputs": [
        {
          "output_type": "stream",
          "name": "stdout",
          "text": [
            "Found 210 images belonging to 2 classes.\n",
            "4/4 [==============================] - 4s 1s/step - loss: 0.2556 - acc: 0.8762\n"
          ]
        },
        {
          "output_type": "execute_result",
          "data": {
            "text/plain": [
              "          Test\n",
              "Loss  0.255562\n",
              "Acc   0.876190"
            ],
            "text/html": [
              "\n",
              "  <div id=\"df-7a6587c6-600e-4217-a5bc-a0c19a4a6c7f\">\n",
              "    <div class=\"colab-df-container\">\n",
              "      <div>\n",
              "<style scoped>\n",
              "    .dataframe tbody tr th:only-of-type {\n",
              "        vertical-align: middle;\n",
              "    }\n",
              "\n",
              "    .dataframe tbody tr th {\n",
              "        vertical-align: top;\n",
              "    }\n",
              "\n",
              "    .dataframe thead th {\n",
              "        text-align: right;\n",
              "    }\n",
              "</style>\n",
              "<table border=\"1\" class=\"dataframe\">\n",
              "  <thead>\n",
              "    <tr style=\"text-align: right;\">\n",
              "      <th></th>\n",
              "      <th>Test</th>\n",
              "    </tr>\n",
              "  </thead>\n",
              "  <tbody>\n",
              "    <tr>\n",
              "      <th>Loss</th>\n",
              "      <td>0.255562</td>\n",
              "    </tr>\n",
              "    <tr>\n",
              "      <th>Acc</th>\n",
              "      <td>0.876190</td>\n",
              "    </tr>\n",
              "  </tbody>\n",
              "</table>\n",
              "</div>\n",
              "      <button class=\"colab-df-convert\" onclick=\"convertToInteractive('df-7a6587c6-600e-4217-a5bc-a0c19a4a6c7f')\"\n",
              "              title=\"Convert this dataframe to an interactive table.\"\n",
              "              style=\"display:none;\">\n",
              "        \n",
              "  <svg xmlns=\"http://www.w3.org/2000/svg\" height=\"24px\"viewBox=\"0 0 24 24\"\n",
              "       width=\"24px\">\n",
              "    <path d=\"M0 0h24v24H0V0z\" fill=\"none\"/>\n",
              "    <path d=\"M18.56 5.44l.94 2.06.94-2.06 2.06-.94-2.06-.94-.94-2.06-.94 2.06-2.06.94zm-11 1L8.5 8.5l.94-2.06 2.06-.94-2.06-.94L8.5 2.5l-.94 2.06-2.06.94zm10 10l.94 2.06.94-2.06 2.06-.94-2.06-.94-.94-2.06-.94 2.06-2.06.94z\"/><path d=\"M17.41 7.96l-1.37-1.37c-.4-.4-.92-.59-1.43-.59-.52 0-1.04.2-1.43.59L10.3 9.45l-7.72 7.72c-.78.78-.78 2.05 0 2.83L4 21.41c.39.39.9.59 1.41.59.51 0 1.02-.2 1.41-.59l7.78-7.78 2.81-2.81c.8-.78.8-2.07 0-2.86zM5.41 20L4 18.59l7.72-7.72 1.47 1.35L5.41 20z\"/>\n",
              "  </svg>\n",
              "      </button>\n",
              "      \n",
              "  <style>\n",
              "    .colab-df-container {\n",
              "      display:flex;\n",
              "      flex-wrap:wrap;\n",
              "      gap: 12px;\n",
              "    }\n",
              "\n",
              "    .colab-df-convert {\n",
              "      background-color: #E8F0FE;\n",
              "      border: none;\n",
              "      border-radius: 50%;\n",
              "      cursor: pointer;\n",
              "      display: none;\n",
              "      fill: #1967D2;\n",
              "      height: 32px;\n",
              "      padding: 0 0 0 0;\n",
              "      width: 32px;\n",
              "    }\n",
              "\n",
              "    .colab-df-convert:hover {\n",
              "      background-color: #E2EBFA;\n",
              "      box-shadow: 0px 1px 2px rgba(60, 64, 67, 0.3), 0px 1px 3px 1px rgba(60, 64, 67, 0.15);\n",
              "      fill: #174EA6;\n",
              "    }\n",
              "\n",
              "    [theme=dark] .colab-df-convert {\n",
              "      background-color: #3B4455;\n",
              "      fill: #D2E3FC;\n",
              "    }\n",
              "\n",
              "    [theme=dark] .colab-df-convert:hover {\n",
              "      background-color: #434B5C;\n",
              "      box-shadow: 0px 1px 3px 1px rgba(0, 0, 0, 0.15);\n",
              "      filter: drop-shadow(0px 1px 2px rgba(0, 0, 0, 0.3));\n",
              "      fill: #FFFFFF;\n",
              "    }\n",
              "  </style>\n",
              "\n",
              "      <script>\n",
              "        const buttonEl =\n",
              "          document.querySelector('#df-7a6587c6-600e-4217-a5bc-a0c19a4a6c7f button.colab-df-convert');\n",
              "        buttonEl.style.display =\n",
              "          google.colab.kernel.accessAllowed ? 'block' : 'none';\n",
              "\n",
              "        async function convertToInteractive(key) {\n",
              "          const element = document.querySelector('#df-7a6587c6-600e-4217-a5bc-a0c19a4a6c7f');\n",
              "          const dataTable =\n",
              "            await google.colab.kernel.invokeFunction('convertToInteractive',\n",
              "                                                     [key], {});\n",
              "          if (!dataTable) return;\n",
              "\n",
              "          const docLinkHtml = 'Like what you see? Visit the ' +\n",
              "            '<a target=\"_blank\" href=https://colab.research.google.com/notebooks/data_table.ipynb>data table notebook</a>'\n",
              "            + ' to learn more about interactive tables.';\n",
              "          element.innerHTML = '';\n",
              "          dataTable['output_type'] = 'display_data';\n",
              "          await google.colab.output.renderOutput(dataTable, element);\n",
              "          const docLink = document.createElement('div');\n",
              "          docLink.innerHTML = docLinkHtml;\n",
              "          element.appendChild(docLink);\n",
              "        }\n",
              "      </script>\n",
              "    </div>\n",
              "  </div>\n",
              "  "
            ]
          },
          "metadata": {},
          "execution_count": 27
        }
      ],
      "source": [
        "# # Load the testing dataset\n",
        "# from tensorflow.keras.preprocessing.image import ImageDataGenerator\n",
        "\n",
        "# test_dir = '/content/drive/MyDrive/STAAR/new_Brain_tumor/test'\n",
        "# img_size = (299, 299)\n",
        "# batch_size = 64\n",
        "\n",
        "# test_datagen = ImageDataGenerator(rescale=1./255) # or any other desired preprocessing\n",
        "# test_data = test_datagen.flow_from_directory(\n",
        "#               test_dir,\n",
        "#               shuffle=False,\n",
        "#               class_mode='binary',\n",
        "#               target_size=img_size,\n",
        "#               batch_size=batch_size,\n",
        "#               classes={'no': 0., 'yes': 1.}\n",
        "#               )\n",
        "\n",
        "# # print(test_data.shape)\n",
        "# test_result = model.evaluate(test_data)\n",
        "# augmented_df = pd.DataFrame(zip(test_result),columns=['Test'],index=['Loss','Acc'])\n",
        "# augmented_df"
      ]
    },
    {
      "cell_type": "code",
      "source": [
        "# Load the testing dataset\n",
        "from tensorflow.keras.preprocessing.image import ImageDataGenerator\n",
        "\n",
        "test_dir = '/content/drive/MyDrive/STAAR/new_Brain_tumor/test2'\n",
        "img_size = (299, 299)\n",
        "batch_size = 64\n",
        "\n",
        "test_datagen = ImageDataGenerator(rescale=1./255) # or any other desired preprocessing\n",
        "test_data = test_datagen.flow_from_directory(\n",
        "              test_dir,\n",
        "              shuffle=False,\n",
        "              class_mode='binary',\n",
        "              target_size=img_size,\n",
        "              batch_size=batch_size,\n",
        "              classes={'no': 0., 'yes': 1.}\n",
        "              )\n",
        "\n",
        "# print(test_data.shape)\n",
        "test_result = model.evaluate(test_data)\n",
        "augmented_df = pd.DataFrame(zip(test_result),columns=['Test'],index=['Loss','Acc'])\n",
        "augmented_df"
      ],
      "metadata": {
        "colab": {
          "base_uri": "https://localhost:8080/",
          "height": 148
        },
        "outputId": "b5002562-a14d-4621-83ca-eb0d2691e2b7",
        "id": "JScaYj169Qk9"
      },
      "execution_count": null,
      "outputs": [
        {
          "output_type": "stream",
          "name": "stdout",
          "text": [
            "Found 100 images belonging to 2 classes.\n",
            "2/2 [==============================] - 5s 4s/step - loss: 0.1669 - acc: 0.9200\n"
          ]
        },
        {
          "output_type": "execute_result",
          "data": {
            "text/plain": [
              "          Test\n",
              "Loss  0.166869\n",
              "Acc   0.920000"
            ],
            "text/html": [
              "\n",
              "  <div id=\"df-84e0dbce-0fdc-41be-b201-c28ad11c2c8e\">\n",
              "    <div class=\"colab-df-container\">\n",
              "      <div>\n",
              "<style scoped>\n",
              "    .dataframe tbody tr th:only-of-type {\n",
              "        vertical-align: middle;\n",
              "    }\n",
              "\n",
              "    .dataframe tbody tr th {\n",
              "        vertical-align: top;\n",
              "    }\n",
              "\n",
              "    .dataframe thead th {\n",
              "        text-align: right;\n",
              "    }\n",
              "</style>\n",
              "<table border=\"1\" class=\"dataframe\">\n",
              "  <thead>\n",
              "    <tr style=\"text-align: right;\">\n",
              "      <th></th>\n",
              "      <th>Test</th>\n",
              "    </tr>\n",
              "  </thead>\n",
              "  <tbody>\n",
              "    <tr>\n",
              "      <th>Loss</th>\n",
              "      <td>0.166869</td>\n",
              "    </tr>\n",
              "    <tr>\n",
              "      <th>Acc</th>\n",
              "      <td>0.920000</td>\n",
              "    </tr>\n",
              "  </tbody>\n",
              "</table>\n",
              "</div>\n",
              "      <button class=\"colab-df-convert\" onclick=\"convertToInteractive('df-84e0dbce-0fdc-41be-b201-c28ad11c2c8e')\"\n",
              "              title=\"Convert this dataframe to an interactive table.\"\n",
              "              style=\"display:none;\">\n",
              "        \n",
              "  <svg xmlns=\"http://www.w3.org/2000/svg\" height=\"24px\"viewBox=\"0 0 24 24\"\n",
              "       width=\"24px\">\n",
              "    <path d=\"M0 0h24v24H0V0z\" fill=\"none\"/>\n",
              "    <path d=\"M18.56 5.44l.94 2.06.94-2.06 2.06-.94-2.06-.94-.94-2.06-.94 2.06-2.06.94zm-11 1L8.5 8.5l.94-2.06 2.06-.94-2.06-.94L8.5 2.5l-.94 2.06-2.06.94zm10 10l.94 2.06.94-2.06 2.06-.94-2.06-.94-.94-2.06-.94 2.06-2.06.94z\"/><path d=\"M17.41 7.96l-1.37-1.37c-.4-.4-.92-.59-1.43-.59-.52 0-1.04.2-1.43.59L10.3 9.45l-7.72 7.72c-.78.78-.78 2.05 0 2.83L4 21.41c.39.39.9.59 1.41.59.51 0 1.02-.2 1.41-.59l7.78-7.78 2.81-2.81c.8-.78.8-2.07 0-2.86zM5.41 20L4 18.59l7.72-7.72 1.47 1.35L5.41 20z\"/>\n",
              "  </svg>\n",
              "      </button>\n",
              "      \n",
              "  <style>\n",
              "    .colab-df-container {\n",
              "      display:flex;\n",
              "      flex-wrap:wrap;\n",
              "      gap: 12px;\n",
              "    }\n",
              "\n",
              "    .colab-df-convert {\n",
              "      background-color: #E8F0FE;\n",
              "      border: none;\n",
              "      border-radius: 50%;\n",
              "      cursor: pointer;\n",
              "      display: none;\n",
              "      fill: #1967D2;\n",
              "      height: 32px;\n",
              "      padding: 0 0 0 0;\n",
              "      width: 32px;\n",
              "    }\n",
              "\n",
              "    .colab-df-convert:hover {\n",
              "      background-color: #E2EBFA;\n",
              "      box-shadow: 0px 1px 2px rgba(60, 64, 67, 0.3), 0px 1px 3px 1px rgba(60, 64, 67, 0.15);\n",
              "      fill: #174EA6;\n",
              "    }\n",
              "\n",
              "    [theme=dark] .colab-df-convert {\n",
              "      background-color: #3B4455;\n",
              "      fill: #D2E3FC;\n",
              "    }\n",
              "\n",
              "    [theme=dark] .colab-df-convert:hover {\n",
              "      background-color: #434B5C;\n",
              "      box-shadow: 0px 1px 3px 1px rgba(0, 0, 0, 0.15);\n",
              "      filter: drop-shadow(0px 1px 2px rgba(0, 0, 0, 0.3));\n",
              "      fill: #FFFFFF;\n",
              "    }\n",
              "  </style>\n",
              "\n",
              "      <script>\n",
              "        const buttonEl =\n",
              "          document.querySelector('#df-84e0dbce-0fdc-41be-b201-c28ad11c2c8e button.colab-df-convert');\n",
              "        buttonEl.style.display =\n",
              "          google.colab.kernel.accessAllowed ? 'block' : 'none';\n",
              "\n",
              "        async function convertToInteractive(key) {\n",
              "          const element = document.querySelector('#df-84e0dbce-0fdc-41be-b201-c28ad11c2c8e');\n",
              "          const dataTable =\n",
              "            await google.colab.kernel.invokeFunction('convertToInteractive',\n",
              "                                                     [key], {});\n",
              "          if (!dataTable) return;\n",
              "\n",
              "          const docLinkHtml = 'Like what you see? Visit the ' +\n",
              "            '<a target=\"_blank\" href=https://colab.research.google.com/notebooks/data_table.ipynb>data table notebook</a>'\n",
              "            + ' to learn more about interactive tables.';\n",
              "          element.innerHTML = '';\n",
              "          dataTable['output_type'] = 'display_data';\n",
              "          await google.colab.output.renderOutput(dataTable, element);\n",
              "          const docLink = document.createElement('div');\n",
              "          docLink.innerHTML = docLinkHtml;\n",
              "          element.appendChild(docLink);\n",
              "        }\n",
              "      </script>\n",
              "    </div>\n",
              "  </div>\n",
              "  "
            ]
          },
          "metadata": {},
          "execution_count": 28
        }
      ]
    },
    {
      "cell_type": "code",
      "source": [],
      "metadata": {
        "id": "I6QJpvwFgYrT"
      },
      "execution_count": null,
      "outputs": []
    },
    {
      "cell_type": "markdown",
      "metadata": {
        "papermill": {
          "duration": 0.042176,
          "end_time": "2022-07-18T15:26:41.096254",
          "exception": false,
          "start_time": "2022-07-18T15:26:41.054078",
          "status": "completed"
        },
        "tags": [],
        "id": "UssZeS7Nh1kP"
      },
      "source": [
        "## VGG19+ADAM\n",
        "\n",
        "\n",
        "<a class=\"anchor\" id=\"2\"></a>"
      ]
    },
    {
      "cell_type": "code",
      "source": [],
      "metadata": {
        "id": "y6zbI_e6h5GE"
      },
      "execution_count": null,
      "outputs": []
    },
    {
      "cell_type": "code",
      "source": [
        "from keras.layers.preprocessing import normalization\n",
        "# VGG19\n",
        "height = 299\n",
        "width = 299\n",
        "\n",
        "train_ds, val_ds = image_generator(height,width)\n",
        "\n",
        "tf.keras.backend.clear_session()\n",
        "input_shape = (height, width, 3)\n",
        "base_model = tf.keras.applications.VGG19(\n",
        "    weights='imagenet',\n",
        "    include_top=False,\n",
        "    input_shape=input_shape\n",
        ")\n",
        "base_model.trainable = False\n",
        "\n",
        "model_VGG19_adam= tf.keras.Sequential()\n",
        "model_VGG19_adam.add(base_model)\n",
        "model_VGG19_adam.add(tf.keras.layers.Flatten())\n",
        "model_VGG19_adam.add(tf.keras.layers.Dense(1, activation='sigmoid'))\n",
        "\n",
        "model_VGG19_adam.compile(\n",
        "                    loss='binary_crossentropy',\n",
        "                    optimizer=tf.keras.optimizers.Adam(0.001),\n",
        "                    metrics=['acc']\n",
        ")\n",
        "model_VGG19_adam.summary()"
      ],
      "metadata": {
        "colab": {
          "base_uri": "https://localhost:8080/"
        },
        "id": "tO1kGY5nnUp7",
        "outputId": "5ccb3d4e-7374-4d35-a6f5-4c9feff976fb"
      },
      "execution_count": null,
      "outputs": [
        {
          "output_type": "stream",
          "name": "stdout",
          "text": [
            "Found 1621 images belonging to 2 classes.\n",
            "Found 405 images belonging to 2 classes.\n",
            "Model: \"sequential\"\n",
            "_________________________________________________________________\n",
            " Layer (type)                Output Shape              Param #   \n",
            "=================================================================\n",
            " vgg19 (Functional)          (None, 9, 9, 512)         20024384  \n",
            "                                                                 \n",
            " flatten (Flatten)           (None, 41472)             0         \n",
            "                                                                 \n",
            " dense (Dense)               (None, 1)                 41473     \n",
            "                                                                 \n",
            "=================================================================\n",
            "Total params: 20,065,857\n",
            "Trainable params: 41,473\n",
            "Non-trainable params: 20,024,384\n",
            "_________________________________________________________________\n"
          ]
        }
      ]
    },
    {
      "cell_type": "code",
      "source": [
        "# aug_train_ds = augmentataion_generator(height,width)\n",
        "\n",
        "early = tf.keras.callbacks.EarlyStopping(monitor=\"val_loss\", mode=\"min\",restore_best_weights=True, patience=5)\n",
        "\n",
        "reduce_lr = tf.keras.callbacks.ReduceLROnPlateau(monitor='acc', factor=0.3,patience=3, min_lr=0.0000001)\n",
        "\n",
        "callbacks_list = [early,reduce_lr]\n",
        "\n",
        "history = model_VGG19_adam.fit(\n",
        "        train_ds,\n",
        "        validation_data=val_ds,\n",
        "        epochs=25,\n",
        "        #shuffle=True,\n",
        "        verbose=True,\n",
        "        callbacks=callbacks_list)"
      ],
      "metadata": {
        "colab": {
          "base_uri": "https://localhost:8080/"
        },
        "id": "vFk1PV4MnUmq",
        "outputId": "02e1d2be-528e-43e0-80b4-e70ebc84f2c2"
      },
      "execution_count": null,
      "outputs": [
        {
          "output_type": "stream",
          "name": "stdout",
          "text": [
            "Epoch 1/25\n",
            "26/26 [==============================] - 672s 25s/step - loss: 0.4426 - acc: 0.8186 - val_loss: 0.2317 - val_acc: 0.9062 - lr: 0.0010\n",
            "Epoch 2/25\n",
            "26/26 [==============================] - 21s 778ms/step - loss: 0.1279 - acc: 0.9568 - val_loss: 0.1346 - val_acc: 0.9827 - lr: 0.0010\n",
            "Epoch 3/25\n",
            "26/26 [==============================] - 19s 726ms/step - loss: 0.0829 - acc: 0.9741 - val_loss: 0.1980 - val_acc: 0.9383 - lr: 0.0010\n",
            "Epoch 4/25\n",
            "26/26 [==============================] - 22s 837ms/step - loss: 0.0661 - acc: 0.9821 - val_loss: 0.1201 - val_acc: 0.9827 - lr: 0.0010\n",
            "Epoch 5/25\n",
            "26/26 [==============================] - 20s 765ms/step - loss: 0.0496 - acc: 0.9907 - val_loss: 0.0675 - val_acc: 0.9926 - lr: 0.0010\n",
            "Epoch 6/25\n",
            "26/26 [==============================] - 20s 780ms/step - loss: 0.0386 - acc: 0.9957 - val_loss: 0.0917 - val_acc: 0.9827 - lr: 0.0010\n",
            "Epoch 7/25\n",
            "26/26 [==============================] - 20s 766ms/step - loss: 0.0346 - acc: 0.9957 - val_loss: 0.0615 - val_acc: 0.9926 - lr: 0.0010\n",
            "Epoch 8/25\n",
            "26/26 [==============================] - 20s 747ms/step - loss: 0.0284 - acc: 0.9981 - val_loss: 0.0494 - val_acc: 0.9951 - lr: 0.0010\n",
            "Epoch 9/25\n",
            "26/26 [==============================] - 20s 753ms/step - loss: 0.0227 - acc: 0.9988 - val_loss: 0.0482 - val_acc: 0.9926 - lr: 0.0010\n",
            "Epoch 10/25\n",
            "26/26 [==============================] - 19s 732ms/step - loss: 0.0206 - acc: 0.9981 - val_loss: 0.0545 - val_acc: 0.9926 - lr: 0.0010\n",
            "Epoch 11/25\n",
            "26/26 [==============================] - 19s 736ms/step - loss: 0.0178 - acc: 0.9994 - val_loss: 0.0481 - val_acc: 0.9926 - lr: 0.0010\n",
            "Epoch 12/25\n",
            "26/26 [==============================] - 20s 747ms/step - loss: 0.0146 - acc: 0.9994 - val_loss: 0.0401 - val_acc: 0.9926 - lr: 0.0010\n",
            "Epoch 13/25\n",
            "26/26 [==============================] - 19s 741ms/step - loss: 0.0128 - acc: 0.9994 - val_loss: 0.0486 - val_acc: 0.9926 - lr: 0.0010\n",
            "Epoch 14/25\n",
            "26/26 [==============================] - 20s 737ms/step - loss: 0.0119 - acc: 1.0000 - val_loss: 0.0407 - val_acc: 0.9926 - lr: 0.0010\n",
            "Epoch 15/25\n",
            "26/26 [==============================] - 19s 736ms/step - loss: 0.0108 - acc: 1.0000 - val_loss: 0.0415 - val_acc: 0.9926 - lr: 0.0010\n",
            "Epoch 16/25\n",
            "26/26 [==============================] - 20s 750ms/step - loss: 0.0095 - acc: 1.0000 - val_loss: 0.0355 - val_acc: 0.9951 - lr: 0.0010\n",
            "Epoch 17/25\n",
            "26/26 [==============================] - 19s 741ms/step - loss: 0.0088 - acc: 1.0000 - val_loss: 0.0342 - val_acc: 0.9951 - lr: 0.0010\n",
            "Epoch 18/25\n",
            "26/26 [==============================] - 20s 748ms/step - loss: 0.0080 - acc: 1.0000 - val_loss: 0.0331 - val_acc: 0.9951 - lr: 3.0000e-04\n",
            "Epoch 19/25\n",
            "26/26 [==============================] - 20s 740ms/step - loss: 0.0078 - acc: 1.0000 - val_loss: 0.0330 - val_acc: 0.9951 - lr: 3.0000e-04\n",
            "Epoch 20/25\n",
            "26/26 [==============================] - 20s 743ms/step - loss: 0.0075 - acc: 1.0000 - val_loss: 0.0326 - val_acc: 0.9951 - lr: 3.0000e-04\n",
            "Epoch 21/25\n",
            "26/26 [==============================] - 20s 755ms/step - loss: 0.0074 - acc: 1.0000 - val_loss: 0.0328 - val_acc: 0.9951 - lr: 9.0000e-05\n",
            "Epoch 22/25\n",
            "26/26 [==============================] - 20s 744ms/step - loss: 0.0073 - acc: 1.0000 - val_loss: 0.0330 - val_acc: 0.9951 - lr: 9.0000e-05\n",
            "Epoch 23/25\n",
            "26/26 [==============================] - 20s 758ms/step - loss: 0.0073 - acc: 1.0000 - val_loss: 0.0324 - val_acc: 0.9951 - lr: 9.0000e-05\n",
            "Epoch 24/25\n",
            "26/26 [==============================] - 20s 745ms/step - loss: 0.0072 - acc: 1.0000 - val_loss: 0.0328 - val_acc: 0.9951 - lr: 2.7000e-05\n",
            "Epoch 25/25\n",
            "26/26 [==============================] - 20s 749ms/step - loss: 0.0072 - acc: 1.0000 - val_loss: 0.0328 - val_acc: 0.9951 - lr: 2.7000e-05\n"
          ]
        }
      ]
    },
    {
      "cell_type": "code",
      "source": [
        "# model_VGG19_adam.save('/content/drive/MyDrive/STAAR/model_VGG19_adam_adam.h5')"
      ],
      "metadata": {
        "id": "ZwCBXByIjwNF"
      },
      "execution_count": null,
      "outputs": []
    },
    {
      "cell_type": "code",
      "source": [
        "# Load the saved model\n",
        "from keras.models import load_model\n",
        "model_VGG19_adam = load_model('/content/drive/MyDrive/STAAR/solved_model/model_VGG19_adam_adam.h5')"
      ],
      "metadata": {
        "id": "ieoxrwVAjwNG"
      },
      "execution_count": null,
      "outputs": []
    },
    {
      "cell_type": "code",
      "source": [
        "train_result = model_VGG19_adam.evaluate(train_ds)\n",
        "val_result = model_VGG19_adam.evaluate(val_ds)\n",
        "\n",
        "augmented_df = pd.DataFrame(zip(train_result,val_result),columns=['Train','Val'],index=['Loss','Acc'])\n",
        "augmented_df"
      ],
      "metadata": {
        "colab": {
          "base_uri": "https://localhost:8080/",
          "height": 148
        },
        "outputId": "4c0f7c6c-1977-4f4c-f8ce-2ca83afede14",
        "id": "TzDsMVvXjwNI"
      },
      "execution_count": null,
      "outputs": [
        {
          "output_type": "stream",
          "name": "stdout",
          "text": [
            "26/26 [==============================] - 15s 540ms/step - loss: 0.0071 - acc: 1.0000\n",
            "7/7 [==============================] - 4s 484ms/step - loss: 0.0328 - acc: 0.9951\n"
          ]
        },
        {
          "output_type": "execute_result",
          "data": {
            "text/plain": [
              "         Train       Val\n",
              "Loss  0.007146  0.032845\n",
              "Acc   1.000000  0.995062"
            ],
            "text/html": [
              "\n",
              "  <div id=\"df-8428eeb6-403f-4add-b6f9-e2e87413f4ab\">\n",
              "    <div class=\"colab-df-container\">\n",
              "      <div>\n",
              "<style scoped>\n",
              "    .dataframe tbody tr th:only-of-type {\n",
              "        vertical-align: middle;\n",
              "    }\n",
              "\n",
              "    .dataframe tbody tr th {\n",
              "        vertical-align: top;\n",
              "    }\n",
              "\n",
              "    .dataframe thead th {\n",
              "        text-align: right;\n",
              "    }\n",
              "</style>\n",
              "<table border=\"1\" class=\"dataframe\">\n",
              "  <thead>\n",
              "    <tr style=\"text-align: right;\">\n",
              "      <th></th>\n",
              "      <th>Train</th>\n",
              "      <th>Val</th>\n",
              "    </tr>\n",
              "  </thead>\n",
              "  <tbody>\n",
              "    <tr>\n",
              "      <th>Loss</th>\n",
              "      <td>0.007146</td>\n",
              "      <td>0.032845</td>\n",
              "    </tr>\n",
              "    <tr>\n",
              "      <th>Acc</th>\n",
              "      <td>1.000000</td>\n",
              "      <td>0.995062</td>\n",
              "    </tr>\n",
              "  </tbody>\n",
              "</table>\n",
              "</div>\n",
              "      <button class=\"colab-df-convert\" onclick=\"convertToInteractive('df-8428eeb6-403f-4add-b6f9-e2e87413f4ab')\"\n",
              "              title=\"Convert this dataframe to an interactive table.\"\n",
              "              style=\"display:none;\">\n",
              "        \n",
              "  <svg xmlns=\"http://www.w3.org/2000/svg\" height=\"24px\"viewBox=\"0 0 24 24\"\n",
              "       width=\"24px\">\n",
              "    <path d=\"M0 0h24v24H0V0z\" fill=\"none\"/>\n",
              "    <path d=\"M18.56 5.44l.94 2.06.94-2.06 2.06-.94-2.06-.94-.94-2.06-.94 2.06-2.06.94zm-11 1L8.5 8.5l.94-2.06 2.06-.94-2.06-.94L8.5 2.5l-.94 2.06-2.06.94zm10 10l.94 2.06.94-2.06 2.06-.94-2.06-.94-.94-2.06-.94 2.06-2.06.94z\"/><path d=\"M17.41 7.96l-1.37-1.37c-.4-.4-.92-.59-1.43-.59-.52 0-1.04.2-1.43.59L10.3 9.45l-7.72 7.72c-.78.78-.78 2.05 0 2.83L4 21.41c.39.39.9.59 1.41.59.51 0 1.02-.2 1.41-.59l7.78-7.78 2.81-2.81c.8-.78.8-2.07 0-2.86zM5.41 20L4 18.59l7.72-7.72 1.47 1.35L5.41 20z\"/>\n",
              "  </svg>\n",
              "      </button>\n",
              "      \n",
              "  <style>\n",
              "    .colab-df-container {\n",
              "      display:flex;\n",
              "      flex-wrap:wrap;\n",
              "      gap: 12px;\n",
              "    }\n",
              "\n",
              "    .colab-df-convert {\n",
              "      background-color: #E8F0FE;\n",
              "      border: none;\n",
              "      border-radius: 50%;\n",
              "      cursor: pointer;\n",
              "      display: none;\n",
              "      fill: #1967D2;\n",
              "      height: 32px;\n",
              "      padding: 0 0 0 0;\n",
              "      width: 32px;\n",
              "    }\n",
              "\n",
              "    .colab-df-convert:hover {\n",
              "      background-color: #E2EBFA;\n",
              "      box-shadow: 0px 1px 2px rgba(60, 64, 67, 0.3), 0px 1px 3px 1px rgba(60, 64, 67, 0.15);\n",
              "      fill: #174EA6;\n",
              "    }\n",
              "\n",
              "    [theme=dark] .colab-df-convert {\n",
              "      background-color: #3B4455;\n",
              "      fill: #D2E3FC;\n",
              "    }\n",
              "\n",
              "    [theme=dark] .colab-df-convert:hover {\n",
              "      background-color: #434B5C;\n",
              "      box-shadow: 0px 1px 3px 1px rgba(0, 0, 0, 0.15);\n",
              "      filter: drop-shadow(0px 1px 2px rgba(0, 0, 0, 0.3));\n",
              "      fill: #FFFFFF;\n",
              "    }\n",
              "  </style>\n",
              "\n",
              "      <script>\n",
              "        const buttonEl =\n",
              "          document.querySelector('#df-8428eeb6-403f-4add-b6f9-e2e87413f4ab button.colab-df-convert');\n",
              "        buttonEl.style.display =\n",
              "          google.colab.kernel.accessAllowed ? 'block' : 'none';\n",
              "\n",
              "        async function convertToInteractive(key) {\n",
              "          const element = document.querySelector('#df-8428eeb6-403f-4add-b6f9-e2e87413f4ab');\n",
              "          const dataTable =\n",
              "            await google.colab.kernel.invokeFunction('convertToInteractive',\n",
              "                                                     [key], {});\n",
              "          if (!dataTable) return;\n",
              "\n",
              "          const docLinkHtml = 'Like what you see? Visit the ' +\n",
              "            '<a target=\"_blank\" href=https://colab.research.google.com/notebooks/data_table.ipynb>data table notebook</a>'\n",
              "            + ' to learn more about interactive tables.';\n",
              "          element.innerHTML = '';\n",
              "          dataTable['output_type'] = 'display_data';\n",
              "          await google.colab.output.renderOutput(dataTable, element);\n",
              "          const docLink = document.createElement('div');\n",
              "          docLink.innerHTML = docLinkHtml;\n",
              "          element.appendChild(docLink);\n",
              "        }\n",
              "      </script>\n",
              "    </div>\n",
              "  </div>\n",
              "  "
            ]
          },
          "metadata": {},
          "execution_count": 32
        }
      ]
    },
    {
      "cell_type": "code",
      "source": [
        "# # Load the testing dataset\n",
        "# from tensorflow.keras.preprocessing.image import ImageDataGenerator\n",
        "\n",
        "# test_dir = '/content/drive/MyDrive/STAAR/new_Brain_tumor/test'\n",
        "# img_size = (299, 299)\n",
        "# batch_size = 64\n",
        "\n",
        "# test_datagen = ImageDataGenerator(rescale=1./255) # or any other desired preprocessing\n",
        "# test_data = test_datagen.flow_from_directory(\n",
        "#               test_dir,\n",
        "#               shuffle=False,\n",
        "#               class_mode='binary',\n",
        "#               target_size=img_size,\n",
        "#               batch_size=batch_size,\n",
        "#               classes={'no': 0., 'yes': 1.}\n",
        "#               )\n",
        "\n",
        "# # print(test_data.shape)\n",
        "# test_result = model_VGG19_adam.evaluate(test_data)\n",
        "# augmented_df = pd.DataFrame(zip(test_result),columns=['Test'],index=['Loss','Acc'])\n",
        "# augmented_df"
      ],
      "metadata": {
        "colab": {
          "base_uri": "https://localhost:8080/",
          "height": 148
        },
        "outputId": "04bf9e8a-ccc1-40fa-98a2-aae24cfb0183",
        "id": "BRebKySmjwNJ"
      },
      "execution_count": null,
      "outputs": [
        {
          "output_type": "stream",
          "name": "stdout",
          "text": [
            "Found 210 images belonging to 2 classes.\n",
            "4/4 [==============================] - 2s 459ms/step - loss: 0.4135 - acc: 0.8571\n"
          ]
        },
        {
          "output_type": "execute_result",
          "data": {
            "text/plain": [
              "          Test\n",
              "Loss  0.413518\n",
              "Acc   0.857143"
            ],
            "text/html": [
              "\n",
              "  <div id=\"df-449f1f59-a0e1-4cc1-a791-afd29dff9dda\">\n",
              "    <div class=\"colab-df-container\">\n",
              "      <div>\n",
              "<style scoped>\n",
              "    .dataframe tbody tr th:only-of-type {\n",
              "        vertical-align: middle;\n",
              "    }\n",
              "\n",
              "    .dataframe tbody tr th {\n",
              "        vertical-align: top;\n",
              "    }\n",
              "\n",
              "    .dataframe thead th {\n",
              "        text-align: right;\n",
              "    }\n",
              "</style>\n",
              "<table border=\"1\" class=\"dataframe\">\n",
              "  <thead>\n",
              "    <tr style=\"text-align: right;\">\n",
              "      <th></th>\n",
              "      <th>Test</th>\n",
              "    </tr>\n",
              "  </thead>\n",
              "  <tbody>\n",
              "    <tr>\n",
              "      <th>Loss</th>\n",
              "      <td>0.413518</td>\n",
              "    </tr>\n",
              "    <tr>\n",
              "      <th>Acc</th>\n",
              "      <td>0.857143</td>\n",
              "    </tr>\n",
              "  </tbody>\n",
              "</table>\n",
              "</div>\n",
              "      <button class=\"colab-df-convert\" onclick=\"convertToInteractive('df-449f1f59-a0e1-4cc1-a791-afd29dff9dda')\"\n",
              "              title=\"Convert this dataframe to an interactive table.\"\n",
              "              style=\"display:none;\">\n",
              "        \n",
              "  <svg xmlns=\"http://www.w3.org/2000/svg\" height=\"24px\"viewBox=\"0 0 24 24\"\n",
              "       width=\"24px\">\n",
              "    <path d=\"M0 0h24v24H0V0z\" fill=\"none\"/>\n",
              "    <path d=\"M18.56 5.44l.94 2.06.94-2.06 2.06-.94-2.06-.94-.94-2.06-.94 2.06-2.06.94zm-11 1L8.5 8.5l.94-2.06 2.06-.94-2.06-.94L8.5 2.5l-.94 2.06-2.06.94zm10 10l.94 2.06.94-2.06 2.06-.94-2.06-.94-.94-2.06-.94 2.06-2.06.94z\"/><path d=\"M17.41 7.96l-1.37-1.37c-.4-.4-.92-.59-1.43-.59-.52 0-1.04.2-1.43.59L10.3 9.45l-7.72 7.72c-.78.78-.78 2.05 0 2.83L4 21.41c.39.39.9.59 1.41.59.51 0 1.02-.2 1.41-.59l7.78-7.78 2.81-2.81c.8-.78.8-2.07 0-2.86zM5.41 20L4 18.59l7.72-7.72 1.47 1.35L5.41 20z\"/>\n",
              "  </svg>\n",
              "      </button>\n",
              "      \n",
              "  <style>\n",
              "    .colab-df-container {\n",
              "      display:flex;\n",
              "      flex-wrap:wrap;\n",
              "      gap: 12px;\n",
              "    }\n",
              "\n",
              "    .colab-df-convert {\n",
              "      background-color: #E8F0FE;\n",
              "      border: none;\n",
              "      border-radius: 50%;\n",
              "      cursor: pointer;\n",
              "      display: none;\n",
              "      fill: #1967D2;\n",
              "      height: 32px;\n",
              "      padding: 0 0 0 0;\n",
              "      width: 32px;\n",
              "    }\n",
              "\n",
              "    .colab-df-convert:hover {\n",
              "      background-color: #E2EBFA;\n",
              "      box-shadow: 0px 1px 2px rgba(60, 64, 67, 0.3), 0px 1px 3px 1px rgba(60, 64, 67, 0.15);\n",
              "      fill: #174EA6;\n",
              "    }\n",
              "\n",
              "    [theme=dark] .colab-df-convert {\n",
              "      background-color: #3B4455;\n",
              "      fill: #D2E3FC;\n",
              "    }\n",
              "\n",
              "    [theme=dark] .colab-df-convert:hover {\n",
              "      background-color: #434B5C;\n",
              "      box-shadow: 0px 1px 3px 1px rgba(0, 0, 0, 0.15);\n",
              "      filter: drop-shadow(0px 1px 2px rgba(0, 0, 0, 0.3));\n",
              "      fill: #FFFFFF;\n",
              "    }\n",
              "  </style>\n",
              "\n",
              "      <script>\n",
              "        const buttonEl =\n",
              "          document.querySelector('#df-449f1f59-a0e1-4cc1-a791-afd29dff9dda button.colab-df-convert');\n",
              "        buttonEl.style.display =\n",
              "          google.colab.kernel.accessAllowed ? 'block' : 'none';\n",
              "\n",
              "        async function convertToInteractive(key) {\n",
              "          const element = document.querySelector('#df-449f1f59-a0e1-4cc1-a791-afd29dff9dda');\n",
              "          const dataTable =\n",
              "            await google.colab.kernel.invokeFunction('convertToInteractive',\n",
              "                                                     [key], {});\n",
              "          if (!dataTable) return;\n",
              "\n",
              "          const docLinkHtml = 'Like what you see? Visit the ' +\n",
              "            '<a target=\"_blank\" href=https://colab.research.google.com/notebooks/data_table.ipynb>data table notebook</a>'\n",
              "            + ' to learn more about interactive tables.';\n",
              "          element.innerHTML = '';\n",
              "          dataTable['output_type'] = 'display_data';\n",
              "          await google.colab.output.renderOutput(dataTable, element);\n",
              "          const docLink = document.createElement('div');\n",
              "          docLink.innerHTML = docLinkHtml;\n",
              "          element.appendChild(docLink);\n",
              "        }\n",
              "      </script>\n",
              "    </div>\n",
              "  </div>\n",
              "  "
            ]
          },
          "metadata": {},
          "execution_count": 33
        }
      ]
    },
    {
      "cell_type": "code",
      "source": [
        "# Load the testing dataset\n",
        "from tensorflow.keras.preprocessing.image import ImageDataGenerator\n",
        "\n",
        "test_dir = '/content/drive/MyDrive/STAAR/new_Brain_tumor/test2'\n",
        "img_size = (299, 299)\n",
        "batch_size = 64\n",
        "\n",
        "test_datagen = ImageDataGenerator(rescale=1./255) # or any other desired preprocessing\n",
        "test_data = test_datagen.flow_from_directory(\n",
        "              test_dir,\n",
        "              shuffle=False,\n",
        "              class_mode='binary',\n",
        "              target_size=img_size,\n",
        "              batch_size=batch_size,\n",
        "              classes={'no': 0., 'yes': 1.}\n",
        "              )\n",
        "\n",
        "# print(test_data.shape)\n",
        "test_result = model_VGG19_adam.evaluate(test_data)\n",
        "augmented_df = pd.DataFrame(zip(test_result),columns=['Test'],index=['Loss','Acc'])\n",
        "augmented_df"
      ],
      "metadata": {
        "colab": {
          "base_uri": "https://localhost:8080/",
          "height": 148
        },
        "id": "AOfTFU7jGmWQ",
        "outputId": "78fc2f82-5719-4c40-ea98-d24d9ff2e087"
      },
      "execution_count": null,
      "outputs": [
        {
          "output_type": "stream",
          "name": "stdout",
          "text": [
            "Found 100 images belonging to 2 classes.\n",
            "2/2 [==============================] - 1s 367ms/step - loss: 0.2173 - acc: 0.9100\n"
          ]
        },
        {
          "output_type": "execute_result",
          "data": {
            "text/plain": [
              "          Test\n",
              "Loss  0.217325\n",
              "Acc   0.910000"
            ],
            "text/html": [
              "\n",
              "  <div id=\"df-2e0acde0-b140-43a2-9fe0-8dcd482880c6\">\n",
              "    <div class=\"colab-df-container\">\n",
              "      <div>\n",
              "<style scoped>\n",
              "    .dataframe tbody tr th:only-of-type {\n",
              "        vertical-align: middle;\n",
              "    }\n",
              "\n",
              "    .dataframe tbody tr th {\n",
              "        vertical-align: top;\n",
              "    }\n",
              "\n",
              "    .dataframe thead th {\n",
              "        text-align: right;\n",
              "    }\n",
              "</style>\n",
              "<table border=\"1\" class=\"dataframe\">\n",
              "  <thead>\n",
              "    <tr style=\"text-align: right;\">\n",
              "      <th></th>\n",
              "      <th>Test</th>\n",
              "    </tr>\n",
              "  </thead>\n",
              "  <tbody>\n",
              "    <tr>\n",
              "      <th>Loss</th>\n",
              "      <td>0.217325</td>\n",
              "    </tr>\n",
              "    <tr>\n",
              "      <th>Acc</th>\n",
              "      <td>0.910000</td>\n",
              "    </tr>\n",
              "  </tbody>\n",
              "</table>\n",
              "</div>\n",
              "      <button class=\"colab-df-convert\" onclick=\"convertToInteractive('df-2e0acde0-b140-43a2-9fe0-8dcd482880c6')\"\n",
              "              title=\"Convert this dataframe to an interactive table.\"\n",
              "              style=\"display:none;\">\n",
              "        \n",
              "  <svg xmlns=\"http://www.w3.org/2000/svg\" height=\"24px\"viewBox=\"0 0 24 24\"\n",
              "       width=\"24px\">\n",
              "    <path d=\"M0 0h24v24H0V0z\" fill=\"none\"/>\n",
              "    <path d=\"M18.56 5.44l.94 2.06.94-2.06 2.06-.94-2.06-.94-.94-2.06-.94 2.06-2.06.94zm-11 1L8.5 8.5l.94-2.06 2.06-.94-2.06-.94L8.5 2.5l-.94 2.06-2.06.94zm10 10l.94 2.06.94-2.06 2.06-.94-2.06-.94-.94-2.06-.94 2.06-2.06.94z\"/><path d=\"M17.41 7.96l-1.37-1.37c-.4-.4-.92-.59-1.43-.59-.52 0-1.04.2-1.43.59L10.3 9.45l-7.72 7.72c-.78.78-.78 2.05 0 2.83L4 21.41c.39.39.9.59 1.41.59.51 0 1.02-.2 1.41-.59l7.78-7.78 2.81-2.81c.8-.78.8-2.07 0-2.86zM5.41 20L4 18.59l7.72-7.72 1.47 1.35L5.41 20z\"/>\n",
              "  </svg>\n",
              "      </button>\n",
              "      \n",
              "  <style>\n",
              "    .colab-df-container {\n",
              "      display:flex;\n",
              "      flex-wrap:wrap;\n",
              "      gap: 12px;\n",
              "    }\n",
              "\n",
              "    .colab-df-convert {\n",
              "      background-color: #E8F0FE;\n",
              "      border: none;\n",
              "      border-radius: 50%;\n",
              "      cursor: pointer;\n",
              "      display: none;\n",
              "      fill: #1967D2;\n",
              "      height: 32px;\n",
              "      padding: 0 0 0 0;\n",
              "      width: 32px;\n",
              "    }\n",
              "\n",
              "    .colab-df-convert:hover {\n",
              "      background-color: #E2EBFA;\n",
              "      box-shadow: 0px 1px 2px rgba(60, 64, 67, 0.3), 0px 1px 3px 1px rgba(60, 64, 67, 0.15);\n",
              "      fill: #174EA6;\n",
              "    }\n",
              "\n",
              "    [theme=dark] .colab-df-convert {\n",
              "      background-color: #3B4455;\n",
              "      fill: #D2E3FC;\n",
              "    }\n",
              "\n",
              "    [theme=dark] .colab-df-convert:hover {\n",
              "      background-color: #434B5C;\n",
              "      box-shadow: 0px 1px 3px 1px rgba(0, 0, 0, 0.15);\n",
              "      filter: drop-shadow(0px 1px 2px rgba(0, 0, 0, 0.3));\n",
              "      fill: #FFFFFF;\n",
              "    }\n",
              "  </style>\n",
              "\n",
              "      <script>\n",
              "        const buttonEl =\n",
              "          document.querySelector('#df-2e0acde0-b140-43a2-9fe0-8dcd482880c6 button.colab-df-convert');\n",
              "        buttonEl.style.display =\n",
              "          google.colab.kernel.accessAllowed ? 'block' : 'none';\n",
              "\n",
              "        async function convertToInteractive(key) {\n",
              "          const element = document.querySelector('#df-2e0acde0-b140-43a2-9fe0-8dcd482880c6');\n",
              "          const dataTable =\n",
              "            await google.colab.kernel.invokeFunction('convertToInteractive',\n",
              "                                                     [key], {});\n",
              "          if (!dataTable) return;\n",
              "\n",
              "          const docLinkHtml = 'Like what you see? Visit the ' +\n",
              "            '<a target=\"_blank\" href=https://colab.research.google.com/notebooks/data_table.ipynb>data table notebook</a>'\n",
              "            + ' to learn more about interactive tables.';\n",
              "          element.innerHTML = '';\n",
              "          dataTable['output_type'] = 'display_data';\n",
              "          await google.colab.output.renderOutput(dataTable, element);\n",
              "          const docLink = document.createElement('div');\n",
              "          docLink.innerHTML = docLinkHtml;\n",
              "          element.appendChild(docLink);\n",
              "        }\n",
              "      </script>\n",
              "    </div>\n",
              "  </div>\n",
              "  "
            ]
          },
          "metadata": {},
          "execution_count": 34
        }
      ]
    },
    {
      "cell_type": "code",
      "source": [
        "ypred = model_VGG19_adam.predict(val_ds[0][0])\n",
        "ypred = np.array([1 if x > 0.5 else 0 for x in ypred])\n",
        "#ypred = ypred.astype(int)\n",
        "ytest = val_ds[0][-1]\n",
        "\n",
        "print('Confusion_Matrix:\\n',confusion_matrix(ytest, ypred))\n",
        "print('\\nClassification_report:\\n',classification_report(ypred,ytest))"
      ],
      "metadata": {
        "id": "J_Ztkdgn29sV"
      },
      "execution_count": null,
      "outputs": []
    },
    {
      "cell_type": "code",
      "source": [
        "# plot learning curve\n",
        "def plot_learning_curve(history):\n",
        "    acc = history.history['acc']\n",
        "    val_acc = history.history['val_acc']\n",
        "    loss = history.history['loss']\n",
        "    val_loss = history.history['val_loss']\n",
        "    epochs = range(len(acc))\n",
        "\n",
        "    plt.plot(epochs, acc, label='training acc')\n",
        "    plt.plot(epochs, val_acc, label='validation acc')\n",
        "    plt.xlabel('Epochs')\n",
        "    plt.ylabel('Accuracy-%')\n",
        "    plt.legend()\n",
        "    plt.figure()\n",
        "\n",
        "    plt.plot(epochs, loss, label='training loss')\n",
        "    plt.plot(epochs, val_loss, label='validation loss')\n",
        "    plt.xlabel('Epochs')\n",
        "    plt.ylabel('Loss')\n",
        "    plt.legend()\n",
        "\n",
        "plot_learning_curve(history)"
      ],
      "metadata": {
        "id": "PUvecsyEkUTL"
      },
      "execution_count": null,
      "outputs": []
    },
    {
      "cell_type": "markdown",
      "metadata": {
        "papermill": {
          "duration": 0.042176,
          "end_time": "2022-07-18T15:26:41.096254",
          "exception": false,
          "start_time": "2022-07-18T15:26:41.054078",
          "status": "completed"
        },
        "tags": [],
        "id": "1YkJzy-hh1n9"
      },
      "source": [
        "## VGG16+XECEPTION\n",
        "<a class=\"anchor\" id=\"2\"></a>"
      ]
    },
    {
      "cell_type": "code",
      "source": [],
      "metadata": {
        "id": "rhL3PEs2kXtW"
      },
      "execution_count": null,
      "outputs": []
    },
    {
      "cell_type": "code",
      "source": [
        "import tensorflow as tf\n",
        "from tensorflow import keras\n",
        "from tensorflow.keras import layers\n",
        "from tensorflow.keras.preprocessing.image import ImageDataGenerator\n",
        "from tensorflow.keras.models import Sequential, Model\n",
        "from tensorflow.keras.layers import Dense, Dropout, Flatten, Conv2D, MaxPooling2D, GlobalAveragePooling2D\n",
        "from tensorflow.keras.optimizers import Adam\n",
        "from tensorflow.keras.applications import VGG16, Xception\n",
        "from keras.callbacks import EarlyStopping\n",
        "\n",
        "# Define VGG16 model\n",
        "input_shape = (299, 299, 3)\n",
        "Input_Layer = layers.Input(shape=input_shape)\n",
        "base_model1 = VGG16(include_top=False, input_shape=input_shape, pooling='avg')\n",
        "\n",
        "for layer in base_model1.layers:\n",
        "    layer.trainable = False;\n",
        "\n",
        "base_model1 = base_model1(Input_Layer)\n",
        "# Define Xception model\n",
        "input_shape = (299, 299, 3)\n",
        "base_model2 = Xception(include_top=False, input_shape=input_shape, pooling='avg')\n",
        "\n",
        "for layer in base_model2.layers:\n",
        "    layer.trainable = False;\n",
        "\n",
        "base_model2 = base_model2(Input_Layer)\n",
        "\n",
        "# Concatenate the models\n",
        "concatenated = tf.keras.layers.Concatenate()([base_model1, base_model2])\n",
        "\n",
        "# Add fully connected layer\n",
        "x = tf.keras.layers.Dense(1024, activation='relu')(concatenated)\n",
        "\n",
        "# Add output layer\n",
        "output = tf.keras.layers.Dense(1, activation='sigmoid')(x)\n",
        "\n",
        "# Define the combined model\n",
        "model = tf.keras.Model(inputs=Input_Layer, outputs=output)\n",
        "\n",
        "# Compile the model\n",
        "model.compile(optimizer=tf.keras.optimizers.Adam(),\n",
        "              loss=tf.losses.binary_crossentropy,\n",
        "              metrics=['accuracy'])\n",
        "\n",
        "# Print model summary\n",
        "model.summary()\n",
        "keras.utils.plot_model(model, \"VGG16+xception.png\", show_shapes=True)"
      ],
      "metadata": {
        "colab": {
          "base_uri": "https://localhost:8080/",
          "height": 952
        },
        "id": "DrJvRatKm_c9",
        "outputId": "5d08ec1b-d5ea-4174-f3c7-f7b773692b9a"
      },
      "execution_count": null,
      "outputs": [
        {
          "output_type": "stream",
          "name": "stdout",
          "text": [
            "Model: \"model\"\n",
            "__________________________________________________________________________________________________\n",
            " Layer (type)                   Output Shape         Param #     Connected to                     \n",
            "==================================================================================================\n",
            " input_2 (InputLayer)           [(None, 299, 299, 3  0           []                               \n",
            "                                )]                                                                \n",
            "                                                                                                  \n",
            " vgg16 (Functional)             (None, 512)          14714688    ['input_2[0][0]']                \n",
            "                                                                                                  \n",
            " xception (Functional)          (None, 2048)         20861480    ['input_2[0][0]']                \n",
            "                                                                                                  \n",
            " concatenate (Concatenate)      (None, 2560)         0           ['vgg16[0][0]',                  \n",
            "                                                                  'xception[0][0]']               \n",
            "                                                                                                  \n",
            " dense_1 (Dense)                (None, 1024)         2622464     ['concatenate[0][0]']            \n",
            "                                                                                                  \n",
            " dense_2 (Dense)                (None, 1)            1025        ['dense_1[0][0]']                \n",
            "                                                                                                  \n",
            "==================================================================================================\n",
            "Total params: 38,199,657\n",
            "Trainable params: 2,623,489\n",
            "Non-trainable params: 35,576,168\n",
            "__________________________________________________________________________________________________\n"
          ]
        },
        {
          "output_type": "execute_result",
          "data": {
            "image/png": "[encoded data removed]",
            "text/plain": [
              "<IPython.core.display.Image object>"
            ]
          },
          "metadata": {},
          "execution_count": 35
        }
      ]
    },
    {
      "cell_type": "code",
      "source": [
        "# aug_train_ds = augmentataion_generator(height,width)\n",
        "\n",
        "early = tf.keras.callbacks.EarlyStopping(monitor=\"val_loss\", mode=\"min\",restore_best_weights=True, patience=5)\n",
        "\n",
        "reduce_lr = tf.keras.callbacks.ReduceLROnPlateau(monitor='acc', factor=0.3,patience=3, min_lr=0.0000001)\n",
        "\n",
        "callbacks_list = [early,reduce_lr]\n",
        "\n",
        "history = model.fit(\n",
        "        train_ds,\n",
        "        validation_data=val_ds,\n",
        "        epochs=25,\n",
        "        #shuffle=True,\n",
        "        verbose=True,\n",
        "        callbacks=callbacks_list)"
      ],
      "metadata": {
        "colab": {
          "base_uri": "https://localhost:8080/"
        },
        "id": "_lWm9qQxm_Zq",
        "outputId": "7e2b89a1-7e2a-45c8-9018-8db2d236bd30"
      },
      "execution_count": null,
      "outputs": [
        {
          "output_type": "stream",
          "name": "stdout",
          "text": [
            "Epoch 1/25\n",
            "26/26 [==============================] - ETA: 0s - loss: 0.5720 - accuracy: 0.7995 "
          ]
        },
        {
          "output_type": "stream",
          "name": "stderr",
          "text": [
            "WARNING:tensorflow:Learning rate reduction is conditioned on metric `acc` which is not available. Available metrics are: loss,accuracy,val_loss,val_accuracy,lr\n"
          ]
        },
        {
          "output_type": "stream",
          "name": "stdout",
          "text": [
            "\b\b\b\b\b\b\b\b\b\b\b\b\b\b\b\b\b\b\b\b\b\b\b\b\b\b\b\b\b\b\b\b\b\b\b\b\b\b\b\b\b\b\b\b\b\b\b\b\b\b\b\b\b\b\b\b\b\b\b\b\b\b\b\b\b\b\b\b\b\b\b\b\b\b\b\b\b\b\b\b\b\b\r26/26 [==============================] - 1334s 51s/step - loss: 0.5720 - accuracy: 0.7995 - val_loss: 0.1693 - val_accuracy: 0.9580 - lr: 0.0010\n",
            "Epoch 2/25\n",
            "26/26 [==============================] - ETA: 0s - loss: 0.1435 - accuracy: 0.9476"
          ]
        },
        {
          "output_type": "stream",
          "name": "stderr",
          "text": [
            "WARNING:tensorflow:Learning rate reduction is conditioned on metric `acc` which is not available. Available metrics are: loss,accuracy,val_loss,val_accuracy,lr\n"
          ]
        },
        {
          "output_type": "stream",
          "name": "stdout",
          "text": [
            "\b\b\b\b\b\b\b\b\b\b\b\b\b\b\b\b\b\b\b\b\b\b\b\b\b\b\b\b\b\b\b\b\b\b\b\b\b\b\b\b\b\b\b\b\b\b\b\b\b\b\b\b\b\b\b\b\b\b\b\b\b\b\b\b\b\b\b\b\b\b\b\b\b\b\b\b\b\b\b\b\b\b\r26/26 [==============================] - 17s 641ms/step - loss: 0.1435 - accuracy: 0.9476 - val_loss: 0.1104 - val_accuracy: 0.9753 - lr: 0.0010\n",
            "Epoch 3/25\n",
            "26/26 [==============================] - ETA: 0s - loss: 0.1041 - accuracy: 0.9642"
          ]
        },
        {
          "output_type": "stream",
          "name": "stderr",
          "text": [
            "WARNING:tensorflow:Learning rate reduction is conditioned on metric `acc` which is not available. Available metrics are: loss,accuracy,val_loss,val_accuracy,lr\n"
          ]
        },
        {
          "output_type": "stream",
          "name": "stdout",
          "text": [
            "\b\b\b\b\b\b\b\b\b\b\b\b\b\b\b\b\b\b\b\b\b\b\b\b\b\b\b\b\b\b\b\b\b\b\b\b\b\b\b\b\b\b\b\b\b\b\b\b\b\b\b\b\b\b\b\b\b\b\b\b\b\b\b\b\b\b\b\b\b\b\b\b\b\b\b\b\b\b\b\b\b\b\r26/26 [==============================] - 19s 730ms/step - loss: 0.1041 - accuracy: 0.9642 - val_loss: 0.0911 - val_accuracy: 0.9926 - lr: 0.0010\n",
            "Epoch 4/25\n",
            "26/26 [==============================] - ETA: 0s - loss: 0.0732 - accuracy: 0.9766"
          ]
        },
        {
          "output_type": "stream",
          "name": "stderr",
          "text": [
            "WARNING:tensorflow:Learning rate reduction is conditioned on metric `acc` which is not available. Available metrics are: loss,accuracy,val_loss,val_accuracy,lr\n"
          ]
        },
        {
          "output_type": "stream",
          "name": "stdout",
          "text": [
            "\b\b\b\b\b\b\b\b\b\b\b\b\b\b\b\b\b\b\b\b\b\b\b\b\b\b\b\b\b\b\b\b\b\b\b\b\b\b\b\b\b\b\b\b\b\b\b\b\b\b\b\b\b\b\b\b\b\b\b\b\b\b\b\b\b\b\b\b\b\b\b\b\b\b\b\b\b\b\b\b\b\b\r26/26 [==============================] - 17s 637ms/step - loss: 0.0732 - accuracy: 0.9766 - val_loss: 0.0969 - val_accuracy: 0.9877 - lr: 0.0010\n",
            "Epoch 5/25\n",
            "26/26 [==============================] - ETA: 0s - loss: 0.0593 - accuracy: 0.9833"
          ]
        },
        {
          "output_type": "stream",
          "name": "stderr",
          "text": [
            "WARNING:tensorflow:Learning rate reduction is conditioned on metric `acc` which is not available. Available metrics are: loss,accuracy,val_loss,val_accuracy,lr\n"
          ]
        },
        {
          "output_type": "stream",
          "name": "stdout",
          "text": [
            "\b\b\b\b\b\b\b\b\b\b\b\b\b\b\b\b\b\b\b\b\b\b\b\b\b\b\b\b\b\b\b\b\b\b\b\b\b\b\b\b\b\b\b\b\b\b\b\b\b\b\b\b\b\b\b\b\b\b\b\b\b\b\b\b\b\b\b\b\b\b\b\b\b\b\b\b\b\b\b\b\b\b\r26/26 [==============================] - 16s 625ms/step - loss: 0.0593 - accuracy: 0.9833 - val_loss: 0.0914 - val_accuracy: 0.9802 - lr: 0.0010\n",
            "Epoch 6/25\n",
            "26/26 [==============================] - ETA: 0s - loss: 0.0410 - accuracy: 0.9889"
          ]
        },
        {
          "output_type": "stream",
          "name": "stderr",
          "text": [
            "WARNING:tensorflow:Learning rate reduction is conditioned on metric `acc` which is not available. Available metrics are: loss,accuracy,val_loss,val_accuracy,lr\n"
          ]
        },
        {
          "output_type": "stream",
          "name": "stdout",
          "text": [
            "\b\b\b\b\b\b\b\b\b\b\b\b\b\b\b\b\b\b\b\b\b\b\b\b\b\b\b\b\b\b\b\b\b\b\b\b\b\b\b\b\b\b\b\b\b\b\b\b\b\b\b\b\b\b\b\b\b\b\b\b\b\b\b\b\b\b\b\b\b\b\b\b\b\b\b\b\b\b\b\b\b\b\r26/26 [==============================] - 17s 636ms/step - loss: 0.0410 - accuracy: 0.9889 - val_loss: 0.0444 - val_accuracy: 0.9975 - lr: 0.0010\n",
            "Epoch 7/25\n",
            "26/26 [==============================] - ETA: 0s - loss: 0.0336 - accuracy: 0.9914"
          ]
        },
        {
          "output_type": "stream",
          "name": "stderr",
          "text": [
            "WARNING:tensorflow:Learning rate reduction is conditioned on metric `acc` which is not available. Available metrics are: loss,accuracy,val_loss,val_accuracy,lr\n"
          ]
        },
        {
          "output_type": "stream",
          "name": "stdout",
          "text": [
            "\b\b\b\b\b\b\b\b\b\b\b\b\b\b\b\b\b\b\b\b\b\b\b\b\b\b\b\b\b\b\b\b\b\b\b\b\b\b\b\b\b\b\b\b\b\b\b\b\b\b\b\b\b\b\b\b\b\b\b\b\b\b\b\b\b\b\b\b\b\b\b\b\b\b\b\b\b\b\b\b\b\b\r26/26 [==============================] - 17s 639ms/step - loss: 0.0336 - accuracy: 0.9914 - val_loss: 0.0630 - val_accuracy: 0.9901 - lr: 0.0010\n",
            "Epoch 8/25\n",
            "26/26 [==============================] - ETA: 0s - loss: 0.0224 - accuracy: 0.9969"
          ]
        },
        {
          "output_type": "stream",
          "name": "stderr",
          "text": [
            "WARNING:tensorflow:Learning rate reduction is conditioned on metric `acc` which is not available. Available metrics are: loss,accuracy,val_loss,val_accuracy,lr\n"
          ]
        },
        {
          "output_type": "stream",
          "name": "stdout",
          "text": [
            "\b\b\b\b\b\b\b\b\b\b\b\b\b\b\b\b\b\b\b\b\b\b\b\b\b\b\b\b\b\b\b\b\b\b\b\b\b\b\b\b\b\b\b\b\b\b\b\b\b\b\b\b\b\b\b\b\b\b\b\b\b\b\b\b\b\b\b\b\b\b\b\b\b\b\b\b\b\b\b\b\b\b\r26/26 [==============================] - 17s 647ms/step - loss: 0.0224 - accuracy: 0.9969 - val_loss: 0.0531 - val_accuracy: 0.9901 - lr: 0.0010\n",
            "Epoch 9/25\n",
            "26/26 [==============================] - ETA: 0s - loss: 0.0165 - accuracy: 0.9988"
          ]
        },
        {
          "output_type": "stream",
          "name": "stderr",
          "text": [
            "WARNING:tensorflow:Learning rate reduction is conditioned on metric `acc` which is not available. Available metrics are: loss,accuracy,val_loss,val_accuracy,lr\n"
          ]
        },
        {
          "output_type": "stream",
          "name": "stdout",
          "text": [
            "\b\b\b\b\b\b\b\b\b\b\b\b\b\b\b\b\b\b\b\b\b\b\b\b\b\b\b\b\b\b\b\b\b\b\b\b\b\b\b\b\b\b\b\b\b\b\b\b\b\b\b\b\b\b\b\b\b\b\b\b\b\b\b\b\b\b\b\b\b\b\b\b\b\b\b\b\b\b\b\b\b\b\r26/26 [==============================] - 19s 708ms/step - loss: 0.0165 - accuracy: 0.9988 - val_loss: 0.0854 - val_accuracy: 0.9654 - lr: 0.0010\n",
            "Epoch 10/25\n",
            "26/26 [==============================] - ETA: 0s - loss: 0.0140 - accuracy: 0.9994"
          ]
        },
        {
          "output_type": "stream",
          "name": "stderr",
          "text": [
            "WARNING:tensorflow:Learning rate reduction is conditioned on metric `acc` which is not available. Available metrics are: loss,accuracy,val_loss,val_accuracy,lr\n"
          ]
        },
        {
          "output_type": "stream",
          "name": "stdout",
          "text": [
            "\b\b\b\b\b\b\b\b\b\b\b\b\b\b\b\b\b\b\b\b\b\b\b\b\b\b\b\b\b\b\b\b\b\b\b\b\b\b\b\b\b\b\b\b\b\b\b\b\b\b\b\b\b\b\b\b\b\b\b\b\b\b\b\b\b\b\b\b\b\b\b\b\b\b\b\b\b\b\b\b\b\b\r26/26 [==============================] - 17s 662ms/step - loss: 0.0140 - accuracy: 0.9994 - val_loss: 0.0325 - val_accuracy: 0.9975 - lr: 0.0010\n",
            "Epoch 11/25\n",
            "26/26 [==============================] - ETA: 0s - loss: 0.0089 - accuracy: 1.0000"
          ]
        },
        {
          "output_type": "stream",
          "name": "stderr",
          "text": [
            "WARNING:tensorflow:Learning rate reduction is conditioned on metric `acc` which is not available. Available metrics are: loss,accuracy,val_loss,val_accuracy,lr\n"
          ]
        },
        {
          "output_type": "stream",
          "name": "stdout",
          "text": [
            "\b\b\b\b\b\b\b\b\b\b\b\b\b\b\b\b\b\b\b\b\b\b\b\b\b\b\b\b\b\b\b\b\b\b\b\b\b\b\b\b\b\b\b\b\b\b\b\b\b\b\b\b\b\b\b\b\b\b\b\b\b\b\b\b\b\b\b\b\b\b\b\b\b\b\b\b\b\b\b\b\b\b\r26/26 [==============================] - 19s 727ms/step - loss: 0.0089 - accuracy: 1.0000 - val_loss: 0.0702 - val_accuracy: 0.9679 - lr: 0.0010\n",
            "Epoch 12/25\n",
            "26/26 [==============================] - ETA: 0s - loss: 0.0072 - accuracy: 1.0000"
          ]
        },
        {
          "output_type": "stream",
          "name": "stderr",
          "text": [
            "WARNING:tensorflow:Learning rate reduction is conditioned on metric `acc` which is not available. Available metrics are: loss,accuracy,val_loss,val_accuracy,lr\n"
          ]
        },
        {
          "output_type": "stream",
          "name": "stdout",
          "text": [
            "\b\b\b\b\b\b\b\b\b\b\b\b\b\b\b\b\b\b\b\b\b\b\b\b\b\b\b\b\b\b\b\b\b\b\b\b\b\b\b\b\b\b\b\b\b\b\b\b\b\b\b\b\b\b\b\b\b\b\b\b\b\b\b\b\b\b\b\b\b\b\b\b\b\b\b\b\b\b\b\b\b\b\r26/26 [==============================] - 17s 638ms/step - loss: 0.0072 - accuracy: 1.0000 - val_loss: 0.0355 - val_accuracy: 0.9951 - lr: 0.0010\n",
            "Epoch 13/25\n",
            "26/26 [==============================] - ETA: 0s - loss: 0.0066 - accuracy: 1.0000"
          ]
        },
        {
          "output_type": "stream",
          "name": "stderr",
          "text": [
            "WARNING:tensorflow:Learning rate reduction is conditioned on metric `acc` which is not available. Available metrics are: loss,accuracy,val_loss,val_accuracy,lr\n"
          ]
        },
        {
          "output_type": "stream",
          "name": "stdout",
          "text": [
            "\b\b\b\b\b\b\b\b\b\b\b\b\b\b\b\b\b\b\b\b\b\b\b\b\b\b\b\b\b\b\b\b\b\b\b\b\b\b\b\b\b\b\b\b\b\b\b\b\b\b\b\b\b\b\b\b\b\b\b\b\b\b\b\b\b\b\b\b\b\b\b\b\b\b\b\b\b\b\b\b\b\b\r26/26 [==============================] - 19s 711ms/step - loss: 0.0066 - accuracy: 1.0000 - val_loss: 0.0470 - val_accuracy: 0.9901 - lr: 0.0010\n",
            "Epoch 14/25\n",
            "26/26 [==============================] - ETA: 0s - loss: 0.0058 - accuracy: 1.0000"
          ]
        },
        {
          "output_type": "stream",
          "name": "stderr",
          "text": [
            "WARNING:tensorflow:Learning rate reduction is conditioned on metric `acc` which is not available. Available metrics are: loss,accuracy,val_loss,val_accuracy,lr\n"
          ]
        },
        {
          "output_type": "stream",
          "name": "stdout",
          "text": [
            "\b\b\b\b\b\b\b\b\b\b\b\b\b\b\b\b\b\b\b\b\b\b\b\b\b\b\b\b\b\b\b\b\b\b\b\b\b\b\b\b\b\b\b\b\b\b\b\b\b\b\b\b\b\b\b\b\b\b\b\b\b\b\b\b\b\b\b\b\b\b\b\b\b\b\b\b\b\b\b\b\b\b\r26/26 [==============================] - 19s 700ms/step - loss: 0.0058 - accuracy: 1.0000 - val_loss: 0.0802 - val_accuracy: 0.9630 - lr: 0.0010\n",
            "Epoch 15/25\n",
            "26/26 [==============================] - ETA: 0s - loss: 0.0042 - accuracy: 1.0000"
          ]
        },
        {
          "output_type": "stream",
          "name": "stderr",
          "text": [
            "WARNING:tensorflow:Learning rate reduction is conditioned on metric `acc` which is not available. Available metrics are: loss,accuracy,val_loss,val_accuracy,lr\n"
          ]
        },
        {
          "output_type": "stream",
          "name": "stdout",
          "text": [
            "\b\b\b\b\b\b\b\b\b\b\b\b\b\b\b\b\b\b\b\b\b\b\b\b\b\b\b\b\b\b\b\b\b\b\b\b\b\b\b\b\b\b\b\b\b\b\b\b\b\b\b\b\b\b\b\b\b\b\b\b\b\b\b\b\b\b\b\b\b\b\b\b\b\b\b\b\b\b\b\b\b\b\r26/26 [==============================] - 17s 641ms/step - loss: 0.0042 - accuracy: 1.0000 - val_loss: 0.0368 - val_accuracy: 0.9951 - lr: 0.0010\n"
          ]
        }
      ]
    },
    {
      "cell_type": "code",
      "source": [
        "# plot learning curve\n",
        "def plot_learning_curve(history):\n",
        "    acc = history.history['acc']\n",
        "    val_acc = history.history['val_acc']\n",
        "    loss = history.history['loss']\n",
        "    val_loss = history.history['val_loss']\n",
        "    epochs = range(len(acc))\n",
        "\n",
        "    plt.plot(epochs, acc, label='training acc')\n",
        "    plt.plot(epochs, val_acc, label='validation acc')\n",
        "    plt.xlabel('Epochs')\n",
        "    plt.ylabel('Accuracy-%')\n",
        "    plt.legend()\n",
        "    plt.figure()\n",
        "\n",
        "    plt.plot(epochs, loss, label='training loss')\n",
        "    plt.plot(epochs, val_loss, label='validation loss')\n",
        "    plt.xlabel('Epochs')\n",
        "    plt.ylabel('Loss')\n",
        "    plt.legend()\n",
        "\n",
        "plot_learning_curve(history)"
      ],
      "metadata": {
        "colab": {
          "base_uri": "https://localhost:8080/",
          "height": 881
        },
        "outputId": "5798184d-2161-45ac-bc43-2988ee2a7e3a",
        "id": "fm6-NQ4Io6M6"
      },
      "execution_count": null,
      "outputs": [
        {
          "output_type": "display_data",
          "data": {
            "text/plain": [
              "<Figure size 640x480 with 1 Axes>"
            ],
            "image/png": "[encoded data removed]"
          },
          "metadata": {}
        },
        {
          "output_type": "display_data",
          "data": {
            "text/plain": [
              "<Figure size 640x480 with 1 Axes>"
            ],
            "image/png": "[encoded data removed]"
          },
          "metadata": {}
        }
      ]
    },
    {
      "cell_type": "code",
      "source": [
        "# model.save('/content/drive/MyDrive/STAAR/solved_model/model_VGG19_XCEPTION.h5')"
      ],
      "metadata": {
        "id": "6rpGUGHem_WS"
      },
      "execution_count": null,
      "outputs": []
    },
    {
      "cell_type": "code",
      "source": [
        "# Load the saved model\n",
        "from keras.models import load_model\n",
        "model_VGG16_XCEPTION = load_model('/content/drive/MyDrive/STAAR/solved_model/model_VGG19_XCEPTION.h5')"
      ],
      "metadata": {
        "id": "F-CcNtjbm_TK"
      },
      "execution_count": null,
      "outputs": []
    },
    {
      "cell_type": "code",
      "source": [
        "train_result = model.evaluate(train_ds)\n",
        "val_result = model.evaluate(val_ds)\n",
        "\n",
        "augmented_df = pd.DataFrame(zip(train_result,val_result),columns=['Train','Val'],index=['Loss','Acc'])\n",
        "augmented_df"
      ],
      "metadata": {
        "colab": {
          "base_uri": "https://localhost:8080/",
          "height": 148
        },
        "id": "F3BnqAXFm_Qj",
        "outputId": "065683ab-7b5c-4ccd-90d7-4b0033f63f84"
      },
      "execution_count": null,
      "outputs": [
        {
          "output_type": "stream",
          "name": "stdout",
          "text": [
            "26/26 [==============================] - 24s 868ms/step - loss: 0.1360 - accuracy: 0.9513\n",
            "7/7 [==============================] - 6s 817ms/step - loss: 0.0734 - accuracy: 0.9778\n"
          ]
        },
        {
          "output_type": "execute_result",
          "data": {
            "text/plain": [
              "         Train       Val\n",
              "Loss  0.136050  0.073375\n",
              "Acc   0.951265  0.977778"
            ],
            "text/html": [
              "\n",
              "  <div id=\"df-5d1bea9f-a70f-45b1-85c1-9b7d94c130cf\">\n",
              "    <div class=\"colab-df-container\">\n",
              "      <div>\n",
              "<style scoped>\n",
              "    .dataframe tbody tr th:only-of-type {\n",
              "        vertical-align: middle;\n",
              "    }\n",
              "\n",
              "    .dataframe tbody tr th {\n",
              "        vertical-align: top;\n",
              "    }\n",
              "\n",
              "    .dataframe thead th {\n",
              "        text-align: right;\n",
              "    }\n",
              "</style>\n",
              "<table border=\"1\" class=\"dataframe\">\n",
              "  <thead>\n",
              "    <tr style=\"text-align: right;\">\n",
              "      <th></th>\n",
              "      <th>Train</th>\n",
              "      <th>Val</th>\n",
              "    </tr>\n",
              "  </thead>\n",
              "  <tbody>\n",
              "    <tr>\n",
              "      <th>Loss</th>\n",
              "      <td>0.136050</td>\n",
              "      <td>0.073375</td>\n",
              "    </tr>\n",
              "    <tr>\n",
              "      <th>Acc</th>\n",
              "      <td>0.951265</td>\n",
              "      <td>0.977778</td>\n",
              "    </tr>\n",
              "  </tbody>\n",
              "</table>\n",
              "</div>\n",
              "      <button class=\"colab-df-convert\" onclick=\"convertToInteractive('df-5d1bea9f-a70f-45b1-85c1-9b7d94c130cf')\"\n",
              "              title=\"Convert this dataframe to an interactive table.\"\n",
              "              style=\"display:none;\">\n",
              "        \n",
              "  <svg xmlns=\"http://www.w3.org/2000/svg\" height=\"24px\"viewBox=\"0 0 24 24\"\n",
              "       width=\"24px\">\n",
              "    <path d=\"M0 0h24v24H0V0z\" fill=\"none\"/>\n",
              "    <path d=\"M18.56 5.44l.94 2.06.94-2.06 2.06-.94-2.06-.94-.94-2.06-.94 2.06-2.06.94zm-11 1L8.5 8.5l.94-2.06 2.06-.94-2.06-.94L8.5 2.5l-.94 2.06-2.06.94zm10 10l.94 2.06.94-2.06 2.06-.94-2.06-.94-.94-2.06-.94 2.06-2.06.94z\"/><path d=\"M17.41 7.96l-1.37-1.37c-.4-.4-.92-.59-1.43-.59-.52 0-1.04.2-1.43.59L10.3 9.45l-7.72 7.72c-.78.78-.78 2.05 0 2.83L4 21.41c.39.39.9.59 1.41.59.51 0 1.02-.2 1.41-.59l7.78-7.78 2.81-2.81c.8-.78.8-2.07 0-2.86zM5.41 20L4 18.59l7.72-7.72 1.47 1.35L5.41 20z\"/>\n",
              "  </svg>\n",
              "      </button>\n",
              "      \n",
              "  <style>\n",
              "    .colab-df-container {\n",
              "      display:flex;\n",
              "      flex-wrap:wrap;\n",
              "      gap: 12px;\n",
              "    }\n",
              "\n",
              "    .colab-df-convert {\n",
              "      background-color: #E8F0FE;\n",
              "      border: none;\n",
              "      border-radius: 50%;\n",
              "      cursor: pointer;\n",
              "      display: none;\n",
              "      fill: #1967D2;\n",
              "      height: 32px;\n",
              "      padding: 0 0 0 0;\n",
              "      width: 32px;\n",
              "    }\n",
              "\n",
              "    .colab-df-convert:hover {\n",
              "      background-color: #E2EBFA;\n",
              "      box-shadow: 0px 1px 2px rgba(60, 64, 67, 0.3), 0px 1px 3px 1px rgba(60, 64, 67, 0.15);\n",
              "      fill: #174EA6;\n",
              "    }\n",
              "\n",
              "    [theme=dark] .colab-df-convert {\n",
              "      background-color: #3B4455;\n",
              "      fill: #D2E3FC;\n",
              "    }\n",
              "\n",
              "    [theme=dark] .colab-df-convert:hover {\n",
              "      background-color: #434B5C;\n",
              "      box-shadow: 0px 1px 3px 1px rgba(0, 0, 0, 0.15);\n",
              "      filter: drop-shadow(0px 1px 2px rgba(0, 0, 0, 0.3));\n",
              "      fill: #FFFFFF;\n",
              "    }\n",
              "  </style>\n",
              "\n",
              "      <script>\n",
              "        const buttonEl =\n",
              "          document.querySelector('#df-5d1bea9f-a70f-45b1-85c1-9b7d94c130cf button.colab-df-convert');\n",
              "        buttonEl.style.display =\n",
              "          google.colab.kernel.accessAllowed ? 'block' : 'none';\n",
              "\n",
              "        async function convertToInteractive(key) {\n",
              "          const element = document.querySelector('#df-5d1bea9f-a70f-45b1-85c1-9b7d94c130cf');\n",
              "          const dataTable =\n",
              "            await google.colab.kernel.invokeFunction('convertToInteractive',\n",
              "                                                     [key], {});\n",
              "          if (!dataTable) return;\n",
              "\n",
              "          const docLinkHtml = 'Like what you see? Visit the ' +\n",
              "            '<a target=\"_blank\" href=https://colab.research.google.com/notebooks/data_table.ipynb>data table notebook</a>'\n",
              "            + ' to learn more about interactive tables.';\n",
              "          element.innerHTML = '';\n",
              "          dataTable['output_type'] = 'display_data';\n",
              "          await google.colab.output.renderOutput(dataTable, element);\n",
              "          const docLink = document.createElement('div');\n",
              "          docLink.innerHTML = docLinkHtml;\n",
              "          element.appendChild(docLink);\n",
              "        }\n",
              "      </script>\n",
              "    </div>\n",
              "  </div>\n",
              "  "
            ]
          },
          "metadata": {},
          "execution_count": 37
        }
      ]
    },
    {
      "cell_type": "code",
      "source": [
        "# Load the testing dataset\n",
        "from tensorflow.keras.preprocessing.image import ImageDataGenerator\n",
        "\n",
        "test_dir = '/content/drive/MyDrive/STAAR/new_Brain_tumor/test2'\n",
        "img_size = (299, 299)\n",
        "batch_size = 64\n",
        "\n",
        "test_datagen = ImageDataGenerator(rescale=1./255) # or any other desired preprocessing\n",
        "test_data = test_datagen.flow_from_directory(\n",
        "              test_dir,\n",
        "              shuffle=False,\n",
        "              class_mode='binary',\n",
        "              target_size=img_size,\n",
        "              batch_size=batch_size,\n",
        "              classes={'no': 0., 'yes': 1.}\n",
        "              )\n",
        "\n",
        "# print(test_data.shape)\n",
        "test_result = model.evaluate(test_data)\n",
        "augmented_df = pd.DataFrame(zip(test_result),columns=['Test'],index=['Loss','Acc'])\n",
        "augmented_df"
      ],
      "metadata": {
        "colab": {
          "base_uri": "https://localhost:8080/",
          "height": 148
        },
        "id": "YShG839Um_Nq",
        "outputId": "08f1f35e-3fb2-489b-fe7d-58e19ce41daa"
      },
      "execution_count": null,
      "outputs": [
        {
          "output_type": "stream",
          "name": "stdout",
          "text": [
            "Found 100 images belonging to 2 classes.\n",
            "2/2 [==============================] - 2s 575ms/step - loss: 0.7763 - accuracy: 0.7500\n"
          ]
        },
        {
          "output_type": "execute_result",
          "data": {
            "text/plain": [
              "          Test\n",
              "Loss  0.776266\n",
              "Acc   0.750000"
            ],
            "text/html": [
              "\n",
              "  <div id=\"df-6d5bd291-fd0f-4289-a142-053732553c34\">\n",
              "    <div class=\"colab-df-container\">\n",
              "      <div>\n",
              "<style scoped>\n",
              "    .dataframe tbody tr th:only-of-type {\n",
              "        vertical-align: middle;\n",
              "    }\n",
              "\n",
              "    .dataframe tbody tr th {\n",
              "        vertical-align: top;\n",
              "    }\n",
              "\n",
              "    .dataframe thead th {\n",
              "        text-align: right;\n",
              "    }\n",
              "</style>\n",
              "<table border=\"1\" class=\"dataframe\">\n",
              "  <thead>\n",
              "    <tr style=\"text-align: right;\">\n",
              "      <th></th>\n",
              "      <th>Test</th>\n",
              "    </tr>\n",
              "  </thead>\n",
              "  <tbody>\n",
              "    <tr>\n",
              "      <th>Loss</th>\n",
              "      <td>0.776266</td>\n",
              "    </tr>\n",
              "    <tr>\n",
              "      <th>Acc</th>\n",
              "      <td>0.750000</td>\n",
              "    </tr>\n",
              "  </tbody>\n",
              "</table>\n",
              "</div>\n",
              "      <button class=\"colab-df-convert\" onclick=\"convertToInteractive('df-6d5bd291-fd0f-4289-a142-053732553c34')\"\n",
              "              title=\"Convert this dataframe to an interactive table.\"\n",
              "              style=\"display:none;\">\n",
              "        \n",
              "  <svg xmlns=\"http://www.w3.org/2000/svg\" height=\"24px\"viewBox=\"0 0 24 24\"\n",
              "       width=\"24px\">\n",
              "    <path d=\"M0 0h24v24H0V0z\" fill=\"none\"/>\n",
              "    <path d=\"M18.56 5.44l.94 2.06.94-2.06 2.06-.94-2.06-.94-.94-2.06-.94 2.06-2.06.94zm-11 1L8.5 8.5l.94-2.06 2.06-.94-2.06-.94L8.5 2.5l-.94 2.06-2.06.94zm10 10l.94 2.06.94-2.06 2.06-.94-2.06-.94-.94-2.06-.94 2.06-2.06.94z\"/><path d=\"M17.41 7.96l-1.37-1.37c-.4-.4-.92-.59-1.43-.59-.52 0-1.04.2-1.43.59L10.3 9.45l-7.72 7.72c-.78.78-.78 2.05 0 2.83L4 21.41c.39.39.9.59 1.41.59.51 0 1.02-.2 1.41-.59l7.78-7.78 2.81-2.81c.8-.78.8-2.07 0-2.86zM5.41 20L4 18.59l7.72-7.72 1.47 1.35L5.41 20z\"/>\n",
              "  </svg>\n",
              "      </button>\n",
              "      \n",
              "  <style>\n",
              "    .colab-df-container {\n",
              "      display:flex;\n",
              "      flex-wrap:wrap;\n",
              "      gap: 12px;\n",
              "    }\n",
              "\n",
              "    .colab-df-convert {\n",
              "      background-color: #E8F0FE;\n",
              "      border: none;\n",
              "      border-radius: 50%;\n",
              "      cursor: pointer;\n",
              "      display: none;\n",
              "      fill: #1967D2;\n",
              "      height: 32px;\n",
              "      padding: 0 0 0 0;\n",
              "      width: 32px;\n",
              "    }\n",
              "\n",
              "    .colab-df-convert:hover {\n",
              "      background-color: #E2EBFA;\n",
              "      box-shadow: 0px 1px 2px rgba(60, 64, 67, 0.3), 0px 1px 3px 1px rgba(60, 64, 67, 0.15);\n",
              "      fill: #174EA6;\n",
              "    }\n",
              "\n",
              "    [theme=dark] .colab-df-convert {\n",
              "      background-color: #3B4455;\n",
              "      fill: #D2E3FC;\n",
              "    }\n",
              "\n",
              "    [theme=dark] .colab-df-convert:hover {\n",
              "      background-color: #434B5C;\n",
              "      box-shadow: 0px 1px 3px 1px rgba(0, 0, 0, 0.15);\n",
              "      filter: drop-shadow(0px 1px 2px rgba(0, 0, 0, 0.3));\n",
              "      fill: #FFFFFF;\n",
              "    }\n",
              "  </style>\n",
              "\n",
              "      <script>\n",
              "        const buttonEl =\n",
              "          document.querySelector('#df-6d5bd291-fd0f-4289-a142-053732553c34 button.colab-df-convert');\n",
              "        buttonEl.style.display =\n",
              "          google.colab.kernel.accessAllowed ? 'block' : 'none';\n",
              "\n",
              "        async function convertToInteractive(key) {\n",
              "          const element = document.querySelector('#df-6d5bd291-fd0f-4289-a142-053732553c34');\n",
              "          const dataTable =\n",
              "            await google.colab.kernel.invokeFunction('convertToInteractive',\n",
              "                                                     [key], {});\n",
              "          if (!dataTable) return;\n",
              "\n",
              "          const docLinkHtml = 'Like what you see? Visit the ' +\n",
              "            '<a target=\"_blank\" href=https://colab.research.google.com/notebooks/data_table.ipynb>data table notebook</a>'\n",
              "            + ' to learn more about interactive tables.';\n",
              "          element.innerHTML = '';\n",
              "          dataTable['output_type'] = 'display_data';\n",
              "          await google.colab.output.renderOutput(dataTable, element);\n",
              "          const docLink = document.createElement('div');\n",
              "          docLink.innerHTML = docLinkHtml;\n",
              "          element.appendChild(docLink);\n",
              "        }\n",
              "      </script>\n",
              "    </div>\n",
              "  </div>\n",
              "  "
            ]
          },
          "metadata": {},
          "execution_count": 38
        }
      ]
    },
    {
      "cell_type": "code",
      "source": [],
      "metadata": {
        "id": "utwW_yvf3ExF"
      },
      "execution_count": null,
      "outputs": []
    },
    {
      "cell_type": "markdown",
      "source": [
        "vgg16"
      ],
      "metadata": {
        "id": "fTSCIu0l3B3_"
      }
    },
    {
      "cell_type": "code",
      "source": [],
      "metadata": {
        "id": "YxcQV55t3Bdn"
      },
      "execution_count": null,
      "outputs": []
    },
    {
      "cell_type": "code",
      "source": [
        "from keras.layers.preprocessing import normalization\n",
        "# VGG16\n",
        "height = 299\n",
        "width = 299\n",
        "\n",
        "train_ds, val_ds = image_generator(height,width)\n",
        "\n",
        "tf.keras.backend.clear_session()\n",
        "input_shape = (height, width, 3)\n",
        "base_model = tf.keras.applications.VGG16(\n",
        "    weights='imagenet',\n",
        "    include_top=False,\n",
        "    input_shape=input_shape\n",
        ")\n",
        "base_model.trainable = False\n",
        "\n",
        "model_VGG16_adam= tf.keras.Sequential()\n",
        "model_VGG16_adam.add(base_model)\n",
        "model_VGG16_adam.add(tf.keras.layers.Flatten())\n",
        "model_VGG16_adam.add(tf.keras.layers.Dense(1, activation='sigmoid'))\n",
        "\n",
        "model_VGG16_adam.compile(\n",
        "                    loss='binary_crossentropy',\n",
        "                    optimizer=tf.keras.optimizers.Adam(0.001),\n",
        "                    metrics=['acc']\n",
        ")\n",
        "model_VGG16_adam.summary()"
      ],
      "metadata": {
        "id": "bluBwjuppAjB",
        "colab": {
          "base_uri": "https://localhost:8080/"
        },
        "outputId": "08665e58-71e0-458d-940a-24790bbd8787"
      },
      "execution_count": null,
      "outputs": [
        {
          "output_type": "stream",
          "name": "stdout",
          "text": [
            "Found 1621 images belonging to 2 classes.\n",
            "Found 405 images belonging to 2 classes.\n",
            "Model: \"sequential\"\n",
            "_________________________________________________________________\n",
            " Layer (type)                Output Shape              Param #   \n",
            "=================================================================\n",
            " vgg16 (Functional)          (None, 9, 9, 512)         14714688  \n",
            "                                                                 \n",
            " flatten (Flatten)           (None, 41472)             0         \n",
            "                                                                 \n",
            " dense (Dense)               (None, 1)                 41473     \n",
            "                                                                 \n",
            "=================================================================\n",
            "Total params: 14,756,161\n",
            "Trainable params: 41,473\n",
            "Non-trainable params: 14,714,688\n",
            "_________________________________________________________________\n"
          ]
        }
      ]
    },
    {
      "cell_type": "code",
      "source": [
        "#  aug_train_ds = augmentataion_generator(height,width)\n",
        "\n",
        "early = tf.keras.callbacks.EarlyStopping(monitor=\"val_loss\", mode=\"min\",restore_best_weights=True, patience=5)\n",
        "\n",
        "reduce_lr = tf.keras.callbacks.ReduceLROnPlateau(monitor='acc', factor=0.3,patience=3, min_lr=0.0000001)\n",
        "\n",
        "callbacks_list = [early,reduce_lr]\n",
        "\n",
        "history = model_VGG16_adam.fit(\n",
        "        train_ds,\n",
        "        validation_data=val_ds,\n",
        "        epochs=25,\n",
        "        #shuffle=True,\n",
        "        verbose=True,\n",
        "        callbacks=callbacks_list)"
      ],
      "metadata": {
        "id": "4Js7UdMBpAgV",
        "colab": {
          "base_uri": "https://localhost:8080/"
        },
        "outputId": "f6321126-e335-452e-db92-d9204d0a14a8"
      },
      "execution_count": null,
      "outputs": [
        {
          "output_type": "stream",
          "name": "stdout",
          "text": [
            "Epoch 1/25\n",
            "26/26 [==============================] - 23s 866ms/step - loss: 0.5303 - acc: 0.7637 - val_loss: 0.2035 - val_acc: 0.9160 - lr: 0.0010\n",
            "Epoch 2/25\n",
            "26/26 [==============================] - 19s 735ms/step - loss: 0.1497 - acc: 0.9550 - val_loss: 0.0892 - val_acc: 0.9852 - lr: 0.0010\n",
            "Epoch 3/25\n",
            "26/26 [==============================] - 19s 723ms/step - loss: 0.0841 - acc: 0.9741 - val_loss: 0.0897 - val_acc: 0.9852 - lr: 0.0010\n",
            "Epoch 4/25\n",
            "26/26 [==============================] - 18s 653ms/step - loss: 0.0633 - acc: 0.9827 - val_loss: 0.0571 - val_acc: 0.9926 - lr: 0.0010\n",
            "Epoch 5/25\n",
            "26/26 [==============================] - 19s 732ms/step - loss: 0.0446 - acc: 0.9920 - val_loss: 0.0582 - val_acc: 0.9926 - lr: 0.0010\n",
            "Epoch 6/25\n",
            "26/26 [==============================] - 18s 666ms/step - loss: 0.0361 - acc: 0.9938 - val_loss: 0.0511 - val_acc: 0.9926 - lr: 0.0010\n",
            "Epoch 7/25\n",
            "26/26 [==============================] - 17s 660ms/step - loss: 0.0308 - acc: 0.9957 - val_loss: 0.0445 - val_acc: 0.9951 - lr: 0.0010\n",
            "Epoch 8/25\n",
            "26/26 [==============================] - 18s 666ms/step - loss: 0.0241 - acc: 0.9994 - val_loss: 0.0407 - val_acc: 0.9926 - lr: 0.0010\n",
            "Epoch 9/25\n",
            "26/26 [==============================] - 18s 692ms/step - loss: 0.0217 - acc: 0.9994 - val_loss: 0.0421 - val_acc: 0.9901 - lr: 0.0010\n",
            "Epoch 10/25\n",
            "26/26 [==============================] - 18s 668ms/step - loss: 0.0179 - acc: 1.0000 - val_loss: 0.0379 - val_acc: 0.9926 - lr: 0.0010\n",
            "Epoch 11/25\n",
            "26/26 [==============================] - 18s 665ms/step - loss: 0.0164 - acc: 0.9988 - val_loss: 0.0394 - val_acc: 0.9926 - lr: 0.0010\n",
            "Epoch 12/25\n",
            "26/26 [==============================] - 19s 732ms/step - loss: 0.0139 - acc: 1.0000 - val_loss: 0.0343 - val_acc: 0.9926 - lr: 0.0010\n",
            "Epoch 13/25\n",
            "26/26 [==============================] - 18s 677ms/step - loss: 0.0125 - acc: 1.0000 - val_loss: 0.0328 - val_acc: 0.9951 - lr: 0.0010\n",
            "Epoch 14/25\n",
            "26/26 [==============================] - 18s 675ms/step - loss: 0.0110 - acc: 1.0000 - val_loss: 0.0323 - val_acc: 0.9926 - lr: 3.0000e-04\n",
            "Epoch 15/25\n",
            "26/26 [==============================] - 18s 674ms/step - loss: 0.0106 - acc: 1.0000 - val_loss: 0.0323 - val_acc: 0.9926 - lr: 3.0000e-04\n",
            "Epoch 16/25\n",
            "26/26 [==============================] - 19s 733ms/step - loss: 0.0103 - acc: 1.0000 - val_loss: 0.0318 - val_acc: 0.9951 - lr: 3.0000e-04\n",
            "Epoch 17/25\n",
            "26/26 [==============================] - 18s 678ms/step - loss: 0.0100 - acc: 1.0000 - val_loss: 0.0320 - val_acc: 0.9951 - lr: 9.0000e-05\n",
            "Epoch 18/25\n",
            "26/26 [==============================] - 19s 738ms/step - loss: 0.0099 - acc: 1.0000 - val_loss: 0.0320 - val_acc: 0.9926 - lr: 9.0000e-05\n",
            "Epoch 19/25\n",
            "26/26 [==============================] - 18s 670ms/step - loss: 0.0098 - acc: 1.0000 - val_loss: 0.0318 - val_acc: 0.9926 - lr: 9.0000e-05\n",
            "Epoch 20/25\n",
            "26/26 [==============================] - 18s 673ms/step - loss: 0.0097 - acc: 1.0000 - val_loss: 0.0317 - val_acc: 0.9951 - lr: 2.7000e-05\n",
            "Epoch 21/25\n",
            "26/26 [==============================] - 18s 681ms/step - loss: 0.0097 - acc: 1.0000 - val_loss: 0.0317 - val_acc: 0.9926 - lr: 2.7000e-05\n",
            "Epoch 22/25\n",
            "26/26 [==============================] - 18s 675ms/step - loss: 0.0097 - acc: 1.0000 - val_loss: 0.0317 - val_acc: 0.9951 - lr: 2.7000e-05\n",
            "Epoch 23/25\n",
            "26/26 [==============================] - 19s 736ms/step - loss: 0.0096 - acc: 1.0000 - val_loss: 0.0317 - val_acc: 0.9951 - lr: 8.1000e-06\n",
            "Epoch 24/25\n",
            "26/26 [==============================] - 18s 677ms/step - loss: 0.0096 - acc: 1.0000 - val_loss: 0.0317 - val_acc: 0.9926 - lr: 8.1000e-06\n",
            "Epoch 25/25\n",
            "26/26 [==============================] - 18s 681ms/step - loss: 0.0096 - acc: 1.0000 - val_loss: 0.0317 - val_acc: 0.9951 - lr: 8.1000e-06\n"
          ]
        }
      ]
    },
    {
      "cell_type": "code",
      "source": [
        "# plot learning curve\n",
        "def plot_learning_curve(history):\n",
        "    acc = history.history['acc']\n",
        "    val_acc = history.history['val_acc']\n",
        "    loss = history.history['loss']\n",
        "    val_loss = history.history['val_loss']\n",
        "    epochs = range(len(acc))\n",
        "\n",
        "    plt.plot(epochs, acc, label='training acc')\n",
        "    plt.plot(epochs, val_acc, label='validation acc')\n",
        "    plt.xlabel('Epochs')\n",
        "    plt.ylabel('Accuracy-%')\n",
        "    plt.legend()\n",
        "    plt.figure()\n",
        "\n",
        "    plt.plot(epochs, loss, label='training loss')\n",
        "    plt.plot(epochs, val_loss, label='validation loss')\n",
        "    plt.xlabel('Epochs')\n",
        "    plt.ylabel('Loss')\n",
        "    plt.legend()\n",
        "\n",
        "plot_learning_curve(history)"
      ],
      "metadata": {
        "colab": {
          "base_uri": "https://localhost:8080/",
          "height": 881
        },
        "outputId": "5798184d-2161-45ac-bc43-2988ee2a7e3a",
        "id": "Wq9-U3ukou-_"
      },
      "execution_count": null,
      "outputs": [
        {
          "output_type": "display_data",
          "data": {
            "text/plain": [
              "<Figure size 640x480 with 1 Axes>"
            ],
            "image/png": "[encoded data removed]"
          },
          "metadata": {}
        },
        {
          "output_type": "display_data",
          "data": {
            "text/plain": [
              "<Figure size 640x480 with 1 Axes>"
            ],
            "image/png": "[encoded data removed]"
          },
          "metadata": {}
        }
      ]
    },
    {
      "cell_type": "code",
      "source": [
        "# model_VGG16_adam.save('/content/drive/MyDrive/STAAR/model_VGG16_adam_adam.h5')"
      ],
      "metadata": {
        "id": "h-umHgvCpAdp"
      },
      "execution_count": null,
      "outputs": []
    },
    {
      "cell_type": "code",
      "source": [
        "# Load the saved model\n",
        "from keras.models import load_model\n",
        "model_VGG16_adam = load_model('/content/drive/MyDrive/STAAR/solved_model/model_VGG16_adam_adam.h5')"
      ],
      "metadata": {
        "id": "nhXXUOKFpAar"
      },
      "execution_count": null,
      "outputs": []
    },
    {
      "cell_type": "code",
      "source": [
        "# Load the testing dataset\n",
        "from tensorflow.keras.preprocessing.image import ImageDataGenerator\n",
        "\n",
        "test_dir = '/content/drive/MyDrive/STAAR/new_Brain_tumor/test2'\n",
        "img_size = (299, 299)\n",
        "batch_size = 64\n",
        "\n",
        "test_datagen = ImageDataGenerator(rescale=1./255) # or any other desired preprocessing\n",
        "test_data = test_datagen.flow_from_directory(\n",
        "              test_dir,\n",
        "              shuffle=False,\n",
        "              class_mode='binary',\n",
        "              target_size=img_size,\n",
        "              batch_size=batch_size,\n",
        "              classes={'no': 0., 'yes': 1.}\n",
        "              )\n",
        "\n",
        "# print(test_data.shape)\n",
        "test_result = model_VGG16_adam.evaluate(test_data)\n",
        "augmented_df = pd.DataFrame(zip(test_result),columns=['Test'],index=['Loss','Acc'])\n",
        "augmented_df"
      ],
      "metadata": {
        "id": "Da3o6DKXpAXu",
        "colab": {
          "base_uri": "https://localhost:8080/",
          "height": 148
        },
        "outputId": "c55e9b45-f438-4b8f-8e9e-cc9ceb4db5e9"
      },
      "execution_count": null,
      "outputs": [
        {
          "output_type": "stream",
          "name": "stdout",
          "text": [
            "Found 100 images belonging to 2 classes.\n",
            "2/2 [==============================] - 1s 318ms/step - loss: 0.2055 - acc: 0.9000\n"
          ]
        },
        {
          "output_type": "execute_result",
          "data": {
            "text/plain": [
              "          Test\n",
              "Loss  0.205521\n",
              "Acc   0.900000"
            ],
            "text/html": [
              "\n",
              "  <div id=\"df-b6dee503-b7cc-48b0-ae98-e5aea82b8085\">\n",
              "    <div class=\"colab-df-container\">\n",
              "      <div>\n",
              "<style scoped>\n",
              "    .dataframe tbody tr th:only-of-type {\n",
              "        vertical-align: middle;\n",
              "    }\n",
              "\n",
              "    .dataframe tbody tr th {\n",
              "        vertical-align: top;\n",
              "    }\n",
              "\n",
              "    .dataframe thead th {\n",
              "        text-align: right;\n",
              "    }\n",
              "</style>\n",
              "<table border=\"1\" class=\"dataframe\">\n",
              "  <thead>\n",
              "    <tr style=\"text-align: right;\">\n",
              "      <th></th>\n",
              "      <th>Test</th>\n",
              "    </tr>\n",
              "  </thead>\n",
              "  <tbody>\n",
              "    <tr>\n",
              "      <th>Loss</th>\n",
              "      <td>0.205521</td>\n",
              "    </tr>\n",
              "    <tr>\n",
              "      <th>Acc</th>\n",
              "      <td>0.900000</td>\n",
              "    </tr>\n",
              "  </tbody>\n",
              "</table>\n",
              "</div>\n",
              "      <button class=\"colab-df-convert\" onclick=\"convertToInteractive('df-b6dee503-b7cc-48b0-ae98-e5aea82b8085')\"\n",
              "              title=\"Convert this dataframe to an interactive table.\"\n",
              "              style=\"display:none;\">\n",
              "        \n",
              "  <svg xmlns=\"http://www.w3.org/2000/svg\" height=\"24px\"viewBox=\"0 0 24 24\"\n",
              "       width=\"24px\">\n",
              "    <path d=\"M0 0h24v24H0V0z\" fill=\"none\"/>\n",
              "    <path d=\"M18.56 5.44l.94 2.06.94-2.06 2.06-.94-2.06-.94-.94-2.06-.94 2.06-2.06.94zm-11 1L8.5 8.5l.94-2.06 2.06-.94-2.06-.94L8.5 2.5l-.94 2.06-2.06.94zm10 10l.94 2.06.94-2.06 2.06-.94-2.06-.94-.94-2.06-.94 2.06-2.06.94z\"/><path d=\"M17.41 7.96l-1.37-1.37c-.4-.4-.92-.59-1.43-.59-.52 0-1.04.2-1.43.59L10.3 9.45l-7.72 7.72c-.78.78-.78 2.05 0 2.83L4 21.41c.39.39.9.59 1.41.59.51 0 1.02-.2 1.41-.59l7.78-7.78 2.81-2.81c.8-.78.8-2.07 0-2.86zM5.41 20L4 18.59l7.72-7.72 1.47 1.35L5.41 20z\"/>\n",
              "  </svg>\n",
              "      </button>\n",
              "      \n",
              "  <style>\n",
              "    .colab-df-container {\n",
              "      display:flex;\n",
              "      flex-wrap:wrap;\n",
              "      gap: 12px;\n",
              "    }\n",
              "\n",
              "    .colab-df-convert {\n",
              "      background-color: #E8F0FE;\n",
              "      border: none;\n",
              "      border-radius: 50%;\n",
              "      cursor: pointer;\n",
              "      display: none;\n",
              "      fill: #1967D2;\n",
              "      height: 32px;\n",
              "      padding: 0 0 0 0;\n",
              "      width: 32px;\n",
              "    }\n",
              "\n",
              "    .colab-df-convert:hover {\n",
              "      background-color: #E2EBFA;\n",
              "      box-shadow: 0px 1px 2px rgba(60, 64, 67, 0.3), 0px 1px 3px 1px rgba(60, 64, 67, 0.15);\n",
              "      fill: #174EA6;\n",
              "    }\n",
              "\n",
              "    [theme=dark] .colab-df-convert {\n",
              "      background-color: #3B4455;\n",
              "      fill: #D2E3FC;\n",
              "    }\n",
              "\n",
              "    [theme=dark] .colab-df-convert:hover {\n",
              "      background-color: #434B5C;\n",
              "      box-shadow: 0px 1px 3px 1px rgba(0, 0, 0, 0.15);\n",
              "      filter: drop-shadow(0px 1px 2px rgba(0, 0, 0, 0.3));\n",
              "      fill: #FFFFFF;\n",
              "    }\n",
              "  </style>\n",
              "\n",
              "      <script>\n",
              "        const buttonEl =\n",
              "          document.querySelector('#df-b6dee503-b7cc-48b0-ae98-e5aea82b8085 button.colab-df-convert');\n",
              "        buttonEl.style.display =\n",
              "          google.colab.kernel.accessAllowed ? 'block' : 'none';\n",
              "\n",
              "        async function convertToInteractive(key) {\n",
              "          const element = document.querySelector('#df-b6dee503-b7cc-48b0-ae98-e5aea82b8085');\n",
              "          const dataTable =\n",
              "            await google.colab.kernel.invokeFunction('convertToInteractive',\n",
              "                                                     [key], {});\n",
              "          if (!dataTable) return;\n",
              "\n",
              "          const docLinkHtml = 'Like what you see? Visit the ' +\n",
              "            '<a target=\"_blank\" href=https://colab.research.google.com/notebooks/data_table.ipynb>data table notebook</a>'\n",
              "            + ' to learn more about interactive tables.';\n",
              "          element.innerHTML = '';\n",
              "          dataTable['output_type'] = 'display_data';\n",
              "          await google.colab.output.renderOutput(dataTable, element);\n",
              "          const docLink = document.createElement('div');\n",
              "          docLink.innerHTML = docLinkHtml;\n",
              "          element.appendChild(docLink);\n",
              "        }\n",
              "      </script>\n",
              "    </div>\n",
              "  </div>\n",
              "  "
            ]
          },
          "metadata": {},
          "execution_count": 41
        }
      ]
    },
    {
      "cell_type": "code",
      "source": [
        "ypred = model_VGG16_adam.predict(test_data[0][0])\n",
        "ypred = np.array([1 if x > 0.5 else 0 for x in ypred])\n",
        "#ypred = ypred.astype(int)\n",
        "ytest = test_data[0][-1]\n",
        "\n",
        "print('Confusion_Matrix:\\n',confusion_matrix(ytest, ypred))\n",
        "print('\\nClassification_report:\\n',classification_report(ypred,ytest))"
      ],
      "metadata": {
        "id": "RyygQMSTpAVV",
        "colab": {
          "base_uri": "https://localhost:8080/"
        },
        "outputId": "b6727e3e-86b7-499d-d5ad-1060d24bfd99"
      },
      "execution_count": null,
      "outputs": [
        {
          "output_type": "stream",
          "name": "stdout",
          "text": [
            "2/2 [==============================] - 0s 283ms/step\n",
            "Confusion_Matrix:\n",
            " [[50  0]\n",
            " [ 0 14]]\n",
            "\n",
            "Classification_report:\n",
            "               precision    recall  f1-score   support\n",
            "\n",
            "           0       1.00      1.00      1.00        50\n",
            "           1       1.00      1.00      1.00        14\n",
            "\n",
            "    accuracy                           1.00        64\n",
            "   macro avg       1.00      1.00      1.00        64\n",
            "weighted avg       1.00      1.00      1.00        64\n",
            "\n"
          ]
        }
      ]
    },
    {
      "cell_type": "code",
      "source": [],
      "metadata": {
        "id": "3xOTbXAxkXJq"
      },
      "execution_count": null,
      "outputs": []
    },
    {
      "cell_type": "code",
      "source": [],
      "metadata": {
        "id": "qC4JmleykWsa"
      },
      "execution_count": null,
      "outputs": []
    },
    {
      "cell_type": "markdown",
      "metadata": {
        "papermill": {
          "duration": 0.042176,
          "end_time": "2022-07-18T15:26:41.096254",
          "exception": false,
          "start_time": "2022-07-18T15:26:41.054078",
          "status": "completed"
        },
        "tags": [],
        "id": "cjwfo5ZaoaUP"
      },
      "source": [
        "## DENSENET+ADAM\n",
        "<a class=\"anchor\" id=\"2\"></a>"
      ]
    },
    {
      "cell_type": "code",
      "execution_count": null,
      "metadata": {
        "execution": {
          "iopub.execute_input": "2022-07-18T15:26:41.184810Z",
          "iopub.status.busy": "2022-07-18T15:26:41.184213Z",
          "iopub.status.idle": "2022-07-18T15:26:47.412868Z",
          "shell.execute_reply": "2022-07-18T15:26:47.410118Z"
        },
        "papermill": {
          "duration": 6.277396,
          "end_time": "2022-07-18T15:26:47.417015",
          "exception": false,
          "start_time": "2022-07-18T15:26:41.139619",
          "status": "completed"
        },
        "tags": [],
        "colab": {
          "base_uri": "https://localhost:8080/",
          "height": 788
        },
        "outputId": "59f8a513-738d-441c-82fb-c3c39104dc4f",
        "id": "eBXSg2nIoOuj"
      },
      "outputs": [
        {
          "output_type": "stream",
          "name": "stdout",
          "text": [
            "Found 1621 images belonging to 2 classes.\n",
            "Found 405 images belonging to 2 classes.\n",
            "Downloading data from https://storage.googleapis.com/tensorflow/keras-applications/densenet/densenet121_weights_tf_dim_ordering_tf_kernels_notop.h5\n",
            "29084464/29084464 [==============================] - 0s 0us/step\n",
            "Model: \"sequential\"\n",
            "_________________________________________________________________\n",
            " Layer (type)                Output Shape              Param #   \n",
            "=================================================================\n",
            " densenet121 (Functional)    (None, 9, 9, 1024)        7037504   \n",
            "                                                                 \n",
            " flatten (Flatten)           (None, 82944)             0         \n",
            "                                                                 \n",
            " dense (Dense)               (None, 1)                 82945     \n",
            "                                                                 \n",
            "=================================================================\n",
            "Total params: 7,120,449\n",
            "Trainable params: 82,945\n",
            "Non-trainable params: 7,037,504\n",
            "_________________________________________________________________\n"
          ]
        },
        {
          "output_type": "execute_result",
          "data": {
            "image/png": "[encoded data removed]",
            "text/plain": [
              "<IPython.core.display.Image object>"
            ]
          },
          "metadata": {},
          "execution_count": 42
        }
      ],
      "source": [
        "from keras.layers.preprocessing import normalization\n",
        "\n",
        "height = 299\n",
        "width = 299\n",
        "\n",
        "train_ds, val_ds = image_generator(height,width)\n",
        "\n",
        "tf.keras.backend.clear_session()\n",
        "input_shape = (height, width, 3)\n",
        "base_model = tf.keras.applications.DenseNet121(\n",
        "    weights='imagenet',\n",
        "    include_top=False,\n",
        "    input_shape=input_shape\n",
        ")\n",
        "base_model.trainable = False\n",
        "\n",
        "model_DenseNet_adam= tf.keras.Sequential()\n",
        "model_DenseNet_adam.add(base_model)\n",
        "model_DenseNet_adam.add(tf.keras.layers.Flatten())\n",
        "model_DenseNet_adam.add(tf.keras.layers.Dense(1, activation='sigmoid'))\n",
        "\n",
        "model_DenseNet_adam.compile(\n",
        "                    loss='binary_crossentropy',\n",
        "                    optimizer=tf.keras.optimizers.Adam(0.001),\n",
        "                    metrics=['acc']\n",
        ")\n",
        "model_DenseNet_adam.summary()\n",
        "keras.utils.plot_model(model_DenseNet_adam, \"inceptionV3+xception.png\", show_shapes=True)"
      ]
    },
    {
      "cell_type": "code",
      "execution_count": null,
      "metadata": {
        "execution": {
          "iopub.execute_input": "2022-07-18T15:27:43.306689Z",
          "iopub.status.busy": "2022-07-18T15:27:43.306187Z",
          "iopub.status.idle": "2022-07-18T15:30:56.327557Z",
          "shell.execute_reply": "2022-07-18T15:30:56.324033Z"
        },
        "papermill": {
          "duration": 193.079579,
          "end_time": "2022-07-18T15:30:56.330877",
          "exception": false,
          "start_time": "2022-07-18T15:27:43.251298",
          "status": "completed"
        },
        "tags": [],
        "colab": {
          "base_uri": "https://localhost:8080/"
        },
        "outputId": "f1925b09-b592-4a50-e3eb-629e6bf11e54",
        "id": "TalMPlD7oOuk"
      },
      "outputs": [
        {
          "output_type": "stream",
          "name": "stdout",
          "text": [
            "Epoch 1/25\n",
            "26/26 [==============================] - 47s 1s/step - loss: 1.6435 - acc: 0.7878 - val_loss: 0.0238 - val_acc: 0.9975 - lr: 0.0010\n",
            "Epoch 2/25\n",
            "26/26 [==============================] - 16s 617ms/step - loss: 0.3223 - acc: 0.9513 - val_loss: 0.0187 - val_acc: 0.9926 - lr: 0.0010\n",
            "Epoch 3/25\n",
            "26/26 [==============================] - 19s 737ms/step - loss: 0.1354 - acc: 0.9747 - val_loss: 0.0119 - val_acc: 0.9975 - lr: 0.0010\n",
            "Epoch 4/25\n",
            "26/26 [==============================] - 16s 600ms/step - loss: 0.0627 - acc: 0.9864 - val_loss: 0.0187 - val_acc: 0.9951 - lr: 0.0010\n",
            "Epoch 5/25\n",
            "26/26 [==============================] - 16s 611ms/step - loss: 0.0109 - acc: 0.9963 - val_loss: 0.0079 - val_acc: 0.9951 - lr: 0.0010\n",
            "Epoch 6/25\n",
            "26/26 [==============================] - 16s 617ms/step - loss: 0.0035 - acc: 0.9994 - val_loss: 0.0066 - val_acc: 0.9951 - lr: 0.0010\n",
            "Epoch 7/25\n",
            "26/26 [==============================] - 16s 608ms/step - loss: 0.0012 - acc: 1.0000 - val_loss: 0.0034 - val_acc: 1.0000 - lr: 0.0010\n",
            "Epoch 8/25\n",
            "26/26 [==============================] - 16s 610ms/step - loss: 7.6043e-04 - acc: 1.0000 - val_loss: 0.0028 - val_acc: 1.0000 - lr: 0.0010\n",
            "Epoch 9/25\n",
            "26/26 [==============================] - 16s 616ms/step - loss: 6.7104e-04 - acc: 1.0000 - val_loss: 0.0030 - val_acc: 1.0000 - lr: 0.0010\n",
            "Epoch 10/25\n",
            "26/26 [==============================] - 16s 597ms/step - loss: 5.3005e-04 - acc: 1.0000 - val_loss: 0.0041 - val_acc: 0.9975 - lr: 0.0010\n",
            "Epoch 11/25\n",
            "26/26 [==============================] - 16s 604ms/step - loss: 4.7102e-04 - acc: 1.0000 - val_loss: 0.0038 - val_acc: 0.9975 - lr: 3.0000e-04\n",
            "Epoch 12/25\n",
            "26/26 [==============================] - 16s 601ms/step - loss: 4.5275e-04 - acc: 1.0000 - val_loss: 0.0033 - val_acc: 0.9975 - lr: 3.0000e-04\n",
            "Epoch 13/25\n",
            "26/26 [==============================] - 16s 611ms/step - loss: 4.4194e-04 - acc: 1.0000 - val_loss: 0.0035 - val_acc: 0.9975 - lr: 3.0000e-04\n"
          ]
        }
      ],
      "source": [
        "# aug_train_ds = augmentataion_generator(height,width)\n",
        "\n",
        "early = tf.keras.callbacks.EarlyStopping(monitor=\"val_loss\", mode=\"min\",restore_best_weights=True, patience=5)\n",
        "\n",
        "reduce_lr = tf.keras.callbacks.ReduceLROnPlateau(monitor='acc', factor=0.3,patience=3, min_lr=0.00001)\n",
        "\n",
        "callbacks_list = [early,reduce_lr]\n",
        "\n",
        "history = model_DenseNet_adam.fit(\n",
        "        train_ds,\n",
        "        validation_data=val_ds,\n",
        "        epochs=25,\n",
        "        #shuffle=True,\n",
        "        verbose=True,\n",
        "        callbacks=callbacks_list)"
      ]
    },
    {
      "cell_type": "code",
      "execution_count": null,
      "metadata": {
        "execution": {
          "iopub.execute_input": "2022-07-18T15:27:39.563455Z",
          "iopub.status.busy": "2022-07-18T15:27:39.563007Z",
          "iopub.status.idle": "2022-07-18T15:27:42.538217Z",
          "shell.execute_reply": "2022-07-18T15:27:42.536211Z"
        },
        "papermill": {
          "duration": 3.031406,
          "end_time": "2022-07-18T15:27:42.540652",
          "exception": false,
          "start_time": "2022-07-18T15:27:39.509246",
          "status": "completed"
        },
        "tags": [],
        "colab": {
          "base_uri": "https://localhost:8080/",
          "height": 148
        },
        "outputId": "ec4fa206-8afe-4421-afc5-788a5beb92f2",
        "id": "0ozZ9OMYoOuk"
      },
      "outputs": [
        {
          "output_type": "stream",
          "name": "stdout",
          "text": [
            "26/26 [==============================] - 14s 522ms/step - loss: 6.4722e-04 - acc: 1.0000\n",
            "7/7 [==============================] - 4s 556ms/step - loss: 0.0028 - acc: 1.0000\n"
          ]
        },
        {
          "output_type": "execute_result",
          "data": {
            "text/plain": [
              "         Train       Val\n",
              "Loss  0.000647  0.002793\n",
              "Acc   1.000000  1.000000"
            ],
            "text/html": [
              "\n",
              "  <div id=\"df-1b4d679e-c575-4142-9a12-fab2b8ab1470\">\n",
              "    <div class=\"colab-df-container\">\n",
              "      <div>\n",
              "<style scoped>\n",
              "    .dataframe tbody tr th:only-of-type {\n",
              "        vertical-align: middle;\n",
              "    }\n",
              "\n",
              "    .dataframe tbody tr th {\n",
              "        vertical-align: top;\n",
              "    }\n",
              "\n",
              "    .dataframe thead th {\n",
              "        text-align: right;\n",
              "    }\n",
              "</style>\n",
              "<table border=\"1\" class=\"dataframe\">\n",
              "  <thead>\n",
              "    <tr style=\"text-align: right;\">\n",
              "      <th></th>\n",
              "      <th>Train</th>\n",
              "      <th>Val</th>\n",
              "    </tr>\n",
              "  </thead>\n",
              "  <tbody>\n",
              "    <tr>\n",
              "      <th>Loss</th>\n",
              "      <td>0.000647</td>\n",
              "      <td>0.002793</td>\n",
              "    </tr>\n",
              "    <tr>\n",
              "      <th>Acc</th>\n",
              "      <td>1.000000</td>\n",
              "      <td>1.000000</td>\n",
              "    </tr>\n",
              "  </tbody>\n",
              "</table>\n",
              "</div>\n",
              "      <button class=\"colab-df-convert\" onclick=\"convertToInteractive('df-1b4d679e-c575-4142-9a12-fab2b8ab1470')\"\n",
              "              title=\"Convert this dataframe to an interactive table.\"\n",
              "              style=\"display:none;\">\n",
              "        \n",
              "  <svg xmlns=\"http://www.w3.org/2000/svg\" height=\"24px\"viewBox=\"0 0 24 24\"\n",
              "       width=\"24px\">\n",
              "    <path d=\"M0 0h24v24H0V0z\" fill=\"none\"/>\n",
              "    <path d=\"M18.56 5.44l.94 2.06.94-2.06 2.06-.94-2.06-.94-.94-2.06-.94 2.06-2.06.94zm-11 1L8.5 8.5l.94-2.06 2.06-.94-2.06-.94L8.5 2.5l-.94 2.06-2.06.94zm10 10l.94 2.06.94-2.06 2.06-.94-2.06-.94-.94-2.06-.94 2.06-2.06.94z\"/><path d=\"M17.41 7.96l-1.37-1.37c-.4-.4-.92-.59-1.43-.59-.52 0-1.04.2-1.43.59L10.3 9.45l-7.72 7.72c-.78.78-.78 2.05 0 2.83L4 21.41c.39.39.9.59 1.41.59.51 0 1.02-.2 1.41-.59l7.78-7.78 2.81-2.81c.8-.78.8-2.07 0-2.86zM5.41 20L4 18.59l7.72-7.72 1.47 1.35L5.41 20z\"/>\n",
              "  </svg>\n",
              "      </button>\n",
              "      \n",
              "  <style>\n",
              "    .colab-df-container {\n",
              "      display:flex;\n",
              "      flex-wrap:wrap;\n",
              "      gap: 12px;\n",
              "    }\n",
              "\n",
              "    .colab-df-convert {\n",
              "      background-color: #E8F0FE;\n",
              "      border: none;\n",
              "      border-radius: 50%;\n",
              "      cursor: pointer;\n",
              "      display: none;\n",
              "      fill: #1967D2;\n",
              "      height: 32px;\n",
              "      padding: 0 0 0 0;\n",
              "      width: 32px;\n",
              "    }\n",
              "\n",
              "    .colab-df-convert:hover {\n",
              "      background-color: #E2EBFA;\n",
              "      box-shadow: 0px 1px 2px rgba(60, 64, 67, 0.3), 0px 1px 3px 1px rgba(60, 64, 67, 0.15);\n",
              "      fill: #174EA6;\n",
              "    }\n",
              "\n",
              "    [theme=dark] .colab-df-convert {\n",
              "      background-color: #3B4455;\n",
              "      fill: #D2E3FC;\n",
              "    }\n",
              "\n",
              "    [theme=dark] .colab-df-convert:hover {\n",
              "      background-color: #434B5C;\n",
              "      box-shadow: 0px 1px 3px 1px rgba(0, 0, 0, 0.15);\n",
              "      filter: drop-shadow(0px 1px 2px rgba(0, 0, 0, 0.3));\n",
              "      fill: #FFFFFF;\n",
              "    }\n",
              "  </style>\n",
              "\n",
              "      <script>\n",
              "        const buttonEl =\n",
              "          document.querySelector('#df-1b4d679e-c575-4142-9a12-fab2b8ab1470 button.colab-df-convert');\n",
              "        buttonEl.style.display =\n",
              "          google.colab.kernel.accessAllowed ? 'block' : 'none';\n",
              "\n",
              "        async function convertToInteractive(key) {\n",
              "          const element = document.querySelector('#df-1b4d679e-c575-4142-9a12-fab2b8ab1470');\n",
              "          const dataTable =\n",
              "            await google.colab.kernel.invokeFunction('convertToInteractive',\n",
              "                                                     [key], {});\n",
              "          if (!dataTable) return;\n",
              "\n",
              "          const docLinkHtml = 'Like what you see? Visit the ' +\n",
              "            '<a target=\"_blank\" href=https://colab.research.google.com/notebooks/data_table.ipynb>data table notebook</a>'\n",
              "            + ' to learn more about interactive tables.';\n",
              "          element.innerHTML = '';\n",
              "          dataTable['output_type'] = 'display_data';\n",
              "          await google.colab.output.renderOutput(dataTable, element);\n",
              "          const docLink = document.createElement('div');\n",
              "          docLink.innerHTML = docLinkHtml;\n",
              "          element.appendChild(docLink);\n",
              "        }\n",
              "      </script>\n",
              "    </div>\n",
              "  </div>\n",
              "  "
            ]
          },
          "metadata": {},
          "execution_count": 46
        }
      ],
      "source": [
        "train_result = model_DenseNet_adam.evaluate(train_ds)\n",
        "val_result = model_DenseNet_adam.evaluate(val_ds)\n",
        "\n",
        "augmented_df = pd.DataFrame(zip(train_result,val_result),columns=['Train','Val'],index=['Loss','Acc'])\n",
        "augmented_df"
      ]
    },
    {
      "cell_type": "code",
      "source": [
        "# model_DenseNet_adam.save('/content/drive/MyDrive/STAAR/solved_model/model_DenseNet_adam.h5')"
      ],
      "metadata": {
        "id": "A8YKG1MeoOuk"
      },
      "execution_count": null,
      "outputs": []
    },
    {
      "cell_type": "code",
      "source": [
        "# Load the saved model\n",
        "from keras.models import load_model\n",
        "model_DenseNet_adam = load_model('/content/drive/MyDrive/STAAR/solved_model/model_DenseNet_adam.h5')"
      ],
      "metadata": {
        "id": "MkcRRWYEoOul"
      },
      "execution_count": null,
      "outputs": []
    },
    {
      "cell_type": "code",
      "source": [
        "# plot learning curve\n",
        "def plot_learning_curve(history):\n",
        "    acc = history.history['acc']\n",
        "    val_acc = history.history['val_acc']\n",
        "    loss = history.history['loss']\n",
        "    val_loss = history.history['val_loss']\n",
        "    epochs = range(len(acc))\n",
        "\n",
        "    plt.plot(epochs, acc, label='training acc')\n",
        "    plt.plot(epochs, val_acc, label='validation acc')\n",
        "    plt.xlabel('Epochs')\n",
        "    plt.ylabel('Accuracy-%')\n",
        "    plt.legend()\n",
        "    plt.figure()\n",
        "\n",
        "    plt.plot(epochs, loss, label='training loss')\n",
        "    plt.plot(epochs, val_loss, label='validation loss')\n",
        "    plt.xlabel('Epochs')\n",
        "    plt.ylabel('Loss')\n",
        "    plt.legend()\n",
        "\n",
        "plot_learning_curve(history)"
      ],
      "metadata": {
        "colab": {
          "base_uri": "https://localhost:8080/",
          "height": 881
        },
        "outputId": "5798184d-2161-45ac-bc43-2988ee2a7e3a",
        "id": "cdnphm2moOul"
      },
      "execution_count": null,
      "outputs": [
        {
          "output_type": "display_data",
          "data": {
            "text/plain": [
              "<Figure size 640x480 with 1 Axes>"
            ],
            "image/png": "[encoded data removed]"
          },
          "metadata": {}
        },
        {
          "output_type": "display_data",
          "data": {
            "text/plain": [
              "<Figure size 640x480 with 1 Axes>"
            ],
            "image/png": "[encoded data removed]"
          },
          "metadata": {}
        }
      ]
    },
    {
      "cell_type": "code",
      "source": [
        "# Load the testing dataset\n",
        "from tensorflow.keras.preprocessing.image import ImageDataGenerator\n",
        "\n",
        "test_dir = '/content/drive/MyDrive/STAAR/new_Brain_tumor/test1'\n",
        "img_size = (299, 299)\n",
        "batch_size = 64\n",
        "\n",
        "test_datagen = ImageDataGenerator(rescale=1./255) # or any other desired preprocessing\n",
        "test_ds = test_datagen.flow_from_directory(\n",
        "              test_dir,\n",
        "              shuffle=False,\n",
        "              class_mode='binary',\n",
        "              target_size=img_size,\n",
        "              batch_size=batch_size,\n",
        "              classes={'no': 0., 'yes': 1.}\n",
        "              )\n",
        "\n",
        "# print(test_data.shape)\n",
        "test_result = model_DenseNet_adam.evaluate(test_ds)\n",
        "augmented_df = pd.DataFrame(zip(test_result),columns=['Test'],index=['Loss','Acc'])\n",
        "augmented_df"
      ],
      "metadata": {
        "id": "FHzKG5jplQjB",
        "colab": {
          "base_uri": "https://localhost:8080/",
          "height": 148
        },
        "outputId": "fd759ca1-0cf4-436b-bc72-b313c8d7ea77"
      },
      "execution_count": null,
      "outputs": [
        {
          "output_type": "stream",
          "name": "stdout",
          "text": [
            "Found 200 images belonging to 2 classes.\n",
            "4/4 [==============================] - 14s 930ms/step - loss: 0.2934 - acc: 0.9200\n"
          ]
        },
        {
          "output_type": "execute_result",
          "data": {
            "text/plain": [
              "          Test\n",
              "Loss  0.293391\n",
              "Acc   0.920000"
            ],
            "text/html": [
              "\n",
              "  <div id=\"df-f164878a-aefb-49c4-939c-9a28faf71051\">\n",
              "    <div class=\"colab-df-container\">\n",
              "      <div>\n",
              "<style scoped>\n",
              "    .dataframe tbody tr th:only-of-type {\n",
              "        vertical-align: middle;\n",
              "    }\n",
              "\n",
              "    .dataframe tbody tr th {\n",
              "        vertical-align: top;\n",
              "    }\n",
              "\n",
              "    .dataframe thead th {\n",
              "        text-align: right;\n",
              "    }\n",
              "</style>\n",
              "<table border=\"1\" class=\"dataframe\">\n",
              "  <thead>\n",
              "    <tr style=\"text-align: right;\">\n",
              "      <th></th>\n",
              "      <th>Test</th>\n",
              "    </tr>\n",
              "  </thead>\n",
              "  <tbody>\n",
              "    <tr>\n",
              "      <th>Loss</th>\n",
              "      <td>0.293391</td>\n",
              "    </tr>\n",
              "    <tr>\n",
              "      <th>Acc</th>\n",
              "      <td>0.920000</td>\n",
              "    </tr>\n",
              "  </tbody>\n",
              "</table>\n",
              "</div>\n",
              "      <button class=\"colab-df-convert\" onclick=\"convertToInteractive('df-f164878a-aefb-49c4-939c-9a28faf71051')\"\n",
              "              title=\"Convert this dataframe to an interactive table.\"\n",
              "              style=\"display:none;\">\n",
              "        \n",
              "  <svg xmlns=\"http://www.w3.org/2000/svg\" height=\"24px\"viewBox=\"0 0 24 24\"\n",
              "       width=\"24px\">\n",
              "    <path d=\"M0 0h24v24H0V0z\" fill=\"none\"/>\n",
              "    <path d=\"M18.56 5.44l.94 2.06.94-2.06 2.06-.94-2.06-.94-.94-2.06-.94 2.06-2.06.94zm-11 1L8.5 8.5l.94-2.06 2.06-.94-2.06-.94L8.5 2.5l-.94 2.06-2.06.94zm10 10l.94 2.06.94-2.06 2.06-.94-2.06-.94-.94-2.06-.94 2.06-2.06.94z\"/><path d=\"M17.41 7.96l-1.37-1.37c-.4-.4-.92-.59-1.43-.59-.52 0-1.04.2-1.43.59L10.3 9.45l-7.72 7.72c-.78.78-.78 2.05 0 2.83L4 21.41c.39.39.9.59 1.41.59.51 0 1.02-.2 1.41-.59l7.78-7.78 2.81-2.81c.8-.78.8-2.07 0-2.86zM5.41 20L4 18.59l7.72-7.72 1.47 1.35L5.41 20z\"/>\n",
              "  </svg>\n",
              "      </button>\n",
              "      \n",
              "  <style>\n",
              "    .colab-df-container {\n",
              "      display:flex;\n",
              "      flex-wrap:wrap;\n",
              "      gap: 12px;\n",
              "    }\n",
              "\n",
              "    .colab-df-convert {\n",
              "      background-color: #E8F0FE;\n",
              "      border: none;\n",
              "      border-radius: 50%;\n",
              "      cursor: pointer;\n",
              "      display: none;\n",
              "      fill: #1967D2;\n",
              "      height: 32px;\n",
              "      padding: 0 0 0 0;\n",
              "      width: 32px;\n",
              "    }\n",
              "\n",
              "    .colab-df-convert:hover {\n",
              "      background-color: #E2EBFA;\n",
              "      box-shadow: 0px 1px 2px rgba(60, 64, 67, 0.3), 0px 1px 3px 1px rgba(60, 64, 67, 0.15);\n",
              "      fill: #174EA6;\n",
              "    }\n",
              "\n",
              "    [theme=dark] .colab-df-convert {\n",
              "      background-color: #3B4455;\n",
              "      fill: #D2E3FC;\n",
              "    }\n",
              "\n",
              "    [theme=dark] .colab-df-convert:hover {\n",
              "      background-color: #434B5C;\n",
              "      box-shadow: 0px 1px 3px 1px rgba(0, 0, 0, 0.15);\n",
              "      filter: drop-shadow(0px 1px 2px rgba(0, 0, 0, 0.3));\n",
              "      fill: #FFFFFF;\n",
              "    }\n",
              "  </style>\n",
              "\n",
              "      <script>\n",
              "        const buttonEl =\n",
              "          document.querySelector('#df-f164878a-aefb-49c4-939c-9a28faf71051 button.colab-df-convert');\n",
              "        buttonEl.style.display =\n",
              "          google.colab.kernel.accessAllowed ? 'block' : 'none';\n",
              "\n",
              "        async function convertToInteractive(key) {\n",
              "          const element = document.querySelector('#df-f164878a-aefb-49c4-939c-9a28faf71051');\n",
              "          const dataTable =\n",
              "            await google.colab.kernel.invokeFunction('convertToInteractive',\n",
              "                                                     [key], {});\n",
              "          if (!dataTable) return;\n",
              "\n",
              "          const docLinkHtml = 'Like what you see? Visit the ' +\n",
              "            '<a target=\"_blank\" href=https://colab.research.google.com/notebooks/data_table.ipynb>data table notebook</a>'\n",
              "            + ' to learn more about interactive tables.';\n",
              "          element.innerHTML = '';\n",
              "          dataTable['output_type'] = 'display_data';\n",
              "          await google.colab.output.renderOutput(dataTable, element);\n",
              "          const docLink = document.createElement('div');\n",
              "          docLink.innerHTML = docLinkHtml;\n",
              "          element.appendChild(docLink);\n",
              "        }\n",
              "      </script>\n",
              "    </div>\n",
              "  </div>\n",
              "  "
            ]
          },
          "metadata": {},
          "execution_count": 14
        }
      ]
    },
    {
      "cell_type": "code",
      "source": [
        "# # Load the testing dataset\n",
        "# from tensorflow.keras.preprocessing.image import ImageDataGenerator\n",
        "\n",
        "# test_dir = '/content/drive/MyDrive/STAAR/new_Brain_tumor/test1'\n",
        "# img_size = (299, 299)\n",
        "# batch_size = 64\n",
        "\n",
        "# test_datagen = ImageDataGenerator(rescale=1./255) # or any other desired preprocessing\n",
        "# test_data = test_datagen.flow_from_directory(\n",
        "#               test_dir,\n",
        "#               shuffle=True,\n",
        "#               class_mode='binary',\n",
        "#               target_size=img_size,\n",
        "#               batch_size=batch_size,\n",
        "#               classes={'no': 0., 'yes': 1.}\n",
        "#               )\n",
        "\n",
        "# # # print(test_data.shape)\n",
        "# # test_result = model_DenseNet_adam.evaluate(test_data)\n",
        "# # augmented_df = pd.DataFrame(zip(test_result),columns=['Test'],index=['Loss','Acc'])\n",
        "# # augmented_df\n"
      ],
      "metadata": {
        "colab": {
          "base_uri": "https://localhost:8080/"
        },
        "outputId": "d99628e2-cc05-4d05-8e9e-e555cb4722aa",
        "id": "LWPPYfzMoOul"
      },
      "execution_count": null,
      "outputs": [
        {
          "output_type": "stream",
          "name": "stdout",
          "text": [
            "Found 200 images belonging to 2 classes.\n"
          ]
        }
      ]
    },
    {
      "cell_type": "code",
      "source": [
        "# Load the testing dataset\n",
        "from tensorflow.keras.preprocessing.image import ImageDataGenerator\n",
        "\n",
        "test_dir = '/content/drive/MyDrive/STAAR/new_Brain_tumor/test1'\n",
        "img_size = (224, 224)\n",
        "batch_size = 64\n",
        "\n",
        "test_datagen = ImageDataGenerator(rescale=1./255) # or any other desired preprocessing\n",
        "test_data2 = test_datagen.flow_from_directory(\n",
        "              test_dir,\n",
        "              shuffle=True,\n",
        "              class_mode='binary',\n",
        "              target_size=img_size,\n",
        "              batch_size=batch_size,\n",
        "              classes={'no': 0., 'yes': 1.}\n",
        "              )"
      ],
      "metadata": {
        "colab": {
          "base_uri": "https://localhost:8080/"
        },
        "id": "cfI-_jwsUmEP",
        "outputId": "802ac6af-9493-4eb7-c31a-c75bb5f2e688"
      },
      "execution_count": null,
      "outputs": [
        {
          "output_type": "stream",
          "name": "stdout",
          "text": [
            "Found 200 images belonging to 2 classes.\n"
          ]
        }
      ]
    },
    {
      "cell_type": "code",
      "source": [],
      "metadata": {
        "id": "oN9EDL5BJIGa"
      },
      "execution_count": null,
      "outputs": []
    },
    {
      "cell_type": "code",
      "source": [
        "import numpy as np\n",
        "import matplotlib.pyplot as plt\n",
        "from sklearn.metrics import roc_curve, auc\n",
        "\n",
        "# Assuming you have predicted probabilities and true labels for each model\n",
        "model1_predictions = model_inceptionv3_adam.predict(test_data[0][0])\n",
        "model2_predictions = model_Inception_VGG19_adam.predict(test_data[0][0])\n",
        "model3_predictions = model_Inception_VGG16_adam.predict(test_data[0][0])\n",
        "model4_predictions = model_Inception_Xception_adam.predict(test_data[0][0])\n",
        "model5_predictions = model_VGG19_adam.predict(test_data[0][0])\n",
        "model6_predictions = model_VGG16_XCEPTION.predict(test_data[0][0])\n",
        "model7_predictions = model_VGG16_adam.predict(test_data[0][0])\n",
        "model8_predictions = model_DenseNet_adam.predict(test_data[0][0])\n",
        "\n",
        "\n",
        "# true_labels = test_data.labels # Replace with true labels for the test dataset\n",
        "\n",
        "ytest = test_data[0][-1]\n",
        "\n",
        "true_labels = ytest\n",
        "\n",
        "# List to store the FPR, TPR, and AUC for each model\n",
        "fpr_list = []\n",
        "tpr_list = []\n",
        "auc_list = []\n",
        "\n",
        "# Compute ROC curves and AUC for each model\n",
        "for predictions in [model1_predictions, model2_predictions, model3_predictions, model4_predictions, model5_predictions, model6_predictions, model7_predictions, model8_predictions]:\n",
        "    fpr, tpr, _ = roc_curve(true_labels, predictions)\n",
        "    auc_score = auc(fpr, tpr)\n",
        "    fpr_list.append(fpr)\n",
        "    tpr_list.append(tpr)\n",
        "    auc_list.append(auc_score)\n",
        "\n",
        "# Plot the ROC curves for each model\n",
        "plt.figure()\n",
        "colors = ['b', 'g', 'r', 'c', 'm', 'y', 'k', 'gray']\n",
        "\n",
        "plt.plot(fpr_list[0], tpr_list[0], color=colors[0], lw=2, label=f'inceptionv3 (AUC = {auc_list[0]:.2f})')\n",
        "plt.plot(fpr_list[1], tpr_list[1], color=colors[1], lw=2, label=f'Inception+VGG19 (AUC = {auc_list[1]:.2f})')\n",
        "plt.plot(fpr_list[2], tpr_list[2], color=colors[2], lw=2, label=f'Inception+VGG16 (AUC = {auc_list[2]:.2f})')\n",
        "# plt.plot(fpr_list[3], tpr_list[3], color=colors[3], lw=2, label=f'Inception+Xception (AUC = {auc_list[3]:.2f})')\n",
        "plt.plot(fpr_list[4], tpr_list[4], color=colors[4], lw=2, label=f'VGG19 (AUC = {auc_list[4]:.2f})')\n",
        "plt.plot(fpr_list[5], tpr_list[5], color=colors[5], lw=2, label=f'VGG16+XCEPTION (AUC = {auc_list[5]:.2f})')\n",
        "plt.plot(fpr_list[6], tpr_list[6], color=colors[6], lw=2, label=f'VGG16 (AUC = {auc_list[6]:.2f})')\n",
        "# plt.plot(fpr_list[7], tpr_list[7], color=colors[7], lw=2, label=f'DenseNet (AUC = {auc_list[7]:.2f})')\n",
        "\n",
        "# Plot the random classifier line\n",
        "plt.plot([0, 1], [0, 1], color='navy', lw=2, linestyle='--')\n",
        "\n",
        "# Set plot properties\n",
        "plt.xlim([-0.05, 1.0])\n",
        "plt.ylim([0.0, 1.05])\n",
        "plt.xlabel('False Positive Rate')\n",
        "plt.ylabel('True Positive Rate')\n",
        "plt.title('Receiver Operating Characteristic')\n",
        "plt.legend(fontsize=\"9\",loc='lower right')\n",
        "\n",
        "# Show the plot\n",
        "plt.show()"
      ],
      "metadata": {
        "colab": {
          "base_uri": "https://localhost:8080/",
          "height": 618
        },
        "id": "Krg0fwa7vOzT",
        "outputId": "478de4ae-5b0f-4fa5-ad82-e705254b8ecd"
      },
      "execution_count": null,
      "outputs": [
        {
          "output_type": "stream",
          "name": "stdout",
          "text": [
            "2/2 [==============================] - 0s 161ms/step\n",
            "2/2 [==============================] - 0s 405ms/step\n",
            "2/2 [==============================] - 0s 355ms/step\n",
            "2/2 [==============================] - 0s 341ms/step\n",
            "2/2 [==============================] - 0s 302ms/step\n",
            "2/2 [==============================] - 1s 466ms/step\n",
            "2/2 [==============================] - 0s 243ms/step\n",
            "2/2 [==============================] - 0s 156ms/step\n"
          ]
        },
        {
          "output_type": "display_data",
          "data": {
            "text/plain": [
              "<Figure size 640x480 with 1 Axes>"
            ],
            "image/png": "[encoded data removed]"
          },
          "metadata": {}
        }
      ]
    },
    {
      "cell_type": "code",
      "source": [
        "# import numpy as np\n",
        "# import matplotlib.pyplot as plt\n",
        "# from sklearn.metrics import roc_curve, auc\n",
        "\n",
        "# # Assuming you have predicted probabilities and true labels for each model\n",
        "# model1_predictions = model_inceptionv3_adam.predict(test_data[0][0])\n",
        "# model2_predictions = model_Inception_VGG19_adam.predict(test_data[0][0])\n",
        "# model3_predictions = model_Inception_VGG16_adam.predict(test_data[0][0])\n",
        "# model4_predictions = model_Inception_Xception_adam.predict(test_data[0][0])\n",
        "# model5_predictions = model_VGG19_adam.predict(test_data[0][0])\n",
        "# model6_predictions = model_VGG16_XCEPTION.predict(test_data2[0][0])\n",
        "# model7_predictions = model_VGG16_adam.predict(test_data[0][0])\n",
        "# model8_predictions = model_DenseNet_adam.predict(test_data[0][0])\n",
        "\n",
        "\n",
        "# # true_labels = test_data.labels # Replace with true labels for the test dataset\n",
        "\n",
        "# ytest = test_data[0][-1]\n",
        "\n",
        "# true_labels = ytest\n",
        "\n",
        "# # List to store the FPR, TPR, and AUC for each model\n",
        "# fpr_list = []\n",
        "# tpr_list = []\n",
        "# auc_list = []\n",
        "\n",
        "# # Compute ROC curves and AUC for each model\n",
        "# for predictions in [model1_predictions, model2_predictions, model3_predictions, model4_predictions, model5_predictions, model6_predictions, model7_predictions, model8_predictions]:\n",
        "#     fpr, tpr, _ = roc_curve(true_labels, predictions)\n",
        "#     auc_score = auc(fpr, tpr)\n",
        "#     fpr_list.append(fpr)\n",
        "#     tpr_list.append(tpr)\n",
        "#     auc_list.append(auc_score)\n",
        "\n",
        "# # Plot the ROC curves for each model\n",
        "# plt.figure()\n",
        "# colors = ['b', 'g', 'r', 'c', 'm', 'y', 'k', 'gray']\n",
        "# for i in range(len(fpr_list)):\n",
        "#     plt.plot(fpr_list[i], tpr_list[i], color=colors[i], lw=2, label=f'Model {i+1} (AUC = {auc_list[i]:.2f})')\n",
        "#     # plt.plot(fpr_list[i], tpr_list[i], color=colors[i], lw=2, label=f'Model {i+1}')\n",
        "\n",
        "# # Plot the random classifier line\n",
        "# plt.plot([0, 1], [0, 1], color='navy', lw=2, linestyle='--')\n",
        "\n",
        "# # Set plot properties\n",
        "# plt.xlim([-0.05, 1.0])\n",
        "# plt.ylim([0.0, 1.05])\n",
        "# plt.xlabel('False Positive Rate')\n",
        "# plt.ylabel('True Positive Rate')\n",
        "# plt.title('Receiver Operating Characteristic')\n",
        "# plt.legend(loc='lower right')\n",
        "\n",
        "# # Show the plot\n",
        "# plt.show()"
      ],
      "metadata": {
        "colab": {
          "base_uri": "https://localhost:8080/",
          "height": 618
        },
        "id": "oRxIzG9LdIq_",
        "outputId": "5b8aef0a-fa0f-43c1-bcd1-e7429e570cc7"
      },
      "execution_count": null,
      "outputs": [
        {
          "output_type": "stream",
          "name": "stdout",
          "text": [
            "2/2 [==============================] - 0s 167ms/step\n",
            "2/2 [==============================] - 0s 388ms/step\n",
            "2/2 [==============================] - 0s 349ms/step\n",
            "2/2 [==============================] - 0s 347ms/step\n",
            "2/2 [==============================] - 0s 283ms/step\n",
            "2/2 [==============================] - 2s 485ms/step\n",
            "2/2 [==============================] - 0s 228ms/step\n",
            "2/2 [==============================] - 0s 155ms/step\n"
          ]
        },
        {
          "output_type": "display_data",
          "data": {
            "text/plain": [
              "<Figure size 640x480 with 1 Axes>"
            ],
            "image/png": "[encoded data removed]"
          },
          "metadata": {}
        }
      ]
    }
  ]
}